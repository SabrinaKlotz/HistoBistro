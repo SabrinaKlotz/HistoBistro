{
 "cells": [
  {
<<<<<<< HEAD
   "cell_type": "code",
   "execution_count": 1,
   "id": "fbe09984",
   "metadata": {},
   "outputs": [],
=======
   "attachments": {},
   "cell_type": "markdown",
   "id": "c97fe7ca",
   "metadata": {},
   "source": [
    "# Notebook to analyze and visualize results\n",
    "\n",
    "Implemented are\n",
    "* plotting of \n",
    "    * receiver-operator-curves (ROC)\n",
    "    * precision-recall-curves (PRC)\n",
    "    * confusion matrices\n",
    "* sensitivity / specificity / negative predictive value analysis\n",
    "* data distributions for properties such as classes, tiles, age\n",
    "* analysis of clinicopathological fetures (via plotting of AUROCs)"
   ]
  },
  {
   "attachments": {},
   "cell_type": "markdown",
   "id": "b2305238",
   "metadata": {},
   "source": [
    "## Setup"
   ]
  },
  {
   "cell_type": "code",
   "execution_count": 14,
   "id": "fbe09984",
   "metadata": {},
   "outputs": [
    {
     "name": "stdout",
     "output_type": "stream",
     "text": [
      "The autoreload extension is already loaded. To reload it, use:\n",
      "  %reload_ext autoreload\n"
     ]
    }
   ],
>>>>>>> bb405d15eaa03ce2e1ed24c9fbcb9146a0988912
   "source": [
    "%load_ext autoreload\n",
    "%autoreload 2\n",
    "\n",
<<<<<<< HEAD
=======
    "import argparse\n",
>>>>>>> bb405d15eaa03ce2e1ed24c9fbcb9146a0988912
    "from pathlib import Path\n",
    "import numpy as np\n",
    "import matplotlib.pyplot as plt\n",
    "import matplotlib.pylab as pl\n",
    "import pandas as pd\n",
    "from tqdm import tqdm\n",
    "from sklearn.metrics import roc_curve, roc_auc_score, auc, precision_recall_curve, average_precision_score, confusion_matrix\n",
    "import yaml\n",
<<<<<<< HEAD
=======
    "\n",
>>>>>>> bb405d15eaa03ce2e1ed24c9fbcb9146a0988912
    "from options import Options\n",
    "from visualizations.receiver_operator_curve import plot_roc_curves_, plot_roc_curve, plot_roc_curves\n",
    "from visualizations.precision_recall_curve import plot_precision_recall_curve, plot_precision_recall_curves, plot_precision_recall_curves_"
   ]
  },
  {
   "cell_type": "code",
<<<<<<< HEAD
   "execution_count": null,
   "id": "9ff93680",
   "metadata": {},
   "outputs": [],
   "source": [
    "import argparse\n",
    "\n",
    "\n",
=======
   "execution_count": 15,
   "id": "9ff93680",
   "metadata": {},
   "outputs": [
    {
     "name": "stdout",
     "output_type": "stream",
     "text": [
      "\n",
      "--- load options ---\n",
      "bs: 1\n",
      "clini_info: {}\n",
      "cohorts: ['MCO']\n",
      "criterion: BCEWithLogitsLoss\n",
      "data_config: /home/haicu/sophia.wagner/projects/idkidc/data_config.yaml\n",
      "debug: False\n",
      "ext_cohorts: ['MCO', 'DACHS', 'QUASAR', 'RAINBOW', 'TCGA', 'Epi700', 'CPTAC', 'DUSSEL', 'MECC', 'MUNICH', 'YCR-BCIP-resections', 'YCR-BCIP-biopsies', 'FOXTROT', 'MAINZ']\n",
      "feats: ctranspath\n",
      "folds: 5\n",
      "input_dim: 768\n",
      "lr: 2e-05\n",
      "model: transformer\n",
      "name: debug\n",
      "norm: macenko\n",
      "num_classes: 1\n",
      "num_epochs: 1\n",
      "num_tiles: -1\n",
      "optimizer: AdamW\n",
      "pad_tiles: False\n",
      "project: hackathon\n",
      "resume: None\n",
      "save_dir: /lustre/groups/peng/workspace/sophia.wagner/logs/idkidc\n",
      "scheduler: None\n",
      "seed: None\n",
      "stop_criterion: loss\n",
      "target: isMSIH\n",
      "task: binary\n",
      "val_check_interval: 500\n",
      "wd: 2e-05\n"
     ]
    }
   ],
   "source": [
>>>>>>> bb405d15eaa03ce2e1ed24c9fbcb9146a0988912
    "parser = Options()\n",
    "args = parser.parser.parse_args('')  \n",
    "\n",
    "# Load the configuration from the YAML file\n",
    "with open(args.config_file, 'r') as f:\n",
    "    config = yaml.load(f, Loader=yaml.FullLoader)\n",
    "\n",
    "# Update the configuration with the values from the argument parser\n",
    "for arg_name, arg_value in vars(args).items():\n",
    "    if arg_value is not None and arg_name != 'config_file':\n",
    "        config[arg_name]['value'] = getattr(args, arg_name)\n",
    "\n",
    "# Create a flat config file without descriptions\n",
    "config = {k: v['value'] for k, v in config.items()}\n",
    "\n",
    "print('\\n--- load options ---')\n",
    "for name, value in sorted(config.items()):\n",
    "    print(f'{name}: {str(value)}')\n",
    "\n",
    "cfg = argparse.Namespace(**config)"
   ]
  },
  {
<<<<<<< HEAD
   "cell_type": "code",
   "execution_count": 19,
   "id": "6323b02b",
   "metadata": {},
   "outputs": [],
   "source": [
    "output_path = Path('/home/haicu/sophia.wagner/projects/idkidc/figures')"
=======
   "attachments": {},
   "cell_type": "markdown",
   "id": "a123f0ec",
   "metadata": {},
   "source": [
    "## Load predictions for runs"
>>>>>>> bb405d15eaa03ce2e1ed24c9fbcb9146a0988912
   ]
  },
  {
   "cell_type": "code",
<<<<<<< HEAD
   "execution_count": 142,
=======
   "execution_count": 16,
>>>>>>> bb405d15eaa03ce2e1ed24c9fbcb9146a0988912
   "id": "cdfb3873",
   "metadata": {},
   "outputs": [],
   "source": [
    "cfg.name = 'multi-all-cohorts-every1000'\n",
<<<<<<< HEAD
    "# cfg.cohorts = ['DACHS', 'QUASAR', 'RAINBOW', 'TCGA']\n",
    "cfg.cohorts = ['DACHS', 'QUASAR', 'RAINBOW', 'TCGA', 'MCO']\n",
    "cfg.cohorts = ['CPTAC', 'DACHS', 'DUSSEL', 'Epi700', 'ERLANGEN', 'FOXTROT', 'MCO', 'MECC', 'MUNICH', 'QUASAR', 'RAINBOW', 'TCGA', 'TRANSCOT']\n",
    "# cfg.norm = 'macenko'\n",
    "cfg.norm = 'histaugan'\n",
    "cfg.target = 'isMSIH'\n",
    "# cfg.target = 'KRAS'\n",
    "\n",
    "cfg.logging_name = f'{cfg.name}_{cfg.model}_{\"-\".join(cfg.cohorts)}_{cfg.norm}_{cfg.target}'\n",
    "base_path = Path(cfg.save_dir) / cfg.logging_name\n",
    "result_path = base_path / 'results'\n",
    "\n",
    "# test_cohorts = 'YCR-BCIP-resections'\n",
    "# test_cohorts = 'YCR-BCIP-biopsies'\n",
    "test_cohorts = 'MAINZ'\n",
    "# test_cohorts = 'Epi700'\n",
    "csv_paths = result_path.glob(f'fold*/outputs_{test_cohorts}.csv')\n",
    "pred_csvs = list(csv_paths)\n",
    "\n",
    "# log_name = 'Rainbow-Quasar-Dachs-TCGA'\n",
    "# log_name = 'stad_epo8_again_BERN-STAD-LEEDS-STAD-TCGA-STAD-TUM-STAD' \n",
    "# log_name = 'ctranspath_8epo_vit-cls_rand867_Dachs-Quasar-Rainbow-TCGA_macenko' # model for MSI-H\n",
    "# log_name = 'ctranspath_8epo_vit-cls_Dachs-Quasar-Rainbow-TCGA_macenko'  # model for BRAF and KRAS\n",
    "# log_name = 'histaugan_vit-cls_Dachs-Quasar-Rainbow-TCGA_histaugan' # histaugan model for MSI-H\n",
    "# log_name = 'histaugan_rand867_vit-cls_Dachs-Quasar-Rainbow-TCGA_histaugan' # histaugan model for MSI-H\n",
    "# log_name = 'raw_rand867_vit-cls_Dachs-Quasar-Rainbow-TCGA_raw' # raw model for MSI-H\n",
    "# csv_dir = Path('/lustre/groups/peng/workspace/sophia.wagner/logs/bcos/outputs')\n",
    "# log_name = '_bcos_TCGA_raw' # raw model for MSI-H\n",
    "\n",
    "# log_name = 'ctranspath_epo32_Dachs-Quasar-Rainbow_macenko'\n",
    "# log_name = 'ctranspath_epo8_vit-cls_Dachs_macenko' # model for age < 50\n",
    "# log_name = 'ctranspath_epo8_vit-cls_Quasar_macenko' # model for age < 50\n",
    "# eval_name = 'Yorkshire-resections'\n",
    "# eval_name_label = 'YCR-BCIP'\n",
    "# eval_name = 'Yorkshire-biopsies'\n",
    "# eval_name_label = 'YCR-BCIP-biopsies'\n",
    "# eval_name = 'Quasar'\n",
    "# eval_name = 'Dachs'\n",
    "# eval_name = 'Belfast'\n",
    "# eval_name_label = 'Epi700'\n",
    "# eval_name = 'KIEL-STAD'\n",
    "# target_label = 'isMSIH'\n",
    "# target_label_name = 'MSI-H'\n",
    "# target_label = 'braf'\n",
    "# target_label_name = 'BRAF'\n",
    "# target_label = 'kras'\n",
    "# target_label_name = 'KRAS'\n",
    "# csv_paths = csv_dir.glob(f'outputs_{log_name}_{target_label}_fold*_eval_{eval_name}.csv')\n",
    "# csv_paths = csv_dir.glob('outputs_Rainbow-Quasar-Dachs-TCGA-Munich-MECC-Duessel_isMSIH_fold*_eval_Yorkshire_resections.csv')\n",
    "# output_path = Path('/home/haicu/sophia.wagner/projects/genetic_alteration_prediction/figures/histaugan') \n",
    "# pred_csvs = list(csv_paths)\n",
    "true_label=1"
   ]
  },
  {
   "cell_type": "markdown",
   "id": "27ce69b4",
   "metadata": {},
   "source": [
    "# Plot ROC curves"
=======
    "# cfg.name = 'multi-all-cohorts'\n",
    "# cfg.name = 'single'\n",
    "\n",
    "# cfg.cohorts = ['DACHS', 'QUASAR', 'RAINBOW', 'TCGA', 'MCO']\n",
    "cfg.cohorts = ['CPTAC', 'DACHS', 'DUSSEL', 'Epi700', 'ERLANGEN', 'FOXTROT', 'MCO', 'MECC', 'MUNICH', 'QUASAR', 'RAINBOW', 'TCGA', 'TRANSCOT']\n",
    "# cfg.cohorts = ['FOXTROT']\n",
    "\n",
    "cfg.target = 'isMSIH'\n",
    "# cfg.target = 'BRAF'\n",
    "# cfg.target = 'KRAS'\n",
    "true_label = 1\n",
    "\n",
    "cfg.norm = 'histaugan'\n",
    "\n",
    "cfg.logging_name = f'{cfg.name}_{cfg.model}_{\"-\".join(cfg.cohorts)}_{cfg.norm}_{cfg.target}'\n",
    "base_path = Path('/Volumes/SSD/logs/idkidc/') / cfg.logging_name\n",
    "# base_path = Path(cfg.save_dir) / cfg.logging_name\n",
    "result_path = base_path / 'results'\n"
>>>>>>> bb405d15eaa03ce2e1ed24c9fbcb9146a0988912
   ]
  },
  {
   "cell_type": "code",
<<<<<<< HEAD
   "execution_count": null,
   "id": "cf0208e7",
   "metadata": {},
   "outputs": [],
   "source": [
=======
   "execution_count": 23,
   "id": "42d0913d",
   "metadata": {},
   "outputs": [],
   "source": [
    "# --- choose training and test cohort\n",
    "# test_cohorts = 'YCR-BCIP-biopsies'\n",
    "test_cohorts = 'YCR-BCIP-resections'\n",
    "# test_cohorts = 'CHINA'\n",
    "# test_cohorts = 'Epi700'\n",
    "# test_cohorts = 'FOXTROT'\n",
    "csv_paths = result_path.glob(f'fold*/outputs_{test_cohorts}.csv')\n",
    "pred_csvs = list(csv_paths)\n",
    "\n",
    "# train_cohorts = 'DACHS, QUASAR, RAINBOW, TCGA, MCO'\n",
    "train_cohorts = 'CPTAC, DACHS, DUSSEL, Epi700, ERLANGEN, FOXTROT, MCO, MECC, MUNICH, QUASAR, RAINBOW, TCGA, TRANSCOT'\n",
    "# train_cohorts = 'FOXTROT'\n",
    "csv_paths_indomain = result_path.glob(f'fold*/outputs_{train_cohorts}.csv')\n",
    "pred_csvs_indomain = list(csv_paths_indomain)\n"
   ]
  },
  {
   "cell_type": "code",
   "execution_count": 24,
   "id": "1a75233c",
   "metadata": {},
   "outputs": [],
   "source": [
    "# load predictions for test cohort\n",
    "pred_dfs = [pd.read_csv(p, dtype=str) for p in pred_csvs]\n",
    "\n",
    "y_trues = [df['ground_truth'] == f'{true_label:.1f}' for df in pred_dfs]\n",
    "y_preds = [pd.to_numeric(df[f'logits']) for df in pred_dfs]"
   ]
  },
  {
   "cell_type": "code",
   "execution_count": 25,
   "id": "62570c47",
   "metadata": {},
   "outputs": [],
   "source": [
    "# load predictions for indomain test set\n",
    "pred_dfs_indomain = [pd.read_csv(p, dtype=str) for p in pred_csvs_indomain]\n",
    "\n",
    "y_trues_indomain = [df['ground_truth'] == f'{true_label:.1f}' for df in pred_dfs_indomain]\n",
    "y_preds_indomain = [pd.to_numeric(df[f'logits']) for df in pred_dfs_indomain]"
   ]
  },
  {
   "attachments": {},
   "cell_type": "markdown",
   "id": "27ce69b4",
   "metadata": {},
   "source": [
    "## Plot ROC curves"
   ]
  },
  {
   "cell_type": "code",
   "execution_count": 26,
   "id": "2252a9b0",
   "metadata": {},
   "outputs": [],
   "source": [
    "figure_path = Path('/Users/sophia.wagner/Documents/PhD/projects/2022_MSI_transformer/figures') / 'curves'"
   ]
  },
  {
   "cell_type": "code",
   "execution_count": 27,
   "id": "cf0208e7",
   "metadata": {},
   "outputs": [
    {
     "data": {
      "image/png": "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",
      "text/plain": [
       "<Figure size 400x400 with 1 Axes>"
      ]
     },
     "metadata": {},
     "output_type": "display_data"
    }
   ],
   "source": [
>>>>>>> bb405d15eaa03ce2e1ed24c9fbcb9146a0988912
    "pred_dfs = [pd.read_csv(p, dtype=str) for p in pred_csvs]\n",
    "\n",
    "y_trues = [df[\"ground_truth\"] == f'{true_label:.1f}' for df in pred_dfs]\n",
    "y_preds = [pd.to_numeric(df[f'logits']) for df in pred_dfs]\n",
    "title = f'{cfg.target} = {true_label}'\n",
    "\n",
    "fig, ax = plt.subplots(figsize=(4, 4))\n",
    "if len(pred_dfs) == 1:\n",
    "    plot_roc_curve(ax, y_trues[0], y_preds[0], title=title)\n",
    "else:\n",
    "    plot_roc_curves(ax, y_trues, y_preds, title=title)\n",
    "#     fig.savefig(Path(output_path)/f'roc-{target_label}={true_label}.svg')\n",
    "#     fig.savefig(output_path / f'auroc_{log_name}_{target_label}_{eval_name}.svg')\n",
    "    # plt.close(fig)\n",
    "plt.show()"
   ]
  },
  {
   "cell_type": "code",
<<<<<<< HEAD
   "execution_count": 144,
=======
   "execution_count": 32,
>>>>>>> bb405d15eaa03ce2e1ed24c9fbcb9146a0988912
   "id": "f61d776e",
   "metadata": {},
   "outputs": [
    {
<<<<<<< HEAD
     "data": {
      "image/png": "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",
      "text/plain": [
       "<Figure size 360x360 with 1 Axes>"
      ]
     },
     "metadata": {
      "needs_background": "light"
     },
=======
     "name": "stdout",
     "output_type": "stream",
     "text": [
      "[0.962124531424955, 0.9689158268828197, 0.9729321844116645, 0.9694269996592181, 0.9629764860522856]\n"
     ]
    },
    {
     "data": {
      "image/png": "iVBORw0KGgoAAAANSUhEUgAAAcoAAAHUCAYAAAC6QGg3AAAAOXRFWHRTb2Z0d2FyZQBNYXRwbG90bGliIHZlcnNpb24zLjcuMSwgaHR0cHM6Ly9tYXRwbG90bGliLm9yZy/bCgiHAAAACXBIWXMAAA9hAAAPYQGoP6dpAACDN0lEQVR4nO3dd1hTZ/sH8G8ISdh7IxtUXKi4reIEAW3rqNbauu1rta3Wjldf2zo67PRnnbVWrbZata5WQIYLrRtHHeBiqyAywwwkeX5/+Oa8BAKGkBDG/bmuXBc5OePOITl3nnGeh8cYYyCEEEKISgb6DoAQQghpzihREkIIIfWgREkIIYTUgxIlIYQQUg9KlIQQQkg9KFESQggh9aBESQghhNSDEiUhhBBSD0qUhBBCSD0oUdbhl19+AY/H4x6GhoZwdnbGq6++ivv376vcpqqqCps2bUL//v1haWkJY2Nj+Pv7Y/HixcjLy1O5jVwux6+//ooRI0bAzs4OAoEADg4OGD16NI4cOQK5XF5vnPn5+Xj11Vfh4OAAHo+Hl19+ubFvXaXU1FSYm5tj/PjxKl/fvXs3eDweNm/ezC07c+YMJk6cCFdXVwiFQlhaWmLAgAHYtGkTSktLufU8PT2VzrWpqSl69uyJ9evXQ52Bo2r+r3g8Huzt7TFkyBBERESo3CYlJQVvv/022rdvD2NjY5iYmKBz5874+OOP8ejRI2696dOnw8zMTGnbIUOGKB3L2NgYAQEBWLNmzXP/Xy1RWVkZli9fjlOnTtV6TXHu09LSmjwudSUnJ0MkEuH8+fPcst27d2PNmjX6C6qBzp07h+XLl6OwsLBR+xkyZAiGDBnSoG1OnTrFfdZ/+eUXlesMGzYMPB4Pnp6eSstLS0vx9ddfIyAgABYWFjA3N4ePjw8mTpyI+Pj4WsfYv38/t0zx2UpISFB5zNGjRysdr6qqCj4+Prr5vzKi0vbt2xkAtn37dnb+/Hl28uRJ9vnnnzNjY2Pm4ODA8vPzldYvLS1lQUFBjM/ns7feeotFRkayEydOsC+++IJZW1szNzc3dufOHaVtysvLWUhICOPxeGzy5Mls37597PTp0+zAgQNszpw5TCQSscOHD9cb58KFC5lQKGS//fYbO3/+PLt7967Wz4XCTz/9xACwXbt2KS3PyspiNjY2LCQkhFv26aefMgBswIABbOvWrezUqVMsKiqKffzxx8zBwYEtXLiQW9fDw4MNHDiQnT9/np0/f54dOHCADRw4kAFgX3zxxXPjqvm/OnfuHDt48CAbNmwYA8D++usvpfWPHDnCTE1NmYeHB/v222/ZsWPH2PHjx9maNWtYt27dWPfu3bl1p02bxkxNTZW2DwoKYt7e3ly8f/75JwsNDWUA2EcffdSgc9oSPH36lAFgy5Ytq/VaTk4OO3/+PKuoqGj6wNT08ssvs/DwcKVl4eHhzMPDQz8BaeDbb79lAFhqamqj9nP79m12+/btBm1z8uRJBoCZm5uzF154odbrKSkpjMfjMQsLC6VzKpVK2YABA5i5uTlbuXIli46OZtHR0WzdunUsODiYffbZZ7WO8ccff3DLFN/ry5cvq4xL1f/wl19+YdbW1iw3N7dB7/F5KFHWoa5/0ooVKxgAtm3bNqXlb775JgPA9uzZU2tfd+/eZZaWlqxz585MKpVyy9966y0GgO3YsUNlDPfu3WP//PNPvXGOGDGC+fv7q/u2nksul7OysrI6Xw8NDWU2Njbs8ePH3LIXX3yRWVtbs4cPHzLGGNu3bx8DwGbNmsXkcnmtfYjFYhYTE8M99/DwqHUhKyoqYpaWlszd3f25Mdf1vyorK2MikYhNnjyZW5aSksJMTU1Zjx49WGFhYa19yeVyduDAAe55XYmyc+fOSssqKyuZt7c3MzExYZWVlc+NueYx6zvn+lZfomzuEhMTGQAWHR2ttFxXiVJX/0dtJUpNKJLY7NmzGQB27949pdc//vhj1q5dOxYaGqp0Tk+cOKHyWqkgk8lqHaOxiVIikTAbGxu1fmA3BFW9NlCvXr0AAE+ePOGWZWdnY9u2bQgJCcGkSZNqbdO+fXv8+9//xu3bt3H48GFum59//hkhISGYOnWqymP5+fmhW7duKl9LS0sDj8fDsWPHkJSUxFWNKKrH8vPzMW/ePK7a09vbG0uXLoVEIlHaD4/Hw9tvv40ff/wR/v7+EIlE2LFjR53vf+vWrQCAN998EwDw66+/4q+//sL69evh6uoKAFi5ciWsra2xdu1a8Hi8WvswNzdHcHBwnccAAAsLC7Rv317pPDeUkZERhEIhBAIBt2z16tUoLS3Fxo0bYWlpWWsbHo+HcePGNfhYAoEAgYGBKCsrw9OnT+tdt75zfv/+fbz22mtwcHCASCSCv78/NmzYoLS9XC7H559/jg4dOsDY2BhWVlbo1q0bfvjhB6X11NkXABQWFuL999+Ht7c3RCIRHBwcEBYWhjt37iAtLQ329vYAgBUrVnCfs+nTpwOou+p127ZtCAgIgJGREWxsbDB27FgkJSUpraOo1n7w4AHCwsJgZmYGNzc3vP/++7U+p5s2bUJAQADMzMxgbm6Ojh074j//+U+951mxnZOTE0aOHMktGzJkCCIjI5Genq5Uha6wYsUK9O3bFzY2NrCwsEDPnj2xdevWWs0Anp6eGD16NA4ePIgePXrAyMgIK1asAADcvn0bwcHBMDExgb29PebPn4/IyEil76jCsWPHMHz4cFhYWMDExAQDBw7E8ePHudeXL1+ODz/8EADg5eVV67veEKqqXtU9tyNHjoSbmxu2bdvGLZPL5dixYwemTZsGAwPldKJobnJ2dlYZS831tUEoFGLSpEn46aef1Gq2URclygZKTU0F8Cz5KZw8eRJSqbTe9kHFa3Fxcdw2VVVVGrcpOjs74/z58+jRowe8vb1x/vx5nD9/Hj179kRFRQWGDh2KnTt3YtGiRYiMjMTrr7+Ob775RmUSOHz4MDZt2oRPP/0UMTExGDRoUL3H3bBhAyIiIrBq1SosWLAA48ePx2uvvQYAyMrKwq1bt7iLhKakUikyMzOVzvPzyGQySKVSVFVV4eHDh1i4cCFKS0u52AAgNjYWjo6O6Nevn8ax1SU5ORmGhoawtrZ+7rqqznliYiJ69+6NW7du4fvvv0dERATCw8Px7rvvchdgAPjmm2+wfPlyTJ48GZGRkdi7dy9mzZql1H6l7r6Ki4vxwgsvYPPmzZgxYwaOHDmCH3/8Ee3bt0dWVhacnZ0RHR0NAJg1axb3Ofvkk0/qfG+rVq3CrFmz0LlzZxw8eBA//PADbty4gf79+9dq36+qqsKLL76I4cOH488//8TMmTPxf//3f/j666+5dfbs2YN58+YhKCgIhw4dwuHDh/Hee+8ptXPXJTIyEoMHD1a6KG/cuBEDBw6Ek5MT936qt1+mpaXhX//6F/bt24eDBw9i3LhxeOedd/DZZ5/V2v/Vq1fx4Ycf4t1330V0dDTGjx+PrKwsBAUF4e7du9i0aRN27tyJ4uJivP3227W2/+233xAcHAwLCwvs2LED+/btg42NDUJCQrhkOXv2bLzzzjsAgIMHDyp914H//Vipq/2wPg05twYGBpg+fTp27twJmUwG4Nn36eHDh5gxY0at9Xv16gWBQIAFCxZg165dyMrKanB8wP++1zUfdSXCIUOGID09Hbdu3dLoeCpptXzaiiiK/RcuXGBVVVWsuLiYRUdHMycnJzZ48GBWVVXFrfvVV1+prN6prry8nAFgoaGham+jDlXVgD/++CMDwPbt26e0/Ouvv2YAWGxsLLcMALO0tKzV5vo8EydOZACYo6Mje/r0Kbf8woULDABbvHix2vvy8PBgYWFhrKqqilVVVbH09HQ2Z84cJhAIWERExHO3V/yvaj5EIhHbuHGj0rpGRkasX79+asdWX9WrIt7Hjx+zxYsXMwDslVdeee4+6zrnISEhrF27dqyoqEhp+dtvv82MjIy49UePHq3UjqqKuvtauXIlA8Di4uLq3Fd9Va+Kc6+oEiwoKGDGxsYsLCxMab2MjAwmEonYa6+9xi2bNm2ays9pWFgY69Chg1LMVlZW9b5fVZ48ecIAsK+++qrWa+pWvcpkMlZVVcVWrlzJbG1tlZoSPDw8GJ/Pr9Uv4MMPP2Q8Hq9WW2BISAgDwE6ePMkYe9avwcbGho0ZM6bWMQMCAlifPn24ZfVVve7YsYPx+fw6m3CqCwoKYkFBQdxzdc5t9WpRRXuk4nv5yiuvsCFDhjDGVJ/TrVu3MjMzM+476ezszKZOncpOnz5d5zEU6vpeV3+o+h/ev3+fAWCbNm167vlQF5Uon6Nfv34QCAQwNzfHqFGjYG1tjT///BOGhoYa7U9VVaS2nThxAqamppgwYYLSckV1WfVqHeBZjzV1SkHVrVy5EgDw7rvvws7OTvNg/ysqKgoCgQACgQAeHh7YsmUL1q1bh/DwcG4duVyu9ItS8atWYefOnbh8+TIuX76Mo0ePYtq0aZg/fz7Wr1/f6Phqun37Nhevi4sLvv/+e0yZMgVbtmwBUPtXcM3esDXPeUVFBY4fP46xY8fCxMREaduwsDBUVFTgwoULAIA+ffrgn3/+wbx58xATEwOxWKy074bs6+jRo2jfvj1GjBihlfNy/vx5lJeXc581BTc3NwwbNqzWZ4/H42HMmDFKy7p164b09HTueZ8+fVBYWIjJkyfjzz//RG5urlqxPH78GADg4ODQoPdw4sQJjBgxApaWluDz+RAIBPj000+Rl5eHnJycWrHWrPWIj49Hly5d0KlTJ6XlkydPVnp+7tw55OfnY9q0abU+K6NGjcLly5fVKjVPnToVUqm0ziac+jT03Hp5eWHIkCHYtm0b8vLyuFqAusycORMPHz7E7t278e6778LNzQ2//fYbgoKC8O2336oVY/XvdfXHCy+8oHJ9xf+7eu/1xqJE+RyKf9KJEyfwr3/9C0lJSbU+8O7u7gD+Vy2riuI1Nzc3tbfRVF5eHpycnGolZQcHBxgaGta6VaWuNoT6iEQiAM/aBKrT9H298MILuHz5Mi5cuIBff/0Vnp6eePvtt/H3339z68ycOZNLTgKBAMOHD1fah7+/P3r16oVevXph1KhR2Lx5M4KDg/HRRx9x1ZLu7u5aOec+Pj64fPkyEhIScOvWLRQWFuK3337j2j2HDx+uFGvNi0nNc56XlwepVIp169YpbScQCBAWFgYA3EVsyZIl+O6773DhwgWEhobC1tYWw4cP57rRN2RfT58+Rbt27Rp9Pqq/D1XvDwBcXFxqffZMTExgZGSktEwkEqGiooJ7/sYbb2Dbtm1IT0/H+PHj4eDggL59+3LNGHUpLy8HgFr7r8+lS5e49vMtW7bg7NmzuHz5MpYuXaq0TwVV7zMvLw+Ojo61ltdcpmh/nzBhQq3/09dffw3GGPLz89WOXROanNtZs2bhyJEjWL16NYyNjWv9IK/J0tISkydPxg8//ICLFy/ixo0bcHR0xNKlS9W63aX697r6Q1UfA+B//++a/6vG0KxY1IYo/kkAMHToUMhkMvz888/Yv38/9wEZOnQoDA0NcfjwYcydO1flfhSdeBSdCoYOHQqBQFDvNpqytbXFxYsXwRhTSpY5OTmQSqW1SoDaLOU6Ozuja9euiI2NRVlZmdrtlJaWltx57tu3L/r27YuAgADMmzcP169fh4GBAZYvX67UzmNubv7c/Xbr1g0xMTG4d+8e+vTpg5CQEKxbtw4XLlxoVDulkZERF68qmzdvRnFxMff8eefc2toafD4fb7zxBubPn69yn15eXgAAQ0NDLFq0CIsWLUJhYSGOHTuG//znPwgJCUFmZmaD9mVvb4+HDx8+/w2rydbWFgBUtkc9fvxY49qHGTNmYMaMGSgtLcXp06exbNkyjB49Gvfu3YOHh4fKbRTHakiy2bNnDwQCASIiIpQSrOL7W5Oq746tra3KTmjZ2dkq41u3bl2dn0VVCVfbGnpux40bh/nz5+Orr77CnDlzYGxs3KDjde7cGa+++irWrFnDfS+1SfH/1kZNlwKVKBvom2++gbW1NT799FOuOs3JyQkzZ85ETEwM9u7dW2ube/fu4euvv0bnzp25zjtOTk6YPXs2YmJisHPnTpXHSk5Oxo0bNxoc4/Dhw1FSUlLry604Ts2SmLZ98sknKCgowLvvvquywb2kpASxsbH17sPPzw8fffQRbt68yZ1TT09PpV+UHTp0eG4s169fBwCu5+Z7770HU1NTzJs3D0VFRbXWZ4zh0KFDz93v83To0EEp1po3YtdkYmKCoUOH4tq1a+jWrZvKX9CKJFSdlZUVJkyYgPnz5yM/Px9paWkN2ldoaCju3buHEydO1BmbovZAnV/o/fv3h7GxMX777Tel5Q8fPsSJEyca/dkzNTVFaGgoli5disrKSty+fbvOdT08PGBsbIzk5ORar4lEIpXvRzG4CJ/P55aVl5fj119/VTvGoKAg3Lp1C4mJiUrL9+zZo/R84MCBsLKyQmJiosr/Ua9evbgam4b8DzSl7rk1NjbGp59+ijFjxuCtt96qc395eXmorKxU+dqdO3cAPKtl0LaUlBQAqFX13RhUomwga2trLFmyBB999BF2796N119/HcCz2w7u3r2L119/HadPn8aYMWMgEolw4cIFfPfddzA3N8eBAweUvoCrV69GSkoKpk+fjpiYGIwdOxaOjo7Izc1FXFwctm/fjj179tR5i0hdpk6dig0bNmDatGlIS0tD165d8ffff+PLL79EWFiY1tqj6vLKK6/gk08+wWeffYY7d+5g1qxZ8PHxQVlZGS5evIjNmzdj0qRJz71F5IMPPsCPP/6IFStWYOLEiUrnTpVbt25BKpUCePYlPXjwIOLi4jB27FiuBOXl5YU9e/Zg0qRJ6N69O95++2306NEDwLOeotu2bQNjDGPHjtXCmWiYH374AS+88AIGDRqEt956C56eniguLsaDBw9w5MgRLpmNGTMGXbp0Qa9evWBvb4/09HSsWbMGHh4e8PPza9C+Fi5ciL179+Kll17C4sWL0adPH5SXlyM+Ph6jR4/G0KFDYW5uDg8PD/z5558YPnw4bGxsYGdnpzL5W1lZ4ZNPPsF//vMfTJ06FZMnT0ZeXh5WrFgBIyMjLFu2rMHnRVFqGThwIJydnZGdnY1Vq1bB0tISvXv3rnM7oVCI/v37c+2x1XXt2hUHDx7Epk2bEBgYCAMDA/Tq1Qvh4eFYvXo1XnvtNbz55pvIy8vDd999xyUqdSxcuBDbtm1DaGgoVq5cCUdHR+zevZtLDooeuGZmZli3bh2mTZuG/Px8TJgwAQ4ODnj69Cn++ecfPH36FJs2beLiBZ79X6dNmwaBQIAOHTrA3NwcO3fuxMyZM7Ft27YGt1Nqem4VNRr1OXnyJBYsWIApU6ZgwIABsLW1RU5ODn7//XdER0dj6tSpWq32V7hw4QL4fD4GDx6svZ1qrVtQK1Pfza7l5eXM3d2d+fn5KQ0gUFlZyTZs2MD69u3LzMzMmEgkYh06dGAfffRRnSNFSKVStmPHDjZs2DBmY2PDDA0Nmb29PQsNDWW7d+9WuilXFVW9XhljLC8vj82dO5c5OzszQ0ND5uHhwZYsWVJrBBUAbP78+eqcEiWpqakMAPv222/rXCc+Pp5NmDCBOTs7M4FAwCwsLFj//v3Zt99+y8RiMbeeqgEHFDZs2FDvoAyMqe4dZ2lpybp3785Wr16tctSY5ORkNm/ePObr68tEIhEzNjZmnTp1YosWLVLqWajugAMNUd85T01NZTNnzmSurq5MIBAwe3t7NmDAAPb5559z63z//fdswIABzM7OjgmFQubu7s5mzZrF0tLSGrwvxp71VF2wYAFzd3dnAoGAOTg4sPDwcKWRpI4dO8Z69OjBRCIRA8CmTZvGGKvd61Xh559/Zt26dWNCoZBZWlqyl156qVYvUFXnljHGli1bxqpfmnbs2MGGDh3KHB0dmVAoZC4uLmzixInsxo0bdZ/k/9q6dSvj8/lKA2Qwxlh+fj6bMGECs7KyYjweT+l427ZtYx06dGAikYh5e3uzVatWsa1bt9Z6n/V9bm/dusVGjBjBjIyMmI2NDZs1axbbsWMHA1BrEJH4+HgWHh7ObGxsmEAgYK6uriw8PFypByhjjC1ZsoS5uLgwAwMDpd6z1Uemep6avV7VObeqeqSqUrPXa2ZmJvv444/ZwIEDmZOTEzM0NGTm5uasb9++bN26dUrXTm0NOMAYY4MGDarVk7ixeIxp8a5MQghpRioqKuDu7o73338f//73v/Uay5tvvonff/8deXl5tTrBEe1ITk6Gn58fYmJilAaZaCxKlISQVm3Tpk1Yvnw5UlJSYGpq2iTHXLlyJVxcXODt7Y2SkhJERETg559/xscff8zdWkW0b8aMGXj48OFze0Q3FLVREkJatTfffBOFhYVISUnh2vp0TSAQ4Ntvv8XDhw8hlUrh5+eH1atXY8GCBU1y/LZIKpXCx8cHS5Ys0fq+qURJCCGE1INuDyGEEELqQYmSEEIIqQclSkIIIaQeba4zj1wux+PHj2Fubt4kA5QTQghpnhhjKC4uhouLS73zY7a5RPn48WNuYHJCCCEkMzOz3lGC2lyiVAyknZmZCQsLCz1HQwghRF/EYjHc3NyeO8FCm0uUiupWCwsLSpSEEEKe2wxHnXkIIYSQelCiJIQQQupBiZIQQgipByVKQgghpB6UKAkhhJB6UKIkhBBC6kGJkhBCCKkHJUpCCCGkHpQoCSGEkHpQoiSEEELqoddEefr0aYwZMwYuLi7g8Xg4fPjwc7eJj49HYGAgjIyM4O3tjR9//FH3gRJCCGmz9JooS0tLERAQgPXr16u1fmpqKsLCwjBo0CBcu3YN//nPf/Duu+/iwIEDOo6UEEJIW6XXQdFDQ0MRGhqq9vo//vgj3N3dsWbNGgCAv78/EhIS8N1332H8+PE6ipIQQkh15eXlyMrK0ncYMDExgZOTk86P06JmDzl//jyCg4OVloWEhGDr1q2oqqqCQCCotY1EIoFEIuGei8VincdJCGnZpFIp7t27h5ycHH2H0mxUVlYiMTER165dQ1JSEuRyud5iYYyBx+Nh6NCh+Pbbb3V+vBaVKLOzs+Ho6Ki0zNHREVKpFLm5uXB2dq61zapVq7BixYqmCpEQomWMMdy/fx8HDx5Ebm6uTo9VUVGBtLQ0pKamoqqqSqfHaskUiep501Pp6tgVFRUwNDREQUFBkxyzRSVKoPa8YYwxlcsVlixZgkWLFnHPFRN1EtISyOVy7jPeEIwxSKVSSCQSVFZWNouLPp/Ph4GBAfdQR0ZGBjZv3ozjx49DKpXq5cJMlMlkMjg5OcHX1xcmJiZNemypVMqV8h0dHREUFNQkx21RidLJyQnZ2dlKy3JycmBoaAhbW1uV24hEIohEoqYIj7QRjDGUlZVBLBbrpPpJIpGgpKQEhYWFKC4u1ihRAs+SrEwmg1Qq1Xgf2iIWi5Gamor09HTk5OSoFY9MJkNGRgYYYzAwMIChYdNdrqytreHj4wM7OztKztVYWlqiU6dO6Nu3Lzw8PJr83Dx+/Bhnz55FaGgozMzMmuy4LSpR9u/fH0eOHFFaFhsbi169eqlsnyStl0wmQ3Z2NqRSqdrbKEpnjUlu5eXlyMnJQUlJCSorK3WSgBT75PP5GldvFRUVIS0tDSkpKUhLS1Nqp29qcrkcxcXF3POGnDMDAwPweDwYGRlh0KBBcHd310WISsezs7ODsbExDAwMYGJiAj6fr9NjtiTm5ubo0qULLC0tm/S4ZWVlMDY2houLCyZMmNDkCVqvibKkpAQPHjzgnqempuL69euwsbGBu7s7lixZgkePHmHnzp0AgLlz52L9+vVYtGgR5syZg/Pnz2Pr1q34/fff9fUWiB4UFhbi1q1byMrK0ktJSSAQoKqqCuXl5Vr/wpaXl+PBgwd48OABUlJSUFFRodX9NwcNOWfm5uYYMGAAevXqBSMjoyb5QSwUCuHs7AwnJyfY29vTj3A9Ky4uxpEjR+Dn54fevXvrpYSv10SZkJCAoUOHcs8VbYnTpk3DL7/8gqysLGRkZHCve3l5ISoqCu+99x42bNgAFxcXrF27lm4NaWGkUqlGbWaMMWRmZuLu3bsoLy+HjY1Ngy5icrkcjx49UrvqryaJRIKUlBTcv38fT548afD2+iIQCGBubq7XGGxtbeHr6wsPDw9YW1tDKBSqtZ2BgQGMjIxga2sLNzc3WFtb6/xCSc01zYdYLEZERAT4fD46deqktzh4TN+NF01MLBbD0tISRUVFsLCw0Hc4bQpjDI8ePUJSUhLKyso02kdFRQVKSkqQlZWFoqIitbZRtHU9ePAA5eXlGh1XHywtLeHk5KRRYhAKhfD29oafnx88PDyatH1PlaqqKhQVFYHP58PZ2RkODg5qbcfj8WBjYwNLS0tqK2xjqifJ0aNHw9TUVCfHUCcftKg2StJylZaW4saNGzh8+DDS0tI0unBLJBKkpaUptXfpA5/Ph4eHB1xdXdXuvdmQfbu5ucHPz6/RHUnkcjnKyspQUFCg9848hoaGcHFxga+vLxwcHCjpkedKTEzUaZJsCEqUpEEkEgkKCwtRVFSEgoICtTrGSCQSREVFITY2FmVlZXq7SJqbm3PVf5q0OxkYGMDV1RVeXl5qVx1qSiaToaSkBBKJROPbQxhjMDU1ha+vLxwdHbWe1BvC0NCQepAStcjlchgYGKBv377o3r07jIyM9B0SJcq2hjGG7OxsiMVilJaWori4GOXl5dwNxBKJBDKZTOW2FRUVuHfvHu7du4fU1FSUlJSodcyqqipIpVKuF2djGBkZwcfHB35+fnBxcVH74m9vbw9HR0etXKilUilKS0s1TmLq7F/R49Ld3V3jziTW1tZwdHSEsbGxliMkRDeKiooQHR2NwYMHw9nZuVkkSYASZZsikUhw+/ZtpKamQiaTgcfjwdDQEDweD7du3cLx48eRmZlZ7z54PJ5GJRNFF/sePXpg+PDhGrUPGxgYwNbWtlElI4lEguLiYo1vEWGMgc/nQyQSwd7eXuttfzweD2ZmZrCzs4ONjY3OS66ENBeFhYWIiIiASCRq8ttPnocSZRuRm5uLGzdu4OnTp7CwsICxsTHEYjFu3bqF2NhYboBjde8ZMzAwgI2NjVpJi8fjwcvLCyNGjIC1tTVXgm0oxhhyc3MhFAohFAohEAjULiFWVlaipKQEfD4fTk5OsLa2bvDxgWedZCwtLWFpaUk9IwnRkupJcvTo0c2uFoQSZSsnlUrx4MED3L17FxKJBAUFBYiNja3zFgdnZ+c6RzlStNF5e3vDxcUFgPo3jyvaHXg8Hjw9PTVunK+oqEBBQQHKyspQUVGh9vENDQ3h6ekJT09P2NvbU1sZIc0EYwwnTpxotkkSoETZqhUUFODWrVt4/PgxBAIBTp06hePHj6tc18fHB6GhoXBxcamzjRJ49qEWCAQwNjaGjY2N2lWPAoEAdnZ2sLOza3R1ImMMlZWVKCsrUztRCgQCmJmZUYIkpJnh8XgYPnw4hEJhs0ySACXKVkkx28KdO3dQUVEBiUSCn376CQ8fPuTWMTAwgKenJ3x9fREQEABvb2/k5eXBxMQEXl5edSYUoVAIKysrWFhY6G1oLx6PRzeFE9LCFRQUICEhAUOGDGl2bZI1UaJshVJSUnDjxg0IBAIkJSXhjz/+4EbCMTQ0xNixYzF48GCuZCeXy5GbmwtLS0v07t0bNjY2+gyfENLKFRQUICIiAsbGxpDJZM1+mEBKlK3M48ePcfPmTUilUuzfvx/Xrl3jXnN2dsbs2bPRrl07bplUKkV+fj6srKzQu3dvjTu5EEKIOvLz8xEZGQkTExOEh4c3m1tA6kOJshUpKCjA9evXce/ePRw8eFBpUtPBgwfjlVdegVAohEwmQ2lpKSoqKrhbLnr16tXsqz8IIS1bRUVFi0uSACXKVqOsrAyXLl3CgQMHcPbsWa6Ti6mpKaZOnYru3buDMYbi4mKUlZXBwsICHh4ecHR0hJ2dnd7HAiWEtH5GRkbo06cPPDw8WkySBChRtgoVFRU4evQo1q5dqzSxdceOHTF9+nRYW1tDLpcjLy8PAoEAAQEB8PHxafbtAoSQ1iEvLw+5ubno0KEDOnTooO9wGowSZQtXUVGBbdu2Yd26ddxoOwYGBnjppZcQHBwMAwMDVFRUoLCwEHZ2dujWrZvaMzcQQkhj5eXlISIiAhYWFvDz89PrmMOaokTZgkkkEsTExGD9+vVcknRwcMCsWbPg6ekJxhjEYjEkEgl8fX3RpUuXFlXdQQhp2XJzcxEZGQkLCwuEhYW1yCQJUKJssUpKSnDt2jWsX78eUqkUPB4P3bp1w6xZs2BkZMRVtYpEIvTs2RNeXl4t9kNKCGl58vLylJJkS77vmRJlCyOVSpGWloa7d+8iOjoa6enp4PF4sLa2xtSpU7kEWVVVBVtbW3Tv3h329vb6DpsQ0saYmZnBy8sL/fr1a/GD+1OibEHy8/Nx8+ZNPHnyBAUFBThx4gQ3gs748eNRUVEBIyMjODg4wMHBAW5ubjAxMdFz1ISQtuTp06cwMjKCubk5Bg8erO9wtIISZQtRXl6OhIQEFBYWwtzcHJs3b4ZUKgUADB06FB4eHggICIC7uzu1QxJC9OLp06eIjIyEm5sbhg8fru9wtIYSZQsgl8tx69Yt5Ofnw9LSEj/++CM3bquzszOCgoLg4OAAHx8fvY2/Sghp23JychAVFQVra2sMGjRI3+FoFSXKFiA9PR3p6ekwNjbG+vXr8eDBAwCASCTC1KlTIRAI4OfnR0mSEKIXT548wdGjR2FtbY2wsLBWd482JcpmrrCwELdv30ZlZSV++uknpKenAwCMjY3x7rvvwtzcHE5OTnB2dtZzpISQtqqiogJ2dnYICQlpdUkSoETZbFVVVaGoqAhJSUkoKCjAr7/+yiVJU1NTLFy4EA4ODigrK0P79u3p1g9CSJMrKirihsN0d3dvtfO9UqJsRhhjyMjIwKNHj5Cfnw+JRIKqqipERUVxSdLCwgILFy6Ei4sLcnJy4OXlRbd/EEKaXHZ2No4ePYrevXujS5curTZJAgAVQ5oJxhhSUlKQkJCAx48fAwAsLS1x+fJlXL16FcCzAYUXLFgAV1dXFBcXw9jYGH5+fq36A0oIaX4USdLOzq5Fjt3aUFSibCbS09O5yZYtLCwAAAkJCYiIiAAA8Hg8zJw5E+3atUNFRQUkEgl69uxJ80cSQppUVlYWoqOjYWdnh1GjRrXKNsmaqETZDGRmZuL69evg8XhckkxLS8Mvv/zCrTN27FgEBARAJpOhsLAQXl5e8PLy0lPEhJC26s6dO7C3t28zSRKgEqXe5eXl4dq1a2CMcaXDgoICbNq0CVVVVQCA/v37Izg4GIwx5OXlwdHREV27dqUOPISQJiOVSmFoaIigoCDI5fI2NYctXWn1LCMjA+Xl5bCysgIAVFZWYtOmTSgsLAQA+Pj4YMqUKQCeJVATExN07969RQ8wTAhpWR4/fow9e/YgLy8PBgYGbSpJApQo9aq8vBwPHz6EqakpeDweGGPYsWMH18PV1tYWc+fOhaGhIQoLC2FgYICAgABqlySENJlHjx4hOjoa1tbWsLS01Hc4ekGJUo+ysrJQVlYGExMTyOVyHDp0CAkJCQCe9XCdP38+zM3NUVhYCB6Ph549e8LNzU3PURNC2opHjx4hJiYGTk5OCAkJaXMlSYW2+a6bAblcjoyMDBgaGqK4uBjbt29HUlISgGc9XGfNmgUXFxeuJNmjRw+4u7vrOWpCSFshk8kQHx8PZ2dnBAcHt+khMilR6kl+fj7y8/ORlpaG3bt3o6SkBMCzJDlx4kR069YNpaWlAEBJkhDS5Ph8PsLCwmBubt6mkyRAiVJvHj16hBs3buD333/nlllZWWH69Onw9/cHYwwlJSXw8/OjJEkIaTIPHz7E7du3MXz4cK6TYVtHiVIPKioq8PDhQ27EHQDo1q0bpk2bBjMzMwCARCKBUCiEh4eHvsIkhLQxmZmZiI2NhaurK434VQ0lSj3Izs6GWCxGWloagGfjt86bN0/pgykWi+Hu7g4bGxs9RUkIaUsUSbJdu3YYMWJEm69urY56vTYxxhgyMzPx6NEjSCQSAEDHjh2VkmRlZSX4fD68vLzoVx0hROeKioooSdaDSpRNTCKRoLCwEBkZGdyyjh07Kq1TVFQER0dHmhWEENIkLCwsEBQUBC8vL0qSKlCJsomJxWJIJBIkJydzy6qPvi+VSgEA3t7eNEQdIUSn0tPTcf/+ffB4PPj6+lKSrANdiZtYcXExysvLufZJOzs72NnZAXh2b2VhYSFsbGzg7OysxygJIa1deno64uLikJ6eDsaYvsNp1qjqtYkpql0VJUd/f39IJBKUlJRAKpXC1NQU7du3p192hBCdSUtLw7Fjx+Dh4YFhw4ZRX4jnoETZhBSzfyhKkwDg6ekJsVgMe3t7eHh4wMnJCcbGxvoLkhDSqmVmZuLYsWPw9PTEsGHDqIlHDZQom1BpaSnKysqQmprKLWvXrh2cnZ0xcOBA+lVHCNE5Ozs7dO3aFb1796YkqSY6S01ILBajqKgIDx8+BAC4urrCxMQE1tbWlCQJITqVkZGBsrIyGBsbo2/fvpQkG4DOVBMSi8VITk7mGs4Vt4WYm5vrMyxCSCuXkpKCmJgY3Lx5U9+htEhU9dqE8vPzlapdfXx8YGhoSImSEKIzycnJOHHiBHx8fNC7d299h9MiUaJsIlKpFIWFhUhJSQEAGBgYwMPDA0KhkBvflRBCtKl6khw6dCg18WiIEmUTKS4uxtOnT/H06VPweDx4enrCwMAAFhYWEAgE+g6PENJK+fn5ISgoiJJkI1CibCLFxcXIzMzkPqze3t6oqqqiQc8JIVqXm5sLW1tb+Pj4wMfHR9/htHjUmaeJFBUV4cmTJ9xzFxcX8Hg8ap8khGjV/fv3cejQIaX+EKRxqETZRPLy8vD06VPuuZOTE/h8PrVPEkK05t69e4iPj0f79u3h5eWl73BaDUqUTUAikaC4uBg5OTkAAB6PBxsbG+rxSgjRmupJcvDgwdQmqUWUKJuAWCxGeXk5V/Xq4OAAADAzM4NQKNRnaISQVoAxhpSUFHTo0AGDBg2iJKlllCibQElJCXJzc7mB0F1cXKgjDyFEKyQSCUQiEUaOHAkDAwNKkjpAnXmaQEVFBbKzs7nnLi4uYIzBwsJCj1ERQlq6O3fuYO/evSguLgafz6ckqSOUKJtAWVmZUo9X6shDCGmsO3fu4PTp0/D29qZriY5R1WsTKC0tVerxamdnB6FQSB15CCEaSUpKwpkzZ9CpUyeaeagJUKLUMcYYSktLuapXQ0NDWFpawsTEBCKRSM/REUJamoqKCly6dAmdO3fGgAEDKEk2AUqUOlZZWYny8nLk5eUBeFbtKpfLYWtrSx9wQkiDMMZgZGSEsWPHwtzcnK4hTUTvbZQbN26El5cXjIyMEBgYiDNnztS7/q5duxAQEAATExM4OztjxowZXBJqjioqKpCVlcVNreXq6gq5XE4deQghDXL79m3ExcVx1w9Kkk1Hr4ly7969WLhwIZYuXYpr165h0KBBCA0NRUZGhsr1//77b0ydOhWzZs3C7du38ccff+Dy5cuYPXt2E0euPolEgocPH3IfamdnZ/B4PJiamuo5MkJIS3H79m2cPXuWSpF6otdEuXr1asyaNQuzZ8+Gv78/1qxZAzc3N2zatEnl+hcuXICnpyfeffddeHl54YUXXsC//vUvJCQkNHHk6qt5a4iTkxMEAgGMjY31GBUhpKW4desWzp49i65du6Jfv36UKPVAb4mysrISV65cQXBwsNLy4OBgnDt3TuU2AwYMwMOHDxEVFQXGGJ48eYL9+/cjPDy8zuNIJBKIxWKlR1OqqKhQujXE3t4eAoEAJiYmTRoHIaTlycrKwrlz59CtWzdKknqkt0SZm5sLmUwGR0dHpeWOjo5KJbDqBgwYgF27dmHSpEkQCoVwcnKClZUV1q1bV+dxVq1aBUtLS+7h5uam1ffxPNUTpZGREUxNTWFkZERzUBJCnsvJyQkhISHo27cvJUk90ntnnpr/fMZYnR+IxMREvPvuu/j0009x5coVREdHIzU1FXPnzq1z/0uWLEFRURH3yMzM1Gr8z/P06VMUFhYCeDYij0wmg6WlZZPGQAhpWW7evInU1FTweDx4eHhQktQzvd0eYmdnBz6fX6v0mJOTU6uUqbBq1SoMHDgQH374IQCgW7duMDU1xaBBg/D555/D2dm51jYikUiv9ysmJydzH3JFj1caRYMQUpcbN27gwoUL6NGjB02V1UzorUQpFAoRGBiIuLg4peVxcXEYMGCAym3KyspgYKAcMp/PBwDu9ovmRCqVIi0tTSlRAqCOPIQQlf755x8uSfbq1Uvf4ZD/0mvV66JFi/Dzzz9j27ZtSEpKwnvvvYeMjAyuKnXJkiWYOnUqt/6YMWNw8OBBbNq0CSkpKTh79izeffdd9OnTBy4uLvp6G3WSSCR49OhRrVtDqCMPIaSmpKQkXLx4kUuSVN3afOh1ZJ5JkyYhLy8PK1euRFZWFrp06YKoqCh4eHgAeNbjq/o9ldOnT0dxcTHWr1+P999/H1ZWVhg2bBi+/vprfb2FelVUVNQa49XQ0JBKlISQWtzc3NC/f3906dKFkmQzw2PNsc5Sh8RiMSwtLVFUVKTz0XEeP36MiRMn4unTp+Dz+fjqq69gYGCAUaNGwdCQRg8khDybBcTT0xNGRkb6DqXNUTcf6L3Xa2tWUVGB4uJiAICFhQXkcjlMTU0pSRJCAABXr17F6dOnkZqaqu9QSD0oUepQeXk5SktLAQDm5uaoqqqiMV4JIQCeJcmEhAT06tUL/v7++g6H1IOKNjqUk5PD9cY1NzfnSpSEkLbtypUruHLlCnr16oWePXvqOxzyHJQodejx48dco7ylpSX1eCWEAABMTU3Ru3dv9OjRQ9+hEDVQotQRxhiePn3KJUozMzMYGBhQj1dC2ijGGLKzs+Hs7IyOHTvqOxzSANRGqSMSiQQFBQXccxMTExoMnZA2ijGGhIQEHDlyRGmSBNIyUKLUEYlEgqKiIq5EaWJiAkNDQ+oCTkgbo0iS165dQ9++fescopM0X1T1qiMVFRVKidLY2BhmZmbckHuEkNaPMYbLly/j+vXr6NevH7p166bvkIgGqESpIxKJhLuHEniWKOnWEELaFrlcjidPnlCSbOGoRKkjFRUVKCkp4Z6bm5vTrSGEtBGMMZSXl8PExATh4eG1JnMgLQv993SkeqI0MDCASCSiHq+EtAGMMVy8eBEHDhyARCKhJNkK0H9QR0pLS5VG5REKhdTjlZBWjjGGCxcu4MaNG+jRo4de58Il2kOJUkfEYjGXKBXju1KJkpDWS5Ekb968iYEDB6JLly76DoloCSVKHZBKpSgoKOCGrzMzM4NQKKRbQwhpxcRiMe7cuYOBAweic+fO+g6HaBF15tGByspKFBYWcreGmJqawtTUlNoqCGmFFD+ILS0tMWnSJGpiaYXoyq0DVVVVEIvF3HNTU1NqqyCkFWKM4dy5czh58iQYY5QkWylKlDpQWVmpNNgAJUpCWh9Fkrx9+zacnZ257ztpfajqVQeqqqqUBhtQtFESQloHxhjOnj2LxMREDB48mAY5b+UoUepAZWVlrUQpEAj0GBEhRJuSk5ORlJSEoKAgdOjQQd/hEB2jRKkDVVVVtUblMTSkU01Ia+Hj4wNTU1M4OzvrOxTSBKiNUgcqKyuVEiWVKAlp+RTVrZmZmeDxeJQk2xBKlDogkUi4RMnj8bi5KAkhLRNjDKdPn0ZiYiLKy8v1HQ5pYlQfqAPl5eVcorSwsIChoSElSkJaKEWSvHfvHoYMGQI/Pz99h0SaGJUodaCsrIwbvs7MzAwGBgbURklIC3Xp0iVKkm0cXb21jDHGDV/H4/Fgbm4OPp9PJUpCWih/f3/Y29vD29tb36EQPaESpZZVVVWhqKiIe64Yuo4SJSEtB2MM165dQ2VlJSwsLChJtnGUKLVM1TivfD4ffD5fz5ERQtTBGMOpU6eQkJCAJ0+e6Dsc0gxQ1auW1Rzn1dzcHCKRiIa3IqQFkMvlOHXqFJKTkzFs2DC4ubnpOyTSDFCi1LLKykqIxWIa55WQFkZRkkxOTsbw4cOpupVwKFFqWc1xXk1MTChREtIC8Hg8ODg4wNPTk5IkUUKJUstqjvNKJUpCmje5XI6HDx/C3d0dXbp00Xc4pBmizjxapmqcV+rxSkjzJJfLceLECcTGxir9wCWkOipRaln1cV4NDAxgbGxMiZKQZkgul+P48eNIT0/HiBEjYG5uru+QSDNFiVLLKioquFF5zM3NaVQeQpqh6kly5MiR8PDw0HdIpBmjqlctKy0t5UqUil+oVKIkpHmRSqUoLy+nJEnUQkUdLSsoKIBcLgefz+dKlJQoCWkeZDIZysvLYWZmhjFjxtD9zUQtVKLUIplMhvz8fO7LR4mSkOZDJpPh2LFjiIyMhFwupyRJ1EaJUotqjvNKM4cQ0jwokuTDhw8xYMAAGBjQpY+oj67gWqS4h1LxS9XExIRmDiFEz2QyGeLi4vDo0SMEBwfTsHSkwehnlRbVvIfSxMSEql4J0bO8vDxkZ2dTkiQaoxKlFinuoVSUKBX3UFI1DyFNTyaTwcDAAA4ODpg8eTKNkEU0RldwLaqqqkJZWRn33MjIiL6chOiBTCZDbGwszp07BwD0PSSNQolSiyorKylREqJnUqkUMTExyMrKgqenp77DIa0AVb1qUc0SpbGxMSVKQpqQIkk+efIEISEhcHV11XdIpBWgRKlFEomkVqIUCoV6jIiQtuX27dt48uQJRo0aBRcXF32HQ1oJSpRaVFFRwSVKY2Nj6vFKSBPr2rUr3NzcYGNjo+9QSCtCbZRaVF5eziVKU1NTADTOKyG6Vr1N0sDAgJIk0TpKlFrCGEN5eTkqKioA/C9R0qg8hOhOVVUVoqOj8fjxY32HQloxuopriVQqVZr41czMDACVKAnRFUWSzM3NRWhoKJycnPQdEmmlqESpJVVVVTR8HSFNKD4+npIkaRJUotSSyspKiMVi7jl15iFEtwIDA9G1a1c4OjrqOxTSylGJUkuqqqpQWlqqVKKkmUMI0a6qqiqcP38eVVVVsLa2piRJmgQlSi1RjPOqQFWvhGhXVVUVoqKicPfuXaXaG0J0jYo7WqJqVB4qURKiHZWVlTh69CgKCgoQFhYGW1tbfYdE2hC6imtJzXFeFaPy0CzqhDSOTCbjkmR4eDjs7e31HRJpYyhRaolMJqs1ILqRkZEeIyKkdeDz+fD09MSAAQMoSRK9oDZKLWGM0cwhhGiRRCJBamoqACAgIICSJNEbKlFqSc1ESTOHEKI5iUSCqKgoFBcXw8XFhb5LRK+oRKkl1ROlQCDgHoSQhlEkSbFYjLCwMEqSRO/0nig3btwILy8vGBkZITAwEGfOnKl3fYlEgqVLl8LDwwMikQg+Pj7Ytm1bE0Vbt+qJ0tTUFDwejxIlIQ1UPUmOHj0adnZ2+g6JEP1Wve7duxcLFy7Exo0bMXDgQGzevBmhoaFITEyEu7u7ym0mTpyIJ0+eYOvWrfD19UVOTg6kUmkTR16bXC6nmUMIaSTGGIRCIUaPHk23gJBmQ6+JcvXq1Zg1axZmz54NAFizZg1iYmKwadMmrFq1qtb60dHRiI+PR0pKCjeVjqenZ1OGXKfy8nJIpVIYGhrSzCGENFBFRQVkMhlMTU0RHh6u73AIUaK3qtfKykpcuXIFwcHBSsuDg4Nx7tw5ldv89ddf6NWrF7755hu4urqiffv2+OCDD1BeXl7ncSQSCcRisdJDF6rv18TEhKpeCVFTRUUFIiMjcezYMTDG9B0OIbXorciTm5sLmUxWa6xGR0dHZGdnq9wmJSUFf//9N4yMjHDo0CHk5uZi3rx5yM/Pr7OdctWqVVixYoXW46+peqI0NTWlUXkIUYMiSZaVlSE8PJwG6CDNkt4789T8YjDG6vyyyOVy8Hg87Nq1C3369EFYWBhWr16NX375pc5S5ZIlS1BUVMQ9MjMztf4eACjNRakYEJ1KlITUrby8HBERESgrK8Po0aO55hRCmhuNEuX06dNx+vTpRh3Yzs4OfD6/VukxJyenzhkBnJ2d4erqCktLS26Zv78/GGN4+PChym1EIhEsLCyUHrpQPVHSOK+EPF9ubi4kEglGjx4Na2trfYdDSJ00SpTFxcUIDg6Gn58fvvzySzx69KjB+xAKhQgMDERcXJzS8ri4OAwYMEDlNgMHDsTjx4+VZum4d+8eDAwM0K5duwbHoE01EyWfz6dESYgKlZWVYIzBzc0NkyZNoiRJmj2NEuWBAwfw6NEjvP322/jjjz/g6emJ0NBQ7N+/H1VVVWrvZ9GiRfj555+xbds2JCUl4b333kNGRgbmzp0L4Fm16dSpU7n1X3vtNdja2mLGjBlITEzE6dOn8eGHH2LmzJkwNjbW5K1oDZUoCXm+8vJy/Pnnn7h69SoA6hlOWgaN2yhtbW2xYMECXLt2DZcuXYKvry/eeOMNuLi44L333sP9+/efu49JkyZhzZo1WLlyJbp3747Tp08jKioKHh4eAICsrCxkZGRw65uZmSEuLg6FhYXo1asXpkyZgjFjxmDt2rWavg2tKSkpUZq0WSAQUMcEQqpRtElKJBL4+PjoOxxC1Nbon3NZWVmIjY1FbGws+Hw+wsLCcPv2bXTq1AnffPMN3nvvvXq3nzdvHubNm6fytV9++aXWso4dO9aqrm0OqlcHK6bYIoQ8U1ZWhsjISK5N0srKSt8hEaI2jUqUVVVVOHDgAEaPHg0PDw/88ccfeO+995CVlYUdO3YgNjYWv/76K1auXKnteJut6lWvRkZGlCgJqeb69euorKzEmDFjKEmSFkejEqWzszPkcjkmT56MS5cuoXv37rXWCQkJaVNfCEWJksfjQSQS0UDOhOB/t3v17dsXXbt2hbm5ub5DIqTBNEqU//d//4dXXnml3omJra2tubnk2gJFojQxMQEAKlGSNq+0tBRxcXEYOHAg7O3tKUmSFkujqteTJ0+q7N1aWlqKmTNnNjqolqi0tBTAsw5HPB6PevORNq20tJQbTIBqV0hLp1Gi3LFjh8qRcMrLy7Fz585GB9XSyGQymjmEkP9SJEmZTIbRo0frbJAPQppKg4o9YrEYjDEwxlBcXKxU9SqTyRAVFQUHBwetB9nc1RznFaD7w0jbxBhDXFwc5HI5xowZQ9WtpFVo0NXcysoKPB4PPB4P7du3r/U6j8drkgHIm5uioiLub0qUpC3j8Xh44YUXIBKJKEmSVqNBV/OTJ0+CMYZhw4bhwIEDSoMYC4VCeHh4wMXFRetBNndFRUVc7z7FFFuUKElbUlJSgmvXrmHAgAGws7PTdziEaFWDruZBQUEAgNTUVLi7u9PIM/9VWFjI/U1TbJG2pri4GBEREQCeTZulqFUhpLVQ+2p+48YNdOnSBQYGBigqKsLNmzfrXLdbt25aCa6lKCgo4P5WjPNKnXlIW1A9SY4ZM4aSJGmV1E6U3bt3R3Z2NhwcHNC9e3fweDyVs5HzeDzIZDKtBtncVS9RKuaipBIlae0kEgkiIiLA4/EwevRomJmZ6TskQnRC7at5amoq7O3tub/J/1RPlDRzCGkrhEIhOnXqBF9fXypJklZN7au5YkYPALC3t+dGoCHKvV4pUZLWTiwWIy8vD15eXggICNB3OITonEYDDjg4OOD1119HTEwM5HK5tmNqcWomSoFAAAMDjWcwI6TZEovFOHLkCBISEui7T9oMja7mO3fuhEQiwdixY+Hi4oIFCxbg8uXL2o6txaieKGnmENJaFRUV4ciRIzA0NERYWBj9GCRthkaf9HHjxuGPP/7AkydPsGrVKiQlJWHAgAFo3759m5paS6G4uBiMMQgEAvD5fEqUpNUpKipCREQEBAIBRo8eTW2SpE1p1E9Cc3NzzJgxA7Gxsfjnn39gamraJkfmkUqlAAA+nw/GGCVK0uoIBALY2dlRkiRtUqMSZUVFBfbt24eXX34ZPXv2RF5eHj744ANtxdZiVE+UMpmMZksgrUZRURHKy8thYmKCkJAQ6sRH2iSNumbGxsZi165dOHz4MPh8PiZMmICYmBhu5J62pnqipOHrSGtRWFiIiIgIODo6YuTIkfoOhxC90eiK/vLLLyM8PBw7duxAeHh4mx+FpnqiBGiKLdLyFRQUIDIyEiKRCC+88IK+wyFErzRKlNnZ2TTHXDWKRKnoBUglStKSFRQUICIiAsbGxggPD4exsbG+QyJEr9S+oovFYqXkWH0OxpraWhJVJEpFgqRESVqy/Px8mJiYICwsjJIkIWhAorS2tkZWVhYcHBy4eSlrUkw11dbGeqUSJWkNysvLYWRkBB8fH3h5edF9koT8l9pX9BMnTnDzT548eVJnAbVE1dsoafg60hLl5+cjMjISgYGB6NSpEyVJQqpR+4pevUerl5cX3NzcapUqGWPIzMzUXnQthEwmA2MMBgYGNMUWaXHy8/MREREBU1NTeHt76zscQpodjX42enl54enTp7WW5+fnw8vLq9FBtSRyuZyrajYwMACfz6cSJWkx8vLyEBERATMzM4SHh8PIyEjfIRHS7Gh0RVe0RdZUUlLS5r5oimpXAFyJkhIlaSmuX7/OJUkaKIMQ1Rp0RV+0aBGAZ5Mzf/LJJ0qjdMhkMly8eBHdu3fXaoDNXfVESW2UpKVQ/NgNCgqi0aQIeY4GXdGvXbsG4NmX7ObNm0pjmgqFQgQEBLS5IexqligVyZKQ5io3NxfHjx9HcHAwrK2t6YcdIc/RoG+IorfrjBkz8MMPP7S5+yVVkUqlYIwBeJYohUKhymppQpqD3NxcREZGwsLCgsZtJURNGv2U3L59u7bjaLGq3zNqYGBAVVik2Xr69CmioqJgaWmJ0NBQ+qwSoia1E+W4cePwyy+/wMLCAuPGjat33YMHDzY6sJaiZtUrTbFFmiOZTIa4uDhYWloiLCyMPqeENIDaidLS0pKrUrS0tNRZQC1NzURJv9JJc8Tn8zFy5EhYWlpSkiSkgdROlNWrW6nq9X+qJ0qaYos0Nzk5OUhKSsKgQYNgb2+v73AIaZE06p5ZXl6OsrIy7nl6ejrWrFmD2NhYrQXWUlTvzMPn82lUHtJs5OTkICoqCoWFhW1u/GVCtEmjRPnSSy9h586dAJ5N7tqnTx98//33eOmll7Bp0yatBtjc1byPkkqUpDl48uQJIiMjYW1tjbCwMPoBR0gjaJQor169ikGDBgEA9u/fDycnJ6Snp2Pnzp1Yu3atVgNs7mq2UVKiJPomFosRFRUFW1tbSpKEaIFGV/WysjKYm5sDAGJjYzFu3DgYGBigX79+SE9P12qAzV31Ki0qUZLmwNzcHL1790aHDh0oSRKiBRqVKH19fXH48GFkZmYiJiYGwcHBAJ61ibS1QQgUJUrGGAwNDSlREr3Jzs5Geno6eDweunTpQkmSEC3RKFF++umn+OCDD+Dp6Ym+ffuif//+AJ6VLnv06KHVAJu76p15DA0N6eJE9CIrKwtHjx7F7du3uc8jIUQ7NCr+TJgwAS+88AKysrIQEBDALR8+fDjGjh2rteBaAurMQ/QtKysL0dHRsLe3R3BwMA2hSIiWaXxVd3JygpOTk9KyPn36NDqglqZ6oqSqV9LUsrOzcfToUTg4OGDUqFH0+SNEBzT6VpWWluKrr77C8ePHkZOTA7lcrvR6SkqKVoJrCShREn0yNTWFj48PBg4cSJ89QnREo2/W7NmzER8fjzfeeAPOzs5tuqpH0euVMQaBQAA+n6/niEhb8OTJE1hZWcHc3BxBQUH6DoeQVk2jRHn06FFERkZi4MCB2o6nxanemUckErXpHw2kaTx69AgxMTHw9/fnOtIRQnRHo16v1tbWsLGx0XYsLVL1qlcaEJ3o2qNHjxAdHQ1nZ+c22SeAEH3QKFF+9tln+PTTT5XGe22rqidKmpWB6NLDhw8RHR0NFxcXBAcHUzU/IU1Eo6rX77//HsnJyXB0dISnp2etewevXr2qleBaAkqUpKkUFxfD1dUVI0eOpCRJSBPSKFG+/PLLWg6j5aqeKGmwAaILxcXFMDc3h7+/Pzp27Ejt4IQ0MY0S5bJly7QdR4tVvTMPJUqibZmZmYiNjcWwYcPg5eVFSZIQPdCojRJ4Nr3Wzz//jCVLliA/Px/AsyrXR48eaS24lqD6oOiUKIk2ZWRkIDY2Fu3atYO7u7u+wyGkzdKoRHnjxg2MGDEClpaWSEtLw5w5c2BjY4NDhw5x0221FTUHHCBEG9LT03Hs2DG0a9cOI0aMoDZJQvRIoxLlokWLMH36dNy/fx9GRkbc8tDQUJw+fVprwbUEVPVKtI0xhps3b8LNzY2SJCHNgEZFoMuXL2Pz5s21lru6uiI7O7vRQbUkNQdFJ6QxZDIZ+Hw+QkJCYGBgQJ8pQpoBjUqURkZGEIvFtZbfvXsX9vb2jQ6qJaFer0Rb0tLSsG/fPpSUlNBwiIQ0IxolypdeegkrV65EVVUVAIDH4yEjIwOLFy/G+PHjtRpgc6eoeuXxeJQoicbS0tJw7Ngx2Nvbw8TERN/hEEKq0ShRfvfdd3j69CkcHBxQXl6OoKAg+Pj4wMzMDF988YW2Y2zWqDMPaazU1FQcO3YMnp6eGDZsGAwMNO6MTgjRAY2u7BYWFvj7779x4sQJXL16FXK5HIGBgRg+fLi242v2qOqVNIZEIkF8fDy8vLwwdOhQSpKENEMN+lZevHgRR48e5Z4PGzYM9vb22LhxIyZPnow333wTEolE60E2Z1SiJI0hEokwZswYSpKENGMN+mYuX74cN27c4J7fvHkTc+bMwciRI7F48WIcOXIEq1atalAAGzduhJeXF4yMjBAYGIgzZ86otd3Zs2dhaGiI7t27N+h42lb99hAa65WoKyUlBfHx8WCMwdbWlpIkIc1Yg76d169fV6pe3bNnD/r06YMtW7Zg0aJFWLt2Lfbt26f2/vbu3YuFCxdi6dKluHbtGgYNGoTQ0FBkZGTUu11RURGmTp3aLKp6qURJGio5ORnHjx+HTCbjfmQRQpqvBiXKgoICODo6cs/j4+MxatQo7nnv3r2RmZmp9v5Wr16NWbNmYfbs2fD398eaNWvg5uaGTZs21bvdv/71L7z22mvNYtJaaqMkDZGcnIwTJ07A19eXqlsJaSEa9C11dHREamoqAKCyshJXr15VSlbFxcVqJ4vKykpcuXIFwcHBSsuDg4Nx7ty5Orfbvn07kpOT1R6YXSKRQCwWKz20iW4PIep68uQJlySHDBlCA5wT0kI0KFGOGjUKixcvxpkzZ7BkyRKYmJhg0KBB3Os3btyAj4+PWvvKzc2FTCZTKqECz5JxXaP73L9/H4sXL8auXbvUruZctWoVLC0tuYebm5ta26mLBkUn6nJwcMDgwYMpSRLSwjQoUX7++efg8/kICgrCli1bsGXLFqUOLNu2batVQnyemhcMRemsJplMhtdeew0rVqxA+/bt1d7/kiVLUFRUxD0aUjWsDhrrlTzP/fv38ejRI/B4PHTo0IGSJCEtTIN6n9jb2+PMmTMoKiqCmZlZrSG2/vjjD5iZmam1Lzs7O/D5/Fqlx5ycnFqlTOBZtW5CQgKuXbuGt99+GwAgl8vBGIOhoSE3Z19NIpEIIpFI3bfYYNXbKKnXK6np3r17iI+Ph7+/P1xdXfUdDiFEAxp107S0tFS53MbGRu19CIVCBAYGIi4uDmPHjuWWx8XF4aWXXqq1voWFBW7evKm0bOPGjThx4gT2798PLy8vtY+tTdVLlNQxg1SnSJIdOnTAwIED9R0OIURDer2fYdGiRXjjjTfQq1cv9O/fHz/99BMyMjIwd+5cAM+qTR89eoSdO3fCwMAAXbp0UdrewcEBRkZGtZY3JUWJks/nU6IknAcPHnBJctCgQVTdSkgLptdEOWnSJOTl5WHlypXIyspCly5dEBUVBQ8PDwBAVlbWc++p1DdKlEQVe3t7BAQEoHfv3pQkCWnheKyN3fEsFothaWmJoqIiWFhYNHp/48ePx40bNyASiXDmzBlYW1trIUrSUqWlpcHV1ZU6dhHSAqibD6gI1EiK20MMDAyoRNnGJSUlITY2Fnfu3NF3KIQQLaIreyMp5uTk8/lUxdaGJSUl4cyZM+jcubNe28wJIdpHg5M2ErVRksTERPz999/o0qUL+vfvTz+YCGll6MreSNUTJV0g26aqqipKkoS0YlSibCRFoqQ2yrYnPz8fNjY2CAgIqHNEKUJIy0dX9kaiNsq26datWzhw4ACePHkCoPZQjISQ1oMSZSMpRuYxNDSkEmUbcfPmTZw7dw5du3aFg4ODvsMhhOgYVb02kuL2ECpRtg03b97E+fPnERAQgD59+tD/nJA2gIpAjaAYlB2gRNkWyGQyPHjwgJIkIW0MlSgbofrMIdSZp3WrqqqCQCDA6NGjYWhoSEmSkDaEruyNUD1RUomy9frnn3+wf/9+SCQSCAQC+j8T0sZQomwESpSt3z///IOLFy/C19eX5hslpI2iqtdGqD4XZc1JrEnLd/36dVy6dAk9e/ZEYGAg/RAipI2iRNkI1UuUhoZ0KlsTsViMhIQEBAYGIjAwUN/hEEL0iK7ujVCz6pW0DowxWFhYYMKECbCystJ3OIQQPaM2ykagRNn6XLlyBWfPngVjjJIkIQQAJcpGUbRRKkbmIS3blStXcOXKFZiYmFB7JCGEQ1f3RqA2ytZDkSR79+6NHj166DscQkgzQiXKRqieKAUCgR4jIY2RnJxMSZIQUicqBjUClShbBy8vL4wcORJeXl76DoUQ0gxRibIRFAOiA1SibGkYY7h69Sqys7NhYGBASZIQUidKlI1QfcABGrWl5WCM4fLly0hISMDTp0/1HQ4hpJmj+sJGoKrXlocxhkuXLuGff/5Bv3790LVrV32HRAhp5ujq3gjUmafluXbtGv755x/079+fkiQhRC2UKBuBEmXL4+HhASMjI3Tq1EnfoRBCWghqo2wEqnptGRhjSEpKglQqha2tLSVJQkiD0NW9Eap35qESZfPEGMOFCxdw8+ZNGBsbw9PTU98hEUJaGEqUjVD99hAqUTY/jDGcP38et27dwsCBAylJEkI0Qlf3RqCq1+arepJ84YUXqLqVEKIxuro3AiXK5k0oFGLQoEHw9/fXdyiEkBaMru6NUL2NkhJl88AYQ05ODhwdHdGrVy99h0MIaQWo12sj0O0hzQtjDGfPnsVff/0FsVis73AIIa0EFYMagapemw/GGP7++2/cuXMHgwcPhoWFhb5DIoS0ElSibAQqUTYPNZNkhw4d9B0SIaQVoUTZCHR7SPNQWVmJJ0+eUJIkhOgEXd0bgTrz6BdjDBKJBEZGRhg7diz4fL6+QyKEtEJUomwEqnrVH8YYTp8+jSNHjkAmk1GSJIToDCXKRqBEqR+MMcTHx+PevXvo3r07JUlCiE5RfWEjUK/XpscYw6lTp/DgwQMMHToUvr6++g6JENLKUYmyEWhQ9KaXk5ODlJQUSpKEkCZDxaBGoKrXpqP4QeLo6IhXX30Vpqameo6IENJWUImyEWQyGZUom4BcLsfJkyeRkJAAAJQkCSFNihJlI1Abpe4pkmRycjJsbW31HQ4hpA2iq3sjKNooeTwelSh1QJEkU1NTMWLECHh5eek7JEJIG0Qlykao3plHKBTqOZrW59atW0hNTcXw4cMpSRJC9IZKlI1AVa+61blzZ9jb28PZ2VnfoRBC2jAqUTYClSi1Ty6XIz4+Hrm5ueDz+ZQkCSF6R4myEej2EO2Sy+U4fvw47t+/j9LSUn2HQwghAKjqtVFowAHtkclkOH78ODIyMjBy5Eh4eHjoOyRCCAFAJcpGUZQoeTwetVE20pkzZ5CZmUlJkhDS7NDVvREUiZLP54PH4+k5mpatU6dO8Pb2hru7u75DIYQQJVSibITqidLAgE5lQ8lkMly/fh0ymQwODg6UJAkhzRJd3RuBSpSak8lkiIuLw5UrV5Cfn6/vcAghpE5U9doIVKLUjEwmQ2xsLB4/fozg4GDY29vrOyRCCKkTJcpGkMlkAKhE2RDVk2RISAjatWun75AIIaRelCgbQVGiNDAwoESpJgMDA9jY2KBbt25wdXXVdziEEPJclCgboXrVK6mfVCpFTk4OXFxc0LdvX32HQwghaqOGtUagRKkeqVSKmJgYxMbGQiKR6DscQghpEEqUjaAYmYcGG6ibIkk+efIEwcHBEIlE+g6JEEIaRO+JcuPGjfDy8oKRkRECAwNx5syZOtc9ePAgRo4cCXt7e1hYWKB///6IiYlpwmiVVW+jJLVJpVJER0fjyZMnCA0NhYuLi75DIoSQBtPrFX7v3r1YuHAhli5dimvXrmHQoEEIDQ1FRkaGyvVPnz6NkSNHIioqCleuXMHQoUMxZswYXLt2rYkjBxhjXK9XKlGqVllZCYlEgtDQUJoFhBDSYvGYYlRvPejbty969uyJTZs2ccv8/f3x8ssvY9WqVWrto3Pnzpg0aRI+/fRTtdYXi8WwtLREUVERLCwsNIobeHabQ9++fVFUVARfX18cPXpU4321NlVVVZDJZDAyMgJjjHoEE0KaJXXzgd5KlJWVlbhy5QqCg4OVlgcHB+PcuXNq7UMul6O4uBg2NjZ1riORSCAWi5Ue2lB9ii2qev2fqqoqREdHIyYmhpIkIaRV0NsVPjc3FzKZDI6OjkrLHR0dkZ2drdY+vv/+e5SWlmLixIl1rrNq1SpYWlpyDzc3t0bFrVA9UVKv12cUSTI3Nxd9+/alJEkIaRX0XhSqeTFVtxTy+++/Y/ny5di7dy8cHBzqXG/JkiUoKiriHpmZmY2OGVCei5LaKJ8lyaNHjyI3NxdhYWFwcnLSd0iEEKIVervC29nZgc/n1yo95uTk1Cpl1rR3717MmjULf/zxB0aMGFHvuiKRSCe3JFCJUtnjx4+Rn5+PsLCw5/7/CCGkJdFbiVIoFCIwMBBxcXFKy+Pi4jBgwIA6t/v9998xffp07N69G+Hh4boOs06UKJ9R9Pz18PDAq6++SkmSENLq6LXOcNGiRXjjjTfQq1cv9O/fHz/99BMyMjIwd+5cAM+qTR89eoSdO3cCeJYkp06dih9++AH9+vXjSqPGxsawtLRs0tgVCaItDzhQWVmJo0ePwtPTEwEBATAyMtJ3SIQQonV6baOcNGkS1qxZg5UrV6J79+44ffo0oqKi4OHhAQDIyspSuqdy8+bNkEqlmD9/PpydnbnHggULmjz2tl6iVCTJgoICGkiAENKq6b0oNG/ePMybN0/la7/88ovS81OnTuk+IDVV78wjEAj0HE3TUiTJwsJChIeH03yShJBWTe+9XlsqRYmSx+O1uarXhIQEFBYWIiwsjJIkIaTVa1tXeC2qXvXa1kqUvXv3hr+/P6ytrfUdCiGE6ByVKDVUPVG2hRKlRCJBdHQ0CgoKIBAIKEkSQtqM1n+F15G2VKKUSCSIioqCWCzmevvqikwmQ1VVlU6PQQhpGwQCgVY6W1Ki1FBbGZlHIpEgMjISJSUlGD16NGxtbXVyHMYYsrOzUVhYqJP9E0LaJisrKzg5OTVqSM3We4XXsbZQomSMISYmBiUlJQgPD9dZkgTAJUkHBweYmJjQOLGEkEZhjKGsrAw5OTkA0Kip/ihRaqgtJEoej4fevXtDJBLVO0NLY8lkMi5J6jIZE0LaFmNjYwDPhkZ1cHDQuBqWOvNoqDUnyoqKCly+fBlyuRzOzs46TZIAuDZJExMTnR6HENL2KK4rjen7QIlSQ611wIGKigpERkbizp07KC0tbdJjU3UrIUTbtHFdoapXDbXGEmV5eTkiIyNRXl6O0aNHw9zcXN8hEUKI3lGJUkOtLVEqercqkiTdJ6ldPB4Phw8f1ncYhBANUKLUUPX7CVtDohQKhXBzc6MkqaHs7Gy888478Pb2hkgkgpubG8aMGYPjx4/rOzRCSCNR1auGWksbZXl5OfLz8+Hq6oq+ffvqO5wWKS0tDQMHDoSVlRW++eYbdOvWDVVVVYiJicH8+fNx584dfYdICGkEKlFqqDVUvZaVlSEiIgKnT5/W+Yg7rdm8efPA4/Fw6dIlTJgwAe3bt0fnzp2xaNEiXLhwgVsvNzcXY8eOhYmJCfz8/PDXX39xr8lkMsyaNQteXl4wNjZGhw4d8MMPPygdZ/r06Xj55Zfx3XffwdnZGba2tpg/f75Sbz6JRIKPPvoIbm5uEIlE8PPzw9atW7nXExMTERYWBjMzMzg6OuKNN95Abm6uDs8OIS0flSg11NJLlIokWVVVhdGjRzfbOTXLyspQVlamtEwkEsHc3BwymQwFBQW1trGzswMAFBYWKv2gAQBzc3OIRCKUl5fX6tUrEAgaPAF4fn4+oqOj8cUXX8DU1LTW61ZWVtzfK1aswDfffINvv/0W69atw5QpU5Ceng4bGxvI5XK0a9cO+/btg52dHc6dO4c333wTzs7OmDhxIrePkydPwtnZGSdPnsSDBw8wadIkdO/eHXPmzAEATJ06FefPn8fatWsREBCA1NRULhFmZWUhKCgIc+bMwerVq1FeXo5///vfmDhxIk6cONGg901IW0KJUkMtuURZM0k2NDk0paSkJFy5ckVpma+vL4YNG4aSkhIcPHiw1jZvvvkmACA+Ph5PnjxRem3o0KHw8/NDSkoKzp49q/Rau3btEBYW1qD4Hjx4AMYYOnbs+Nx1p0+fjsmTJwMAvvzyS6xbtw6XLl3CqFGjIBAIsGLFCm5dLy8vnDt3Dvv27VNKlNbW1li/fj34fD46duyI8PBwHD9+HHPmzMG9e/ewb98+xMXFYcSIEQAAb29vbttNmzahZ8+e+PLLL7ll27Ztg5ubG+7du4f27ds36L0T0lZQotRQ9RKlUCjUczQNI5VKIRKJEBIS0qyTJAD4+/vDw8NDaZlIJAIAmJmZYdy4cXVuGxQUpLJECTxLII6OjkqvafKDR/EZUOderW7dunF/m5qawtzcnBteCwB+/PFH/Pzzz0hPT0d5eTkqKyvRvXt3pX107txZqfTv7OyMmzdvAgCuX78OPp+PoKAglce/cuUKTp48CTMzs1qvJScnU6IkpA6UKDXUEqfZKi0thaGhISwsLPDiiy+2iBv8TUxM6hyxh8/nc9WsqlSv9qzJ2NiYG96qMfz8/MDj8ZCUlISXX3653nVrJmIejwe5XA4A2LdvH9577z18//336N+/P8zNzfHtt9/i4sWLau/jee9HLpdjzJgx+Prrr2u91phxMAlp7agzj4ZkMlmLaqMsLS3lOu4ANAqOttjY2CAkJAQbNmxQOZKRurOhnDlzBgMGDMC8efPQo0cP+Pr6Ijk5uUGxdO3aFXK5HPHx8Spf79mzJ27fvg1PT0/4+voqPVS1rxJCnqFEqaGWVKIsKSnBkSNHIJPJ0K9fP32H0+ps3LgRMpkMffr0wYEDB3D//n0kJSVh7dq16N+/v1r78PX1RUJCAmJiYnDv3j188sknuHz5coPi8PT0xLRp0zBz5kwcPnwYqampOHXqFPbt2wcAmD9/PvLz8zF58mRcunQJKSkpiI2NxcyZM6nXMyH1oESpoZbS67WkpAQRERFgjGHMmDE0LJ0OeHl54erVqxg6dCjef/99dOnSBSNHjsTx48exadMmtfYxd+5cjBs3DpMmTULfvn2Rl5eHefPmNTiWTZs2YcKECZg3bx46duyIOXPmcCVdFxcXnD17FjKZDCEhIejSpQsWLFgAS0tLGBjQpYCQuvCY4mrfRojFYlhaWqKoqAgWFhYa7+err77Cr7/+isrKSuzduxc9e/bUYpTac/fuXVy9erVZj91aUVGB1NRUeHl5wcjISN/hEEJakfquL+rmg+ZdZ9iMNfcSZVVVFQQCATp06ABvb+9mGSMhhLQEVN+ioeptlM3t9pDi4mLs378fd+/eBdA8EzkhhLQUlCg1pOj1yuPxmtWoNsXFxYiIiACPx4Orq6u+wyGEkBaPEqWGmmOJsri4GEeOHAGPx8OYMWNU3lhOCCGkYaiNUkPNsY3y4sWL4PP5GD16NN0XRwghWkKJUkPNqUSpqAIePHgwqqqqKEkSQogWUdWrhppLibKoqAh//fUXxGIxhEIhJUlCCNEyKlFqqDnMHlJUVISIiAgIBIJm1aGIEEJaE0qUGtL3EHbVk+To0aPrHDicEEJI41DVq4aqj43Z1KU5mUyGo0ePUpIkhJAmQCVKDSlKlDwer8nHyeTz+Rg8eDCsra21MlUUIYSQulGJUkOKRNmUpcnCwkJcvHgRjDG4uLhQkiQtVl5eHhwcHJCWlqbvUEgLNmHCBKxevVrnx6FEqaGmTpQFBQU4cuQIMjIyUFlZ2STHJOqZPn06eDwe5s6dW+u1efPmgcfjYfr06U0fWA2KOHk8HgwNDeHu7o633noLBQUFSutlZmZi1qxZcHFxgVAohIeHBxYsWIC8vLxa+8zOzsY777wDb29viEQiuLm5YcyYMTh+/Hi9saxatQpjxoyBp6dnrdfOnTsHPp+PUaNG1XptyJAhWLhwYa3lhw8fVjnHqqbxNdbGjRu5QbgDAwNx5syZetcvLi7GwoUL4eHhAWNjYwwYMKDWNGuenp7c/6/6Y/78+bp8Kw1+L+pu05D9rlq1Cjwer9b//tNPP8UXX3wBsVjc4PfVIKyNKSoqYgBYUVFRo/YzduxY1r59exYQEKCdwOqRn5/Pdu7cyf744w9WVlam8+M1tfLycpaYmMjKy8v1HYpGpk2bxtzc3JilpaXS/6e8vJxZWVkxd3d3Nm3aNP0F+F/Tpk1jo0aNYllZWSwzM5PFxMQwV1dX9uqrr3LrJCcnMwcHB/bCCy+wU6dOsfT0dBYVFcU6d+7M/Pz8WF5eHrduamoqc3FxYZ06dWJ//PEHu3v3Lrt16xb7/vvvWYcOHeqMo6ysjFlZWbFz586pfH3WrFlswYIFzNTUlKWnpyu9FhQUxBYsWFBrm0OHDrGalzNN42usPXv2MIFAwLZs2cISExPrfC/VTZw4kXXq1InFx8ez+/fvs2XLljELCwv28OFDbp2cnByWlZXFPeLi4hgAdvLkSbVjCwoKYtu3b9fpe1Fnm4bs99KlS8zT05N169ZN5f++Z8+ebOPGjXXGU9/1Rd18QIlSQ2PGjGHt27dnPXv21FJkqonF4ladJBlrHYnypZdeYl27dmW//fYbt3zXrl2sa9eu7KWXXuISpVwuZ19//TXz8vJiRkZGrFu3buyPP/5Q2t/Ro0fZwIEDmaWlJbOxsWHh4eHswYMHSusEBQWxd955h3344YfM2tqaOTo6smXLlqkVZ3WLFi1iNjY23PNRo0axdu3a1fqsZWVlMRMTEzZ37lxuWWhoKHN1dWUlJSW1jlVQUFBnHAcOHGB2dnYqXyspKWHm5ubszp07bNKkSWzFihVKrzckUWoaX2P16dNH6TwxxljHjh3Z4sWLVa5fVlbG+Hw+i4iIUFoeEBDAli5dWudxFixYwHx8fJhcLlc7toYmyoa+F3W3UXe/xcXFzM/Pj8XFxdX5v1++fDkbNGhQnfFoI1FSZx4NNVXVq6mpKTp27IiuXbu2ubka33jjDZXVfbpma2uLX3/9tcHbzZgxA9u3b8eUKVMAANu2bcPMmTNx6tQpbp2PP/4YBw8exKZNm+Dn54fTp0/j9ddfh729PYKCggAApaWlWLRoEbp27YrS0lJ8+umnGDt2LK5fv67UcWzHjh1YtGgRLl68iPPnz2P69OkYOHAgRo4cqVa8KSkpiI6O5u4Dzs/PR0xMDL744ota7d9OTk6YMmUK9u7di40bN6KgoADR0dH44osvVA5yYWVlVedxT58+jV69eql8be/evejQoQM6dOiA119/He+88w4++eQTldWq9cnPz9c4vi+//BJffvllvfs/evQoBg0aVGt5ZWUlrly5gsWLFystDw4Oxrlz51TuSyqVQiaT1fp+Gxsb4++//1a5TWVlJX777TcsWrSowedGXZq8F3W2ach+58+fj/DwcIwYMQKff/65ymP26dMHq1atgkQigUgkatB7VBclSg3pOlHm5+dDIpHA2dkZvXv31skxmru8vDzk5OToOwy1vfHGG1iyZAnS0tLA4/Fw9uxZ7Nmzh0uUpaWlWL16NU6cOIH+/fsDALy9vfH3339j8+bNXKIcP3680n63bt0KBwcHJCYmokuXLtzybt26YdmyZQAAPz8/rF+/HsePH683UUZERMDMzAwymQwVFRUAwHWGuH//Phhj8Pf3V7mtv78/CgoK8PTpU6SlpYExho4dOzb4PKWlpcHFxUXla1u3bsXrr78OABg1ahRKSkpw/PhxjBgxokHHePDggcbxzZ07FxMnTqx3nbpm5snNzYVMJoOjo6PSckdHR2RnZ6vcxtzcHP3798dnn30Gf39/ODo64vfff8fFixfh5+encpvDhw+jsLDwuW3fNZN+eXk5Lly4gLfffptbVlfS1+S9qLONuvvds2cPrl69WquttiZXV1dIJBJkZ2fDw8Oj3nU1RYlSQ7pMlHl5eYiMjISVlRXGjBmjs1+MzZ2trW2LOq6dnR3Cw8OxY8cOMMYQHh4OOzs77vXExERUVFTUSmSVlZXo0aMH9zw5ORmffPIJLly4gNzcXMjlcgBARkZGrURZnbOz83N/WAwdOhSbNm1CWVkZfv75Z9y7dw/vvPOOWu+P/XfIRh6Pp/R3Q5WXl6usHbl79y4uXbqEgwcPAng2kMekSZOwbdu2BifKxsRnY2MDGxubBm9XXc3jsv+Ox1yXX3/9FTNnzoSrqyv4fD569uyJ1157DVevXlW5/tatWxEaGlrnDw6Fmkl/ypQpGD9+PMaNG8cte950fA19L+puU986mZmZWLBgAWJjY59bk6ao/SgrK6t3vcagRKkhxViv2k6UiiRpZmaGkJCQNpskAWhU/alvM2fO5H6tb9iwQek1RcKLjIysdXGqXmU0ZswYuLm5YcuWLXBxcYFcLkeXLl1q9XauOXQij8fjjlEXU1NT+Pr6AgDWrl2LoUOHYsWKFfjss8/g6+sLHo+HxMREvPzyy7W2vXPnDqytrWFnZwc+nw8ej4ekpCSV69bHzs6uVk9b4NnFXyqVKp0bxhgEAgEKCgpgbW0NCwsLFBUV1dq2sLAQFhYW3HM/Pz+N42tM1avi3NQsceXk5NQqQVXn4+OD+Ph4lJaWQiwWw9nZGZMmTYKXl1etddPT03Hs2DHuB0V9aiZ9Y2NjODg4cJ+B+mjyXtTZRp11rly5gpycHAQGBnKvy2QynD59GuvXr4dEIuGuvfn5+QAAe3v7574nTdHtIRrSRYkyLy8PERERMDc3R3h4uM7q24nujBo1CpWVlaisrERISIjSa506dYJIJEJGRgZ8fX2VHm5ubgCefQaSkpLw8ccfY/jw4Vx1p64sW7YM3333HR4/fgxbW1uMHDkSGzduRHl5udJ62dnZ2LVrFyZNmgQejwcbGxuEhIRgw4YNKC0trbXfwsLCOo/Zo0cPJCYmKi2TSqXYuXMnvv/+e1y/fp17/PPPP/Dw8MCuXbsAAB07dkRCQkKtfV6+fBkdOnTgnjcmvrlz5yrFoOpRVxurUChEYGAg4uLilJbHxcVhwIABdR5TwdTUFM7OzigoKEBMTAxeeumlWuts374dDg4OCA8Pf+7+GkOT96LONuqsM3z4cNy8ebPWOZ8yZQquX7+udN29desW2rVrp1R7o3X1dvVphbTV67V3797Mz8+PjRw5UkuRPbsN5OjRo6yiokJr+2wJWkuvV4WioiKlz1f1Xq9Lly5ltra27JdffmEPHjxgV69eZevXr2e//PILY4wxmUzGbG1t2euvv87u37/Pjh8/znr37s0AsEOHDnH7VNUDsPpx1IlTITAwkM2fP58xxti9e/eYnZ0dGzRoEIuPj2cZGRns6NGjrEuXLrVuD0lJSWFOTk6sU6dObP/+/ezevXssMTGR/fDDD6xjx451xnHjxg1maGjI8vPzuWWHDh1iQqGQFRYW1lr/P//5D+vevTtj7NktH8bGxmzevHns+vXr7O7du2z9+vVMJBKxffv2KW2naXyNpbj1YevWrSwxMZEtXLiQmZqasrS0NG6ddevWsWHDhnHPo6Oj2dGjR1lKSgqLjY1lAQEBrE+fPqyyslJp3zKZjLm7u7N///vfasVSXFysdEuJqodEItHqe1FnG3XWqamuXq/Tpk1jM2fOrHM7uj1EA9pIlHK5nAUGBjI/Pz82atSoRseUn59f6wvRlrS2RFlTzdtDfvjhB9ahQwcmEAiYvb09CwkJYfHx8dz6cXFxzN/fn4lEItatWzd26tQpnSbKXbt2MaFQyDIyMhhjjKWlpbHp06czJycnJhAImJubG3vnnXdYbm5urW0fP37M5s+fzzw8PJhQKGSurq7sxRdffO69ff369WM//vgj93z06NEsLCxM5bpXrlxhANiVK1cYY4wlJCSwkJAQ5uDgwCwsLFivXr3Y77//rnJbTeNrrA0bNnDH7Nmzp9L/lzHGli1bxjw8PLjne/fuZd7e3kwoFDInJyc2f/58lT8aYmJiGAB29+5dteJYtmwZA1Dv43nnoqHvRZ1t1F2nOlWf+fLycmZhYcHOnz9f53baSJQ8xv7b6t1GiMViWFpaoqioSKlNoyGkUin69esHsVgMPz8/REZGahzP06dPERUVBT8/P7WqZlqjiooKpKamcqN0kNYvKioKH3zwAW7dutXkYyWT1mPDhg34888/ERsbW+c69V1f1M0H1JlHA9Wn2GpMG6UiSVpaWtbZ5kFIaxQWFob79+/j0aNHXPssIQ0lEAiwbt06nR+HEqUGtJEonz59isjISFhbWyM0NBRCoVBb4RHSIixYsEDfIZAW7s0332yS41Cdhwa0kSizsrIoSRJCSAtAJUoNNCZRVlRUwMjICN26dUPnzp2bfNJnQgghDUMlSg1Un7S5IYnuyZMn2LNnDzcHHyVJQghp/ihRaqB6ibLm6Ch1efLkCaKiomBjY/PcIaMIIYQ0H1T1qgGZTMb9rU6pMDs7G0ePHoWdnR1GjRqldnIlhBCif1Si1EBDSpSMMVy6dImSJCGEtFBUotRA9URpaFj3KWT/HQ0/ODgYfD6fkiQhhLRAVKLUgDolyqysLBw8eBClpaUwMjKiJEkIIS0UlSg1oJhiC1BdoszKysLRo0fh4OBAM4A0UkVFBaqqqprseAKBoM0MozdkyBB0794da9asaRb7IaS5okSpgfpKlI8fP0Z0dDQcHR0REhJSb9UsqV9FRQVOnz6t0wlZazIxMcHgwYObNFmePn0a3377La5cuYKsrCwcOnSowXMoVkeJixDtoqu4Bupqo5RIJIiNjaUkqSVVVVUoKyuDoaFhk1RdK45XVVXVqEQ5ZMgQTJ8+HdOnT1dr/dLSUgQEBGDGjBkYP368xsclhOgGtVFqQCaTcVWv1S/gIpEIISEhlCS1TCAQQCQS6fyhr3bk0NBQfP755xg3bpza2+zfvx9du3aFsbExbG1tMWLECJSWlmL69OmIj4/HDz/8AB6PBx6Ph7S0NJSWlmLq1KkwMzODs7Mzvv/+e41iVWc/jDF888038Pb2hrGxMQICArB//34AwObNm+Hq6gq5XK60zYsvvohp06ZpFBMhuqb3RLlx40Zu+pPAwECcOXOm3vXj4+MRGBgIIyMjeHt748cff2yiSP+nZony0aNHuHjxIhhjcHZ2piRJdCorKwuTJ0/GzJkzkZSUhFOnTmHcuHFgjOGHH35A//79MWfOHGRlZSErKwtubm748MMPcfLkSRw6dAixsbE4deoUrly50uBjq7Ofjz/+GNu3b8emTZtw+/ZtvPfee3j99dcRHx+PV155Bbm5uTh58iS3fkFBAWJiYjBlypRGnxtCdEGvV/S9e/di4cKF2LhxIwYOHIjNmzcjNDQUiYmJcHd3r7V+amoqwsLCMGfOHPz22284e/Ys5s2bB3t7+yatsqremUcikSA6OhouLi6Qy+U0LF0b9OWXX+LLL7/knpeXl+PChQt4++23uWVHjx7FoEGDtHK8rKwsSKVSjBs3Dh4eHgCArl27cq8LhUKYmJjAyckJAFBSUoKtW7di586dGDlyJABgx44daNeuXYOOq85+SktLsXr1apw4cQL9+/cHAHh7e+Pvv//G5s2bsXv3bowaNQq7d+/G8OHDAQB//PEHbGxsuOeENDd6TZSrV6/GrFmzMHv2bADAmjVrEBMTg02bNmHVqlW11v/xxx/h7u7OdVLw9/dHQkICvvvuO70kSplMhoyMDPTr14+7V5K0PXPnzsXEiRO551OmTMH48eOVqlK1OWxhQEAAhg8fjq5duyIkJATBwcGYMGECrK2tVa6fnJyMyspKLnEBgI2NDTp06NCg46qzn8TERFRUVHCJVKGyshI9evQA8Oz8vPnmm9i4cSNEIhF27dqFV199lb4/pNnSW6KsrKzElStXsHjxYqXlwcHBOHfunMptzp8/j+DgYKVlISEh2Lp1K6qqqlS2MUkkEkgkEu65WCxudOxSqRRSqRQSiQRWVlaUJNs4Gxsb2NjYcM+NjY3h4OAAX19fnRyPz+cjLi4O586dQ2xsLNatW4elS5fi4sWL8PLyqrW+ovajsdTZj6LtMTIystaPA8WtUmPGjIFcLkdkZCR69+6NM2fOYPXq1VqJkRBd0FsbZW5uLmQyGRwdHZWWOzo6Ijs7W+U22dnZKteXSqXIzc1Vuc2qVatgaWnJPbQxm7pUKuV6YtJUWUQfeDweBg4ciBUrVuDatWsQCoU4dOgQgGdVr9XHI/b19YVAIMCFCxe4ZQUFBbh3716DjqnOfjp16gSRSISMjAz4+voqPRTfPWNjY4wbNw67du3C77//jvbt2yMwMFCj80BIU9B7rxMej6f0XDHsW0PWV7VcYcmSJVi0aBH3XCwWNzpZuru7Y8KECSguLuaqk4juNNWAA5oep6SkBCUlJdzzPXv2AIDSDz4bG5s6J+guKSnBgwcPuOepqam4fv06bGxsVLbVX7x4EcePH0dwcDAcHBxw8eJFPH36FP7+/gAAT09PXLx4EWlpaTAzM4ONjQ1mzZqFDz/8ELa2tnB0dMTSpUthYKD8O3n9+vU4dOgQjh8/rjJOMzOz5+7H3NwcH3zwAd577z3I5XK88MILEIvFOHfuHMzMzLierVOmTMGYMWNw+/ZtvP7667WO9bxYCGlKekuUdnZ24PP5tUqPOTk5tUqNCk5OTirXNzQ0hK2trcptFF3/tal79+7o3r27VvdJahMIBDAxMUFZWZlST2NdMjExafBtIt999x1WrFhR7zonT57EkCFDVL6WkJCAoUOHcs8VP+ymTZuGX375pdb6FhYWOH36NNasWQOxWAwPDw98//33CA0NBQB88MEHmDZtGjp16oTy8nKkpqbi22+/RUlJCV588UWYm5vj/fffR1FRkdJ+c3NzkZycXO/7UGc/n332GRwcHLBq1SqkpKTAysoKPXv2xH/+8x9unWHDhsHGxgZ3797Fa6+9Vus46sRCSFPhMW01YGigb9++CAwMxMaNG7llnTp1wksvvaSyM8+///1vHDlyBImJidyyt956C9evX8f58+fVOqZYLIalpSWKiopgYWHR+DdBGq2iogKpqancbUI1X6Mh7Aghmqrv+qJuPtBr1euiRYvwxhtvoFevXujfvz9++uknZGRkYO7cuQCeVZs+evQIO3fuBPCsd+H69euxaNEizJkzB+fPn8fWrVvx+++/6/NtEB0yMjKixEUI0Su9JspJkyYhLy8PK1euRFZWFrp06YKoqCju3rCsrCxkZGRw63t5eSEqKgrvvfceNmzYABcXF6xdu5aG/SKEEKIzeq161Qeqem1+6qsaIYSQxtBG1aveh7AjhBBCmjNKlKTZaGOVG4SQJqCN6wolSqJ3itsxmnLeSUJI26C4rjRmdiC9DzhACJ/Ph5WVFXJycgA8u5exvkEnCCHkeRhjKCsrQ05ODqysrBo1gholStIsKGa6UCRLQgjRBisrK+76oilKlKRZ4PF4cHZ2hoODQ5MOMEAIab0EAoFWxuKmREmaFT6fT4PME0KaFerMQwghhNSDEiUhhBBSD0qUhBBCSD3aXBul4uZTsVis50gIIYTokyIPPG9QgjaXKIuLiwGg0ZM3E0IIaR2Ki4thaWlZ5+ttblB0uVyOx48fw9zcvFE3tYvFYri5uSEzM5MGV6+Gzkvd6NyoRuelbnRuVNPWeWGMobi4GC4uLjAwqLslss2VKA0MDNCuXTut7c/CwoI+wCrQeakbnRvV6LzUjc6Nato4L/WVJBWoMw8hhBBSD0qUhBBCSD0oUWpIJBJh2bJlEIlE+g6lWaHzUjc6N6rReakbnRvVmvq8tLnOPIQQQkhDUImSEEIIqQclSkIIIaQelCgJIYSQelCiJIQQQupBibIeGzduhJeXF4yMjBAYGIgzZ87Uu358fDwCAwNhZGQEb29v/Pjjj00UadNqyHk5ePAgRo4cCXt7e1hYWKB///6IiYlpwmibVkM/Mwpnz56FoaEhunfvrtsA9aSh50UikWDp0qXw8PCASCSCj48Ptm3b1kTRNq2Gnptdu3YhICAAJiYmcHZ2xowZM5CXl9dE0TaN06dPY8yYMXBxcQGPx8Phw4efu41Or7+MqLRnzx4mEAjYli1bWGJiIluwYAEzNTVl6enpKtdPSUlhJiYmbMGCBSwxMZFt2bKFCQQCtn///iaOXLcael4WLFjAvv76a3bp0iV27949tmTJEiYQCNjVq1ebOHLda+i5USgsLGTe3t4sODiYBQQENE2wTUiT8/Liiy+yvn37sri4OJaamsouXrzIzp4924RRN42GnpszZ84wAwMD9sMPP7CUlBR25swZ1rlzZ/byyy83ceS6FRUVxZYuXcoOHDjAALBDhw7Vu76ur7+UKOvQp08fNnfuXKVlHTt2ZIsXL1a5/kcffcQ6duyotOxf//oX69evn85i1IeGnhdVOnXqxFasWKHt0PRO03MzadIk9vHHH7Nly5a1ykTZ0PNy9OhRZmlpyfLy8poiPL1q6Ln59ttvmbe3t9KytWvXsnbt2uksRn1TJ1Hq+vpLVa8qVFZW4sqVKwgODlZaHhwcjHPnzqnc5vz587XWDwkJQUJCAqqqqnQWa1PS5LzUJJfLUVxcDBsbG12EqDeanpvt27cjOTkZy5Yt03WIeqHJefnrr7/Qq1cvfPPNN3B1dUX79u3xwQcfoLy8vClCbjKanJsBAwbg4cOHiIqKAmMMT548wf79+xEeHt4UITdbur7+trlB0dWRm5sLmUwGR0dHpeWOjo7Izs5WuU12drbK9aVSKXJzc+Hs7KyzeJuKJuelpu+//x6lpaWYOHGiLkLUG03Ozf3797F48WKcOXMGhoat86uoyXlJSUnB33//DSMjIxw6dAi5ubmYN28e8vPzW1U7pSbnZsCAAdi1axcmTZqEiooKSKVSvPjii1i3bl1ThNxs6fr6SyXKetSchosxVu/UXKrWV7W8pWvoeVH4/fffsXz5cuzduxcODg66Ck+v1D03MpkMr732GlasWIH27ds3VXh605DPjFwuB4/Hw65du9CnTx+EhYVh9erV+OWXX1pdqRJo2LlJTEzEu+++i08//RRXrlxBdHQ0UlNTMXfu3KYItVnT5fW3df6MbSQ7Ozvw+fxav+pycnJq/WpRcHJyUrm+oaEhbG1tdRZrU9LkvCjs3bsXs2bNwh9//IERI0boMky9aOi5KS4uRkJCAq5du4a3334bwLMEwRiDoaEhYmNjMWzYsCaJXZc0+cw4OzvD1dVVafojf39/MMbw8OFD+Pn56TTmpqLJuVm1ahUGDhyIDz/8EADQrVs3mJqaYtCgQfj8889bRc2VJnR9/aUSpQpCoRCBgYGIi4tTWh4XF4cBAwao3KZ///611o+NjUWvXr0gEAh0FmtT0uS8AM9KktOnT8fu3btbbVtKQ8+NhYUFbt68ievXr3OPuXPnokOHDrh+/Tr69u3bVKHrlCafmYEDB+Lx48coKSnhlt27d0/rc8nqmybnpqysrNYEw3w+H8D/SlBtkc6vv1rpEtQKKbptb926lSUmJrKFCxcyU1NTlpaWxhhjbPHixeyNN97g1ld0T37vvfdYYmIi27p1a6u+PUTd87J7925maGjINmzYwLKysrhHYWGhvt6CzjT03NTUWnu9NvS8FBcXs3bt2rEJEyaw27dvs/j4eObn58dmz56tr7egMw09N9u3b2eGhoZs48aNLDk5mf3999+sV69erE+fPvp6CzpRXFzMrl27xq5du8YAsNWrV7Nr165xt8009fWXEmU9NmzYwDw8PJhQKGQ9e/Zk8fHx3GvTpk1jQUFBSuufOnWK9ejRgwmFQubp6ck2bdrUxBE3jYacl6CgIAag1mPatGlNH3gTaOhnprrWmigZa/h5SUpKYiNGjGDGxsasXbt2bNGiRaysrKyJo24aDT03a9euZZ06dWLGxsbM2dmZTZkyhT18+LCJo9atkydP1nvdaOrrL02zRQghhNSD2igJIYSQelCiJIQQQupBiZIQQgipByVKQgghpB6UKAkhhJB6UKIkhBBC6kGJkhBCCKkHJUpCCCGkHpQoCSH1Wr58Obp3715rmaOjI3g8Hg4fPozp06fj5ZdfVmt/aWlp4PF4uH79utZjJUQXaGQeQhrp9OnT+Pbbb3HlyhVkZWXh0KFDaieN5zlw4AC++eYb3LlzB3K5HO7u7hg1ahS+//57rexfHSUlJZBIJNwsDElJSejUqRMOHTqEfv36wdraGhUVFWCMwcrK6rn7k8lkePr0Kezs7GBoaIhTp05h6NChKCgoUGt7QpoaTbNFSCOVlpYiICAAM2bMwPjx47W232PHjuHVV1/Fl19+iRdffBE8Hg+JiYk4fvy41o6hDjMzM5iZmXHPk5OTAQAvvfQSN9efSCRSe398Ph9OTk7aDZIQXdLaqLGEEAaAHTp0SCv7WrBgARsyZEi96ygGUv/xxx9Zu3btmLGxMZswYQIrKChQWm/btm2sY8eOTCQSsQ4dOrANGzYovZ6ZmckmTZrErK2tmYmJCQsMDGQXLlxQOobib9QYqJqxZ4NUv/TSS9z+ZDIZ++qrr5iPjw8TCoXMzc2Nff7554wxxlJTUxkAdu3aNe5v1Bj4eseOHczGxoZVVFQoxTlu3Lh6Z2AhRBeojZKQZsrJyQm3b9/GrVu36l3vwYMH2LdvH44cOYLo6Ghcv34d8+fP517fsmULli5dii+++AJJSUn48ssv8cknn2DHjh0AnlWtBgUF4fHjx/jrr7/wzz//4KOPPoJcLq91rA8++ADbt28HAGRlZSErK0tlTEuWLMHXX3+NTz75BImJidi9e7fKyYjd3Nxw4MABAMDdu3eRlZWFH374Aa+88gpkMhn++usvbt3c3FxERERgxowZzzlzhGiZvjM1Ia0JtFiiLCkpYWFhYQwA8/DwYJMmTWJbt25VKmUtW7aM8fl8lpmZyS07evQoMzAwYFlZWYwxxtzc3Nju3buV9v3ZZ5+x/v37M8YY27x5MzM3N2d5eXkq46g5/dehQ4dYzUtH9RKlWCxmIpGIbdmyReX+qpcoGfvflEo1S8FvvfUWCw0N5Z6vWbOGeXt7M7lcrnK/hOgKlSgJaWIZGRlcu5+ZmRm+/PJLleuZmpoiMjISDx48wMcffwwzMzO8//776NOnD8rKyrj13N3d0a5dO+55//79IZfLcffuXTx9+hSZmZmYNWuW0jE///xzrq3x+vXr6NGjB2xsbLTy/pKSkiCRSDB8+PBG7WfOnDmIjY3Fo0ePAADbt2/H9OnTuXZRQpoKdeYhpIm5uLgo3RrxvATl4+MDHx8fzJ49G0uXLkX79u2xd+/eOqsgFYmEx+Nx1adbtmxB3759ldbj8/kAAGNjY03fikra2l+PHj0QEBCAnTt3IiQkBDdv3sSRI0e0sm9CGoISJSFNzNDQEL6+vhpt6+npCRMTE5SWlnLLMjIy8PjxY7i4uAAAzp8/DwMDA7Rv3x6Ojo5wdXVFSkoKpkyZonKf3bp1w88//4z8/HytlCr9/PxgbGyM48ePY/bs2c9dXygUAnh220hNs2fPxv/93//h0aNHGDFiBNzc3BodHyENRYmSkEYqKSnBgwcPuOepqam4fv06bGxs4O7urvF+ly9fjrKyMoSFhcHDwwOFhYVYu3YtqqqqMHLkSG49IyMjTJs2Dd999x3EYjHeffddTJw4kbsFY/ny5Xj33XdhYWGB0NBQSCQSJCQkoKCgAIsWLcLkyZPx5Zdf4uWXX8aqVavg7OyMa9euwcXFBf37929w3EZGRvj3v/+Njz76CEKhEAMHDsTTp09x+/ZtzJo1q9b6Hh4e4PF4iIiIQFhYGIyNjbnbUaZMmYIPPvgAW7Zswc6dOzU8k4Q0kr4bSQlp6RSdUWo+pk2b1qj9njhxgo0fP565ubkxoVDIHB0d2ahRo9iZM2e4dRQdbTZu3MhcXFyYkZERGzduHMvPz1fa165du1j37t2ZUChk1tbWbPDgwezgwYPc62lpaWz8+PHMwsKCmZiYsF69erGLFy8qHUPheZ15GHt2e8jnn3/OPDw8mEAgYO7u7uzLL79kjNXuzMMYYytXrmROTk6Mx+PVOm9vvPGGyltFCGkqNDIPIS3Y8uXLcfjw4VY9HNzIkSPh7++PtWvX6jsU0kZR1SshpFnKz89HbGwsTpw4gfXr1+s7HNKGUaIkhDRLPXv2REFBAb7++mt06NBB3+GQNoyqXgkhhJB60IADhBBCSD0oURJCCCH1oERJCCGE1IMSJSGEEFIPSpSEEEJIPShREkIIIfWgREkIIYTUgxIlIYQQUo//Bx5kVGamxUGqAAAAAElFTkSuQmCC",
      "text/plain": [
       "<Figure size 500x500 with 1 Axes>"
      ]
     },
     "metadata": {},
>>>>>>> bb405d15eaa03ce2e1ed24c9fbcb9146a0988912
     "output_type": "display_data"
    }
   ],
   "source": [
    "tprs = []\n",
    "aucs = []\n",
    "mean_fpr = np.linspace(0, 1, 100)\n",
    "\n",
    "\n",
    "fig, ax = plt.subplots(figsize=(5, 5))\n",
    "\n",
    "for i in range(len(y_trues)):\n",
    "    fpr, tpr, _ = roc_curve(y_trues[i], y_preds[i])\n",
    "    roc_auc = roc_auc_score(y_trues[i], y_preds[i])\n",
    "    \n",
    "#     ax.plot(fpr, tpr, label=f'AUC = {roc_auc:0.2f}', alpha=0.3, color='black')\n",
    "\n",
    "\n",
    "    interp_tpr = np.interp(mean_fpr, fpr, tpr)\n",
    "    interp_tpr[0] = 0.0\n",
    "    tprs.append(interp_tpr)\n",
    "    aucs.append(roc_auc)\n",
<<<<<<< HEAD
=======
    "print(aucs)\n",
>>>>>>> bb405d15eaa03ce2e1ed24c9fbcb9146a0988912
    "ax.plot([0, 1], [0, 1], linestyle=\"--\", lw=1, color=\"gray\", label=\"Chance\", alpha=0.8)\n",
    "\n",
    "mean_tpr = np.mean(tprs, axis=0)\n",
    "mean_tpr[-1] = 1.0\n",
    "mean_auc = auc(mean_fpr, mean_tpr)\n",
    "std_auc = np.std(aucs)\n",
    "# plot mean curve\n",
    "ax.plot(\n",
    "    mean_fpr,\n",
    "    mean_tpr,\n",
    "    color=\"black\",\n",
    "    label=r\"Mean ROC (AUC = %0.2f $\\pm$ %0.3f)\" % (np.round(mean_auc, 2), np.round(std_auc, 3)),\n",
    "    lw=2,\n",
    "    alpha=0.8,\n",
    ")\n",
    "\n",
    "std_tpr = np.std(tprs, axis=0)\n",
    "tprs_upper = np.minimum(mean_tpr + std_tpr, 1)\n",
    "tprs_lower = np.maximum(mean_tpr - std_tpr, 0)\n",
    "ax.fill_between(\n",
    "    mean_fpr,\n",
    "    tprs_lower,\n",
    "    tprs_upper,\n",
    "    color=\"grey\",\n",
    "    alpha=0.5,\n",
    "    label=r\"$\\pm$ 1 std. dev.\",\n",
    ")\n",
    "\n",
    "ax.set(\n",
    "    xlim=[-0.05, 1.05],\n",
    "    ylim=[-0.05, 1.05],\n",
    "    title=f\"ROC for {test_cohorts} (target: {cfg.target})\",\n",
    ")\n",
    "\n",
    "ax.set_xlabel('1 - Specificity')\n",
    "ax.set_ylabel('Sensitivity')\n",
    "\n",
    "ax.legend(loc=\"lower right\")\n",
<<<<<<< HEAD
    "fig.savefig(output_path / f'auroc_{cfg.logging_name}_{test_cohorts}.svg', format='svg', bbox_inches = 'tight', pad_inches = 0)\n",
=======
    "# fig.savefig(figure_path / f'auroc_{cfg.logging_name}_{test_cohorts}.svg', format='svg', bbox_inches = 'tight', pad_inches = 0)\n",
>>>>>>> bb405d15eaa03ce2e1ed24c9fbcb9146a0988912
    "plt.show()"
   ]
  },
  {
   "cell_type": "code",
<<<<<<< HEAD
   "execution_count": 137,
   "id": "06221e2e",
   "metadata": {},
   "outputs": [
    {
     "data": {
      "text/plain": [
       "0.9241921704608271"
      ]
     },
     "execution_count": 137,
     "metadata": {},
     "output_type": "execute_result"
    }
   ],
   "source": [
    "mean_auc"
=======
   "execution_count": null,
   "id": "06221e2e",
   "metadata": {},
   "outputs": [],
   "source": [
    "mean_auc, std_auc"
>>>>>>> bb405d15eaa03ce2e1ed24c9fbcb9146a0988912
   ]
  },
  {
   "cell_type": "code",
<<<<<<< HEAD
   "execution_count": 147,
=======
   "execution_count": 34,
>>>>>>> bb405d15eaa03ce2e1ed24c9fbcb9146a0988912
   "id": "11183e59",
   "metadata": {},
   "outputs": [
    {
     "data": {
<<<<<<< HEAD
      "image/png": "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",
      "text/plain": [
       "<Figure size 216x216 with 1 Axes>"
      ]
     },
     "metadata": {
      "needs_background": "light"
     },
=======
      "image/png": "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",
      "text/plain": [
       "<Figure size 300x300 with 1 Axes>"
      ]
     },
     "metadata": {},
>>>>>>> bb405d15eaa03ce2e1ed24c9fbcb9146a0988912
     "output_type": "display_data"
    }
   ],
   "source": [
<<<<<<< HEAD
=======
    "# plot zoom in\n",
>>>>>>> bb405d15eaa03ce2e1ed24c9fbcb9146a0988912
    "tprs = []\n",
    "aucs = []\n",
    "mean_fpr = np.linspace(0, 1, 100)\n",
    "\n",
    "\n",
    "fig, ax = plt.subplots(figsize=(3,3))\n",
    "\n",
    "for i in range(len(y_trues)):\n",
    "    fpr, tpr, _ = roc_curve(y_trues[i], y_preds[i])\n",
    "    roc_auc = roc_auc_score(y_trues[i], y_preds[i])\n",
    "    \n",
    "    ax.plot(fpr, tpr, lw=1, label=f'AUC = {roc_auc:0.2f}', color=pl.cm.viridis(i*(1/len(y_trues))))\n",
    "\n",
    "    interp_tpr = np.interp(mean_fpr, fpr, tpr)\n",
    "    interp_tpr[0] = 0.0\n",
    "    tprs.append(interp_tpr)\n",
    "    aucs.append(roc_auc)\n",
    "ax.plot([0, 1], [0, 1], linestyle=\"--\", lw=1, color=\"gray\", label=\"Chance\", alpha=0.8)\n",
    "\n",
    "mean_tpr = np.mean(tprs, axis=0)\n",
    "mean_tpr[-1] = 1.0\n",
    "mean_auc = auc(mean_fpr, mean_tpr)\n",
    "std_auc = np.std(aucs)\n",
    "# plot mean curve\n",
    "ax.plot(\n",
    "    mean_fpr,\n",
    "    mean_tpr,\n",
    "    color=\"black\",\n",
    "    label=r\"Mean ROC (AUC = %0.2f $\\pm$ %0.3f)\" % (mean_auc, std_auc),\n",
    "    lw=2,\n",
    "    alpha=0.8,\n",
    ")\n",
    "\n",
<<<<<<< HEAD
    "# std_tpr = np.std(tprs, axis=0)\n",
    "# tprs_upper = np.minimum(mean_tpr + std_tpr, 1)\n",
    "# tprs_lower = np.maximum(mean_tpr - std_tpr, 0)\n",
    "# ax.fill_between(\n",
    "#     mean_fpr,\n",
    "#     tprs_lower,\n",
    "#     tprs_upper,\n",
    "#     color=\"grey\",\n",
    "#     alpha=0.5,\n",
    "#     label=r\"$\\pm$ 1 std. dev.\",\n",
    "# )\n",
    "\n",
    "ax.set(\n",
    "    xlim=[0.0, .5],\n",
    "    ylim=[0.5, 1.],\n",
    ")\n",
    "\n",
    "# ax.set_xlabel('1 - Specificity')\n",
    "# ax.set_ylabel('Sensitivity')\n",
    "\n",
    "# ax.legend(loc=\"lower right\")\n",
    "fig.savefig(output_path / f'auroc_{cfg.logging_name}_{test_cohorts}_zoom.svg',  format='svg', bbox_inches = 'tight', pad_inches = 0)\n",
=======
    "ax.set(\n",
    "    xlim=[0., .4],\n",
    "    ylim=[0.6, 1.],\n",
    ")\n",
    "\n",
    "# fig.savefig(figure_path / f'auroc_{cfg.logging_name}_{test_cohorts}_zoom.svg',  format='svg', bbox_inches = 'tight', pad_inches = 0)\n",
>>>>>>> bb405d15eaa03ce2e1ed24c9fbcb9146a0988912
    "plt.show()"
   ]
  },
  {
<<<<<<< HEAD
   "cell_type": "code",
   "execution_count": null,
   "id": "01a11224",
   "metadata": {},
   "outputs": [],
   "source": []
  },
  {
   "cell_type": "code",
   "execution_count": 131,
=======
   "attachments": {},
   "cell_type": "markdown",
   "id": "01a11224",
   "metadata": {},
   "source": [
    "## Plot PR curve"
   ]
  },
  {
   "cell_type": "code",
   "execution_count": 35,
>>>>>>> bb405d15eaa03ce2e1ed24c9fbcb9146a0988912
   "id": "97ff32ad",
   "metadata": {},
   "outputs": [
    {
     "data": {
<<<<<<< HEAD
      "image/png": "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",
      "text/plain": [
       "<Figure size 288x288 with 1 Axes>"
      ]
     },
     "metadata": {
      "needs_background": "light"
     },
=======
      "image/png": "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",
      "text/plain": [
       "<Figure size 400x400 with 1 Axes>"
      ]
     },
     "metadata": {},
>>>>>>> bb405d15eaa03ce2e1ed24c9fbcb9146a0988912
     "output_type": "display_data"
    }
   ],
   "source": [
    "pred_dfs = [pd.read_csv(p, dtype=str) for p in pred_csvs]\n",
    "\n",
    "y_trues = [df[\"ground_truth\"] == f'{true_label:.1f}' for df in pred_dfs]\n",
    "y_preds = [pd.to_numeric(df[f'logits']) for df in pred_dfs]\n",
    "title = f'{cfg.target} = {true_label}'\n",
    "fig, ax = plt.subplots(figsize=(4, 4))\n",
    "if len(pred_dfs) == 1:\n",
    "    plot_precision_recall_curve(ax, y_trues[0], y_preds[0], title=title)\n",
    "else:\n",
    "    plot_precision_recall_curves(ax, y_trues, y_preds, title=title)\n",
    "\n",
    "# fig.savefig(Path(output_path)/f'prc_{log_name}_{target_label}={true_label}_{eval_name}.svg')\n",
    "plt.show()"
   ]
  },
  {
   "cell_type": "code",
<<<<<<< HEAD
   "execution_count": 148,
=======
   "execution_count": 36,
>>>>>>> bb405d15eaa03ce2e1ed24c9fbcb9146a0988912
   "id": "73dd5c03",
   "metadata": {},
   "outputs": [
    {
     "data": {
<<<<<<< HEAD
      "image/png": "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",
      "text/plain": [
       "<Figure size 360x360 with 1 Axes>"
      ]
     },
     "metadata": {
      "needs_background": "light"
     },
=======
      "image/png": "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",
      "text/plain": [
       "<Figure size 500x500 with 1 Axes>"
      ]
     },
     "metadata": {},
>>>>>>> bb405d15eaa03ce2e1ed24c9fbcb9146a0988912
     "output_type": "display_data"
    }
   ],
   "source": [
    "precs = []\n",
    "aucs = []\n",
    "mean_recall = np.linspace(0, 1, 100)\n",
    "\n",
    "y_trues = [df[\"ground_truth\"] == f'{true_label:.1f}' for df in pred_dfs]\n",
    "y_preds = [pd.to_numeric(df[f'logits']) for df in pred_dfs]\n",
    "\n",
    "fig, ax = plt.subplots(figsize=(5, 5))\n",
    "\n",
    "for i in range(len(y_trues)):\n",
    "    prec, rec, _ = precision_recall_curve(y_trues[i], y_preds[i])\n",
    "    prec, rec = prec[::-1], rec[::-1]  # reverse order for interp\n",
    "    pr_auc = average_precision_score(y_trues[i], y_preds[i])\n",
    "    \n",
    "    ax.plot(rec, prec, label=f'AUC = {pr_auc:0.2f}', color=pl.cm.viridis(i*(1/len(y_trues))))\n",
    "    \n",
    "    baseline = y_trues[i].sum()/len(y_trues[i])\n",
    "\n",
    "    interp_prec = np.interp(mean_recall, rec, prec)\n",
    "    interp_prec[0] = 0.0\n",
<<<<<<< HEAD
    "#     print(interp_prec[:20])\n",
    "#     print(rec[:20])\n",
    "#     print(prec[:20])\n",
=======
>>>>>>> bb405d15eaa03ce2e1ed24c9fbcb9146a0988912
    "    precs.append(interp_prec)\n",
    "    aucs.append(pr_auc)\n",
    "    \n",
    "y_trues = np.concatenate(y_trues, dtype=int)\n",
    "y_preds = np.concatenate(y_preds, dtype=float)\n",
    "prec, rec, _ = precision_recall_curve(y_trues, y_preds)\n",
    "\n",
    "pr_auc = average_precision_score(y_trues, y_preds)\n",
    "\n",
    "ax.plot([0, 1], [baseline, baseline], '--', label=\"Chance\", alpha=0.8, color=\"gray\", lw=1)\n",
    "\n",
<<<<<<< HEAD
    "\n",
    "# mean_prec = np.mean(precs, axis=0)\n",
    "# mean_prec[-1] = 1.0\n",
    "# mean_auc = auc(mean_prec, mean_recall)\n",
    "# std_auc = np.std(aucs)\n",
    "# # plot mean curve\n",
    "# ax.plot(\n",
    "#     mean_recall,\n",
    "#     mean_prec,\n",
    "#     color=\"b\",\n",
    "#     label=r\"Mean PRC (AUC = %0.2f $\\pm$ %0.2f)\" % (mean_auc, std_auc),\n",
    "#     lw=2,\n",
    "#     alpha=0.8,\n",
    "# )\n",
    "\n",
    "# std_precisions = np.std(precisions, axis=0)\n",
    "# prec_upper = np.minimum(mean_prec + std_precisions, 1)\n",
    "# prec_lower = np.maximum(mean_prec - std_precisions, 0)\n",
    "# ax.fill_between(\n",
    "#     mean_prec,\n",
    "#     prec_lower,\n",
    "#     prec_upper,\n",
    "#     color=\"grey\",\n",
    "#     alpha=0.2,\n",
    "#     label=r\"$\\pm$ 1 std. dev.\",\n",
    "# )\n",
    "\n",
=======
>>>>>>> bb405d15eaa03ce2e1ed24c9fbcb9146a0988912
    "ax.set(\n",
    "    xlim=[-0.05, 1.05],\n",
    "    ylim=[-0.05, 1.05],\n",
    "    title=f\"PRC for {test_cohorts} (target: {cfg.target})\",\n",
    ")\n",
    "\n",
    "ax.set_xlabel('Recall')\n",
    "ax.set_ylabel('Precision')\n",
    "\n",
    "ax.legend(loc=\"lower left\")\n",
<<<<<<< HEAD
    "fig.savefig(output_path / f'prauc{cfg.logging_name}_{test_cohorts}.svg', format='svg', bbox_inches = 'tight', pad_inches = 0)\n",
    "plt.show()"
   ]
  },
  {
   "cell_type": "markdown",
   "id": "691cd1ec",
   "metadata": {},
   "source": [
    "### restrict patients (to age condition)"
   ]
  },
  {
   "cell_type": "code",
   "execution_count": null,
   "id": "b617690f",
   "metadata": {},
   "outputs": [],
   "source": [
    "# create list of patients with age under 50\n",
    "# cohort = 'Yorkshire-resections'\n",
    "# cohort = 'Dachs'\n",
    "# cohort_label = 'DACHS'\n",
    "cohort = 'Quasar'\n",
    "cohort_label = 'QUASAR'\n",
    "# cohort = 'TCGA'\n",
    "norm = 'macenko'\n",
    "feats = 'ctranspath'\n",
    "target_labels = ['isMSIH']\n",
    "categories = ['Not mut.', 'Mutat.', 'nonMSIH', 'MSIH', 'WT', 'MUT', 'wt', 'MT']\n",
    "clini_info = False"
   ]
  },
  {
   "cell_type": "code",
   "execution_count": null,
   "id": "899d1060",
   "metadata": {},
   "outputs": [],
   "source": [
    "clini_table = MSI_cohorts_munich[cohort]['clini_table']\n",
    "slide_csv = MSI_cohorts_munich[cohort]['slide_csv']\n",
    "feature_dir = MSI_cohorts_munich[cohort]['feature_dir'][norm][feats]"
   ]
  },
  {
   "cell_type": "code",
   "execution_count": null,
   "id": "391de8c0",
   "metadata": {},
   "outputs": [],
   "source": [
    "clini_df = pd.read_csv(clini_table, dtype=str) if Path(clini_table).suffix == '.csv' else pd.read_excel(\n",
    "    clini_table, dtype=str)\n",
    "slide_df = pd.read_csv(slide_csv, dtype=str)\n",
    "df = clini_df.merge(slide_df, on='PATIENT')\n",
    "# adapt dataframe to case sensitive clini tables\n",
    "df = df.rename({\n",
    "    'MSI': 'isMSIH',\n",
    "    'BRAF': 'braf', 'BRAF_mutation': 'braf', 'braf_status': 'braf', \n",
    "    'KRAS': 'kras', 'kras_status': 'kras', 'KRAS_mutation': 'kras',\n",
    "    'NRAS': 'nras', 'NRAS_mutation': 'nras',  \n",
    "}, axis=1)\n",
    "\n",
    "# remove columns not in target_labels\n",
    "for key in df.columns:\n",
    "    if key not in target_labels + ['PATIENT', 'SLIDE', 'FILENAME', 'AGE', 'GENDER', 'LEFT_RIGHT']:\n",
    "        df.drop(key, axis=1, inplace=True)\n",
    "# remove rows/slides with non-valid labels\n",
    "for target in target_labels:\n",
    "    df = df[df[target].isin(categories)]\n",
    "if clini_info:\n",
    "    df = df[df['GENDER'].isin(['female', 'male'])]\n",
    "    df = df[df['AGE'].str.isdigit()]\n",
    "    df = df[df['LEFT_RIGHT'].isin(['left', 'right'])]\n",
    "# remove slides we don't have\n",
    "h5s = set(feature_dir.glob('*.h5'))\n",
    "assert h5s, f'no features found in {feature_dir}!'\n",
    "h5_df = pd.DataFrame(h5s, columns=['slide_path'])\n",
    "# h5_df['FILENAME'] = h5_df.slide_path.map(lambda p: p.stem.split('.')[0])\n",
    "h5_df['FILENAME'] = h5_df.slide_path.map(lambda p: p.stem.split('.')[0]) if cohort=='TCGA' else h5_df.slide_path.map(lambda p: p.stem)\n",
    "df = df.merge(h5_df, on='FILENAME')\n",
    "\n",
    "# reduce to one row per patient with list of slides in `df['slide_path']`\n",
    "patient_df = df.groupby('PATIENT').first().drop(columns='slide_path')\n",
    "patient_slides = df.groupby('PATIENT').slide_path.apply(list)\n",
    "df = patient_df.merge(patient_slides, left_on='PATIENT', right_index=True).reset_index()"
   ]
  },
  {
   "cell_type": "code",
   "execution_count": null,
   "id": "19e9becc",
   "metadata": {},
   "outputs": [],
   "source": [
    "uni = df['AGE'].unique()"
   ]
  },
  {
   "cell_type": "code",
   "execution_count": null,
   "id": "3fdd864d",
   "metadata": {},
   "outputs": [],
   "source": [
    "uni.sort()"
   ]
  },
  {
   "cell_type": "code",
   "execution_count": null,
   "id": "61e82e9a",
   "metadata": {},
   "outputs": [],
   "source": [
    "uni"
   ]
  },
  {
   "cell_type": "code",
   "execution_count": null,
   "id": "29a10165",
   "metadata": {},
   "outputs": [],
   "source": [
    "# new['AGE'] = new['AGE'].astype(int)\n",
    "df['AGE'] = df['AGE'].astype(int)\n",
    "df = df.drop('isMSIH', axis=1)"
   ]
  },
  {
   "cell_type": "code",
   "execution_count": null,
   "id": "c5b03427",
   "metadata": {},
   "outputs": [],
   "source": [
    "df"
   ]
  },
  {
   "cell_type": "code",
   "execution_count": null,
   "id": "363d62b7",
   "metadata": {},
   "outputs": [],
   "source": [
    "df = df[df['AGE'] < 50]\n",
    "df = df[df['AGE'] > 0]"
   ]
  },
  {
   "cell_type": "code",
   "execution_count": null,
   "id": "026c5633",
   "metadata": {},
   "outputs": [],
   "source": [
    "df"
   ]
  },
  {
   "cell_type": "code",
   "execution_count": null,
   "id": "8c676454",
   "metadata": {},
   "outputs": [],
   "source": [
    "pred_dfs = [pd.read_csv(p, dtype=str) for p in pred_csvs]\n",
    "pred_dfs = [pd.merge(pred_dfs[i], df, on=\"PATIENT\", how='inner') for i in range(len(pred_dfs))]\n",
    "\n",
    "y_trues = [df[target_label] == f'{true_label}' for df in pred_dfs]\n",
    "y_preds = [pd.to_numeric(df[f'score']) for df in pred_dfs]"
   ]
  },
  {
   "cell_type": "code",
   "execution_count": null,
   "id": "72a9bd75",
   "metadata": {},
   "outputs": [],
   "source": [
    "tprs = []\n",
    "aucs = []\n",
    "mean_fpr = np.linspace(0, 1, 100)\n",
    "\n",
    "\n",
    "fig, ax = plt.subplots(figsize=(5, 5))\n",
    "\n",
    "for i in range(len(y_trues)):\n",
    "    fpr, tpr, _ = roc_curve(y_trues[i], y_preds[i])\n",
    "    roc_auc = roc_auc_score(y_trues[i], y_preds[i])\n",
    "    \n",
    "#     ax.plot(fpr, tpr, label=f'AUC = {roc_auc:0.2f}', alpha=0.3, color='black')\n",
    "\n",
    "\n",
    "    interp_tpr = np.interp(mean_fpr, fpr, tpr)\n",
    "    interp_tpr[0] = 0.0\n",
    "    tprs.append(interp_tpr)\n",
    "    aucs.append(roc_auc)\n",
    "ax.plot([0, 1], [0, 1], linestyle=\"--\", lw=1, color=\"gray\", label=\"Chance\", alpha=0.8)\n",
    "\n",
    "mean_tpr = np.mean(tprs, axis=0)\n",
    "mean_tpr[-1] = 1.0\n",
    "mean_auc = auc(mean_fpr, mean_tpr)\n",
    "std_auc = np.std(aucs)\n",
    "# plot mean curve\n",
    "ax.plot(\n",
    "    mean_fpr,\n",
    "    mean_tpr,\n",
    "    color=\"black\",\n",
    "    label=r\"Mean ROC (AUC = %0.2f $\\pm$ %0.3f)\" % (mean_auc, std_auc),\n",
    "    lw=2,\n",
    "    alpha=0.8,\n",
    ")\n",
    "\n",
    "std_tpr = np.std(tprs, axis=0)\n",
    "tprs_upper = np.minimum(mean_tpr + std_tpr, 1)\n",
    "tprs_lower = np.maximum(mean_tpr - std_tpr, 0)\n",
    "ax.fill_between(\n",
    "    mean_fpr,\n",
    "    tprs_lower,\n",
    "    tprs_upper,\n",
    "    color=\"grey\",\n",
    "    alpha=0.5,\n",
    "    label=r\"$\\pm$ 1 std. dev.\",\n",
    ")\n",
    "\n",
    "ax.set(\n",
    "    xlim=[-0.05, 1.05],\n",
    "    ylim=[-0.05, 1.05],\n",
    "    title=f\"ROC for patients with age < 50 from {cohort_label} (n={len(df)})\",\n",
    ")\n",
    "\n",
    "ax.set_xlabel('1 - Specificity')\n",
    "ax.set_ylabel('Sensitivity')\n",
    "\n",
    "ax.legend(loc=\"lower right\")\n",
    "fig.savefig(output_path / f'auroc_{log_name}_{target_label}_{eval_name}_under50.svg', format='svg', bbox_inches = 'tight', pad_inches = 0)\n",
    "plt.show()"
   ]
  },
  {
   "cell_type": "code",
   "execution_count": null,
   "id": "a21485b7",
   "metadata": {},
   "outputs": [],
   "source": [
    "tprs = []\n",
    "aucs = []\n",
    "mean_fpr = np.linspace(0, 1, 100)\n",
    "\n",
    "\n",
    "fig, ax = plt.subplots(figsize=(0.45*5,0.75*5))\n",
    "\n",
    "for i in range(len(y_trues)):\n",
    "    fpr, tpr, _ = roc_curve(y_trues[i], y_preds[i])\n",
    "    roc_auc = roc_auc_score(y_trues[i], y_preds[i])\n",
    "    \n",
    "    ax.plot(fpr, tpr, lw=1, label=f'AUC = {roc_auc:0.2f}', color=pl.cm.viridis(i*(1/len(y_trues))))\n",
    "\n",
    "    interp_tpr = np.interp(mean_fpr, fpr, tpr)\n",
    "    interp_tpr[0] = 0.0\n",
    "    tprs.append(interp_tpr)\n",
    "    aucs.append(roc_auc)\n",
    "ax.plot([0, 1], [0, 1], linestyle=\"--\", lw=1, color=\"gray\", label=\"Chance\", alpha=0.8)\n",
    "\n",
    "mean_tpr = np.mean(tprs, axis=0)\n",
    "mean_tpr[-1] = 1.0\n",
    "mean_auc = auc(mean_fpr, mean_tpr)\n",
    "std_auc = np.std(aucs)\n",
    "# plot mean curve\n",
    "ax.plot(\n",
    "    mean_fpr,\n",
    "    mean_tpr,\n",
    "    color=\"black\",\n",
    "    label=r\"Mean ROC (AUC = %0.2f $\\pm$ %0.3f)\" % (mean_auc, std_auc),\n",
    "    lw=2,\n",
    "    alpha=0.8,\n",
    ")\n",
    "\n",
    "# std_tpr = np.std(tprs, axis=0)\n",
    "# tprs_upper = np.minimum(mean_tpr + std_tpr, 1)\n",
    "# tprs_lower = np.maximum(mean_tpr - std_tpr, 0)\n",
    "# ax.fill_between(\n",
    "#     mean_fpr,\n",
    "#     tprs_lower,\n",
    "#     tprs_upper,\n",
    "#     color=\"grey\",\n",
    "#     alpha=0.5,\n",
    "#     label=r\"$\\pm$ 1 std. dev.\",\n",
    "# )\n",
    "\n",
    "ax.set(\n",
    "    xlim=[0.0, .45],\n",
    "    ylim=[0.25, 1.],\n",
    ")\n",
    "\n",
    "# ax.set_xlabel('1 - Specificity')\n",
    "# ax.set_ylabel('Sensitivity')\n",
    "\n",
    "# ax.legend(loc=\"lower right\")\n",
    "fig.savefig(output_path / f'auroc_{log_name}_{target_label}_{eval_name}_under50_zoom.svg',  format='svg', bbox_inches = 'tight', pad_inches = 0)\n",
=======
    "fig.savefig(figure_path / f'prauc_{cfg.logging_name}_{test_cohorts}.svg', format='svg', bbox_inches = 'tight', pad_inches = 0)\n",
>>>>>>> bb405d15eaa03ce2e1ed24c9fbcb9146a0988912
    "plt.show()"
   ]
  },
  {
<<<<<<< HEAD
=======
   "attachments": {},
>>>>>>> bb405d15eaa03ce2e1ed24c9fbcb9146a0988912
   "cell_type": "markdown",
   "id": "166173df",
   "metadata": {},
   "source": [
<<<<<<< HEAD
    "# Plot confusion matrix, analyze sensitifity and specificity"
=======
    "## Plot confusion matrix, analyze sensitifity and specificity"
>>>>>>> bb405d15eaa03ce2e1ed24c9fbcb9146a0988912
   ]
  },
  {
   "cell_type": "code",
   "execution_count": null,
   "id": "94901382",
   "metadata": {},
   "outputs": [],
   "source": [
<<<<<<< HEAD
    "csv_dir = Path('/lustre/groups/peng/workspace/sophia.wagner/logs/genalt/outputs')\n",
=======
    "# csv_dir = Path('/lustre/groups/peng/workspace/sophia.wagner/logs/genalt/outputs')\n",
>>>>>>> bb405d15eaa03ce2e1ed24c9fbcb9146a0988912
    "\n",
    "# model paths ---------------------------------------------------------------\n",
    "# --- for MSI-H\n",
    "# log_name = 'ctranspath_8epo_vit-cls_rand867_Dachs-Quasar-Rainbow-TCGA_macenko' # model for MSI-H\n",
    "# log_name = 'histaugan_rand867_vit-cls_Dachs-Quasar-Rainbow-TCGA_histaugan' # histaugan model for MSI-H\n",
<<<<<<< HEAD
    "log_name = 'raw_rand867_vit-cls_Dachs-Quasar-Rainbow-TCGA_raw' # raw model for MSI-H\n",
=======
    "# log_name = 'raw_rand867_vit-cls_Dachs-Quasar-Rainbow-TCGA_raw' # raw model for MSI-H\n",
>>>>>>> bb405d15eaa03ce2e1ed24c9fbcb9146a0988912
    "# --- for BRAF and KRAS\n",
    "# log_name = 'ctranspath_8epo_vit-cls_Dachs-Quasar-Rainbow-TCGA_macenko'  # model for BRAF and KRAS\n",
    "# --- for age < 50\n",
    "# log_name = 'ctranspath_epo8_vit-cls_Dachs_macenko' # model for age < 50\n",
    "# log_name = 'ctranspath_epo8_vit-cls_Quasar_macenko' # model for age < 50\n",
    "\n",
    "# cohort for evaluation -------------------------------------------------------\n",
<<<<<<< HEAD
    "eval_name = 'Yorkshire-resections'\n",
    "eval_name_label = 'YCR-BCIP'\n",
=======
    "# eval_name = 'Yorkshire-resections'\n",
    "# eval_name_label = 'YCR-BCIP'\n",
>>>>>>> bb405d15eaa03ce2e1ed24c9fbcb9146a0988912
    "cmap = plt.cm.Blues\n",
    "# eval_name = 'Yorkshire-biopsies'\n",
    "# eval_name_label = 'YCR-BCIP-biopsies'\n",
    "# cmap = plt.cm.Greens\n",
    "# eval_name = 'Quasar'\n",
    "# eval_name = 'Dachs'\n",
    "# eval_name = 'Belfast'\n",
    "# eval_name_label = 'Epi700'\n",
    "# eval_name = 'KIEL-STAD'\n",
    "\n",
    "# target label ---------------------------------------------------------------\n",
    "target_label = 'isMSIH'\n",
    "target_label_name = 'MSI-H'\n",
    "# target_label = 'braf'\n",
    "# target_label_name = 'BRAF'\n",
    "# target_label = 'kras'\n",
    "# target_label_name = 'KRAS'\n",
    "true_label = 1"
   ]
  },
  {
   "cell_type": "code",
   "execution_count": null,
   "id": "addd9724",
   "metadata": {},
   "outputs": [],
   "source": [
    "# csv_paths = csv_dir.glob(f'outputs_{log_name}_{target_label}_fold*.csv')\n",
<<<<<<< HEAD
    "csv_paths = csv_dir.glob(f'outputs_{log_name}_{target_label}_fold*_eval_{eval_name}.csv')\n",
    "pred_csvs = list(csv_paths)\n",
=======
    "# csv_paths = csv_dir.glob(f'outputs_{log_name}_{target_label}_fold*_eval_{eval_name}.csv')\n",
    "# pred_csvs = list(csv_paths)\n",
>>>>>>> bb405d15eaa03ce2e1ed24c9fbcb9146a0988912
    "# pred_csvs = [csv_dir / f'outputs_{log_name}_{target_label}_fold{k}.csv' for k in range(5)]"
   ]
  },
  {
   "cell_type": "code",
   "execution_count": null,
<<<<<<< HEAD
   "id": "1a75233c",
   "metadata": {},
   "outputs": [],
   "source": [
    "pred_dfs = [pd.read_csv(p, dtype=str) for p in pred_csvs]\n",
    "\n",
    "y_trues = [df[target_label] == f'{true_label}' for df in pred_dfs]\n",
    "y_preds = [pd.to_numeric(df[f'score']) for df in pred_dfs]"
   ]
  },
  {
   "cell_type": "code",
   "execution_count": null,
=======
>>>>>>> bb405d15eaa03ce2e1ed24c9fbcb9146a0988912
   "id": "b1b1ff01",
   "metadata": {},
   "outputs": [],
   "source": [
    "desired_sensitivity = 0.95"
   ]
  },
  {
   "cell_type": "code",
   "execution_count": null,
   "id": "dc11da2d",
   "metadata": {},
   "outputs": [],
   "source": [
    "# determine classification threshold on test data\n",
    "thresholds_test = []\n",
    "sensitivity = []\n",
    "specificity = []\n",
    "# Calculate the ROC curve\n",
    "for k in range(5):\n",
    "    fpr, tpr, thresholds = roc_curve(y_trues[k], y_preds[k])\n",
    "\n",
    "    # Find the threshold for a desired sensitivity\n",
    "    thresholds_test.append(thresholds[tpr >= desired_sensitivity][0])\n",
    "    sensitivity.append(tpr[tpr >= desired_sensitivity][0])\n",
    "    specificity.append(1-fpr[tpr >= desired_sensitivity][0])\n",
    "#     print(1-fpr[tpr >= 0.95])\n",
    "\n",
    "threshold_test = np.array(thresholds_test).mean()\n",
    "# Print the threshold\n",
    "print(f\"Mean treshold for desired sensitivity of {desired_sensitivity:.2f}: {np.array(thresholds_test).mean():.4f}\")\n",
    "print(f\"The model achieves sensitivity: {np.array(sensitivity).mean():.4f} with specificty {np.array(specificity).mean():.4f}\")"
   ]
  },
  {
   "cell_type": "code",
   "execution_count": null,
   "id": "ebb79b30",
   "metadata": {},
   "outputs": [],
   "source": [
<<<<<<< HEAD
    "csv_paths_train = csv_dir.glob(f'outputs_{log_name}_{target_label}_fold*.csv')\n",
    "pred_csvs_train = list(csv_paths_train)"
=======
    "csv_paths = result_path.glob(f'fold*/outputs_{test_cohorts}.csv')\n",
    "pred_csvs = list(csv_paths)"
>>>>>>> bb405d15eaa03ce2e1ed24c9fbcb9146a0988912
   ]
  },
  {
   "cell_type": "code",
   "execution_count": null,
<<<<<<< HEAD
   "id": "62570c47",
   "metadata": {},
   "outputs": [],
   "source": [
    "pred_dfs_train = [pd.read_csv(p, dtype=str) for p in pred_csvs_train]\n",
    "\n",
    "y_trues_train = [df[target_label] == f'{true_label}' for df in pred_dfs_train]\n",
    "y_preds_train = [pd.to_numeric(df[f'score']) for df in pred_dfs_train]"
=======
   "id": "f4c66960",
   "metadata": {},
   "outputs": [],
   "source": [
    "csv_paths = result_path.glob(f'fold*/outputs_{test_cohorts}.csv')\n",
    "pred_csvs = list(csv_paths)"
>>>>>>> bb405d15eaa03ce2e1ed24c9fbcb9146a0988912
   ]
  },
  {
   "cell_type": "code",
   "execution_count": null,
   "id": "b45fec9b",
   "metadata": {},
   "outputs": [],
   "source": [
    "# determine best fold according to AUROC score\n",
    "rocs = []\n",
    "for i in range(len(y_trues)):\n",
<<<<<<< HEAD
    "#     rocs.append(roc_auc_score(y_trues[i], y_preds[i])) \n",
    "    rocs.append(roc_auc_score(y_trues_train[i], y_preds_train[i]))\n",
=======
    "    rocs.append(roc_auc_score(y_trues[i], y_preds[i])) \n",
    "    # rocs.append(roc_auc_score(y_trues_train[i], y_preds_train[i]))\n",
>>>>>>> bb405d15eaa03ce2e1ed24c9fbcb9146a0988912
    "best_fold = np.argmax(rocs)\n",
    "print(f'best fold: {best_fold}, with AUROC {rocs[best_fold]:.4f}')"
   ]
  },
  {
   "cell_type": "code",
   "execution_count": null,
   "id": "c91f40dd",
   "metadata": {},
   "outputs": [],
   "source": [
    "rocs"
   ]
  },
  {
   "cell_type": "code",
   "execution_count": null,
<<<<<<< HEAD
=======
   "id": "3fd61153",
   "metadata": {},
   "outputs": [],
   "source": [
    "desired_sensitivity = 0.9"
   ]
  },
  {
   "cell_type": "code",
   "execution_count": null,
>>>>>>> bb405d15eaa03ce2e1ed24c9fbcb9146a0988912
   "id": "f745835a",
   "metadata": {},
   "outputs": [],
   "source": [
    "# determine classification threshold on test data\n",
    "thresholds_train = []\n",
    "sensitivity_indomain = []\n",
    "specificity_indomain =[]\n",
    "\n",
    "sensitivity = []\n",
    "specificity =[]\n",
    "# Calculate the ROC curve\n",
    "for k in range(5):\n",
<<<<<<< HEAD
    "    fpr_indomain, tpr_indomain, thresholds_indomain = roc_curve(y_trues_train[k], y_preds_train[k])\n",
=======
    "    fpr_indomain, tpr_indomain, thresholds_indomain = roc_curve(y_trues_indomain[k], y_preds_indomain[k])\n",
>>>>>>> bb405d15eaa03ce2e1ed24c9fbcb9146a0988912
    "    fpr, tpr, thresholds = roc_curve(y_trues[k], y_preds[k])\n",
    "\n",
    "    # Find the threshold for a desired sensitivity\n",
    "    thresholds_train.append(thresholds_indomain[tpr_indomain >= desired_sensitivity][0])\n",
    "    sensitivity_indomain.append(tpr_indomain[tpr_indomain >= desired_sensitivity][0])\n",
    "    specificity_indomain.append(1-fpr_indomain[tpr_indomain >= desired_sensitivity][0])\n",
    "    \n",
    "    sensitivity.append(tpr[thresholds >= thresholds_train[k]][-1])\n",
    "    specificity.append(1-fpr[thresholds >= thresholds_train[k]][-1])\n",
    "    \n",
    "threshold_train = np.array(thresholds_train).mean()\n",
    "# Print the threshold\n",
<<<<<<< HEAD
=======
    "print(thresholds_train)\n",
>>>>>>> bb405d15eaa03ce2e1ed24c9fbcb9146a0988912
    "print(f\"Mean treshold for desired sensitivity of {desired_sensitivity:.2f}: {np.array(thresholds_train).mean():.4f}\")\n",
    "print(f\"Sensitivity (with in-domain threshold): {np.array(sensitivity_indomain).mean():.4f} with specificty {np.array(specificity_indomain).mean():.4f}\")\n",
    "print(f\"Sensitivity (with external threshold): {np.array(sensitivity).mean():.4f} with specificty {np.array(specificity).mean():.4f}\")"
   ]
  },
  {
   "cell_type": "code",
   "execution_count": null,
   "id": "45f30ad7",
   "metadata": {},
   "outputs": [],
   "source": [
    "npv = []\n",
    "for k in range(5):\n",
    "    tn, fp, fn, tp = confusion_matrix(y_trues[k], y_preds[k] > thresholds_train[k]).flatten()\n",
    "    npv.append(tn / (tn + fn))\n",
    "print(f\"Negative predictive value (with in-domain threshold): {np.array(npv).mean():.4f}\")"
   ]
  },
  {
   "cell_type": "code",
   "execution_count": null,
   "id": "54f9eb95",
   "metadata": {},
   "outputs": [],
   "source": [
    "npv = []\n",
    "for k in range(5):\n",
    "    tn, fp, fn, tp = confusion_matrix(y_trues[k], y_preds[k] > thresholds_test[k]).flatten()\n",
    "    npv.append(tn / (tn + fn))\n",
    "print(f\"Negative predictive value (with external threshold): {np.array(npv).mean():.4f}\")"
   ]
  },
  {
   "cell_type": "code",
   "execution_count": null,
   "id": "1a9b17ae",
   "metadata": {},
   "outputs": [],
   "source": [
    "threshold_train, threshold_test"
   ]
  },
  {
   "cell_type": "code",
   "execution_count": null,
   "id": "deb6e1cd",
   "metadata": {},
   "outputs": [],
   "source": [
    "# determine negative predictive value\n",
    "print(f\"Negative predictive value (with in-domain threshold): {np.array(specificity_indomain).mean()/(1-np.array(sensitivity_indomain).mean()):.4f}\")\n",
    "print(f\"Negative predictive value (with external threshold): {np.array(specificity).mean()/(1-np.array(sensitivity).mean()):.4f}\")"
   ]
  },
  {
<<<<<<< HEAD
=======
   "attachments": {},
   "cell_type": "markdown",
   "id": "fa3062af",
   "metadata": {},
   "source": [
    "## determine thresholds for each fold"
   ]
  },
  {
   "cell_type": "code",
   "execution_count": null,
   "id": "a557bb21",
   "metadata": {},
   "outputs": [],
   "source": [
    "# determine classification threshold on in-domain test data\n",
    "best_thresholds = []\n",
    "# choose threshold according to desired sensitivity or geometric mean\n",
    "desired_sensitivity = 0.9\n",
    "\n",
    "for k in range(5):\n",
    "    # in-domain test set\n",
    "    fpr, tpr, thresholds = roc_curve(y_trues_indomain[k], y_preds_indomain[k])\n",
    "    \n",
    "    if desired_sensitivity:\n",
    "        best_threshold = thresholds[tpr >= desired_sensitivity][0]\n",
    "    else:\n",
    "        gm = np.sqrt(tpr * (1 - fpr))\n",
    "        best_threshold = thresholds[np.argmax(gm)]\n",
    "\n",
    "    best_thresholds.append(best_threshold)\n",
    "    \n",
    "print(best_thresholds)\n"
   ]
  },
  {
   "cell_type": "code",
   "execution_count": null,
   "id": "3587ca60",
   "metadata": {},
   "outputs": [],
   "source": [
    "sensitivity = []\n",
    "specificity = []\n",
    "precision = []\n",
    "npv = []\n",
    "\n",
    "# threshold = [0.6940] * 5\n",
    "# threshold = [0.5] * 5\n",
    "threshold = best_thresholds\n",
    "for k in range(5):\n",
    "    tn, fp, fn, tp = confusion_matrix(y_trues_indomain[k], y_preds_indomain[k] > threshold[k]).ravel()\n",
    "    sensitivity.append(tp / (tp + fn))  # recall\n",
    "    specificity.append(tn / (tn + fp))\n",
    "    precision.append(tp / (tp + fp))\n",
    "    npv.append(tn / (tn + fn))\n",
    "\n",
    "print(\"In-domain test set\")\n",
    "print(f\"Mean treshold: {np.mean(threshold):.3f} with thresholds in each fold: {threshold}\")\n",
    "print(f\"Sensitivity {np.mean(sensitivity):.3f} ({np.std(sensitivity):.4f}) with specificty {np.mean(specificity):.3f} ({np.std(specificity):.4f})\")\n",
    "print(f\"Negative predictive value: {np.mean(npv):.3f} ({np.std(npv):.4f})\")\n",
    "print(f\"Precision: {np.mean(precision):.3f} ({np.std(precision):.4f})\")"
   ]
  },
  {
   "cell_type": "code",
   "execution_count": null,
   "id": "c9b66791",
   "metadata": {},
   "outputs": [],
   "source": [
    "# load evaluation cohort\n",
    "# test_cohorts = 'CHINA' \n",
    "# test_cohorts = 'Epi700' \n",
    "test_cohorts = 'MAINZ'\n",
    "# test_cohorts = 'YCR-BCIP-resections'\n",
    "# test_cohorts = 'YCR-BCIP-biopsies'\n",
    "\n",
    "csv_paths = result_path.glob(f'fold*/outputs_{test_cohorts}.csv')\n",
    "pred_csvs = list(csv_paths)\n",
    "pred_dfs = [pd.read_csv(p, dtype=str) for p in pred_csvs]\n",
    "\n",
    "y_trues = [df['ground_truth'] == f'{true_label:.1f}' for df in pred_dfs]\n",
    "y_preds = [pd.to_numeric(df[f'logits']) for df in pred_dfs]"
   ]
  },
  {
   "cell_type": "code",
   "execution_count": null,
   "id": "c2a4f8e3",
   "metadata": {},
   "outputs": [],
   "source": [
    "sensitivity = []\n",
    "specificity = []\n",
    "precision = []\n",
    "npv = []\n",
    "\n",
    "# threshold = [0.6940] * 5\n",
    "# threshold = [0.5] * 5\n",
    "threshold = best_thresholds\n",
    "for k in range(5):\n",
    "    tn, fp, fn, tp = confusion_matrix(y_trues[k], y_preds[k] > threshold[k]).ravel()\n",
    "    sensitivity.append(tp / (tp + fn))  # recall\n",
    "    specificity.append(tn / (tn + fp))\n",
    "    precision.append(tp / (tp + fp))\n",
    "    npv.append(tn / (tn + fn))\n",
    "\n",
    "print(f\"{test_cohorts} test set\")\n",
    "print(f\"Mean treshold: {np.mean(threshold):.3f} with thresholds in each fold: {threshold}\")\n",
    "print(f\"Sensitivity {np.mean(sensitivity):.3f} ({np.std(sensitivity):.4f}) with specificty {np.mean(specificity):.3f} ({np.std(specificity):.4f})\")\n",
    "print(f\"Negative predictive value: {np.mean(npv):.3f} ({np.std(npv):.4f})\")\n",
    "print(f\"Precision: {np.mean(precision):.3f} ({np.std(precision):.4f})\")\n"
   ]
  },
  {
   "cell_type": "code",
   "execution_count": null,
   "id": "fb1c2034",
   "metadata": {},
   "outputs": [],
   "source": [
    "specificity"
   ]
  },
  {
>>>>>>> bb405d15eaa03ce2e1ed24c9fbcb9146a0988912
   "cell_type": "code",
   "execution_count": null,
   "id": "89058319",
   "metadata": {},
   "outputs": [],
   "source": [
    "# Define the class labels\n",
    "labels = [\"non MSIH\", \"MSIH\"]\n",
    "\n",
    "# Calculate the confusion matrix for different classification thresholds\n",
    "# thresholds_test = np.array(thresholds_test).mean().repeat(5)\n",
    "# thresholds_train = np.array(thresholds_train).mean().repeat(5)\n",
    "thresholds = [thresholds_test, [0.25] * 5, [0.5] * 5, [0.75] * 5, thresholds_train]\n",
    "\n",
    "# Plot the confusion matrices\n",
    "fig, axs = plt.subplots(1, len(thresholds), figsize=(12,10), gridspec_kw={'width_ratios': [4, 4, 4, 4, 4.4]})\n",
    "for ax, threshold in zip(axs.flatten(), thresholds):\n",
    "    cm = []\n",
    "    for k in range(5):\n",
    "        cm.append(confusion_matrix(y_trues[k], y_preds[k] > threshold[k]))\n",
    "    cm = np.stack(cm, axis=0).mean(axis=0)    \n",
    "    print(threshold[k])\n",
    "#     cm = confusion_matrix(y_trues[best_fold], y_preds[best_fold] > threshold)\n",
    "\n",
    "    # Normalize the confusion matrices by the row\n",
    "    cm_normalized = cm.astype(\"float\") / cm.sum(axis=1)[:, np.newaxis]\n",
    "    cm_perc = cm.astype(\"float\") / cm.sum(axis=(0, 1))[np.newaxis, np.newaxis]\n",
    "\n",
    "    im = ax.imshow(cm_normalized, interpolation='nearest', cmap=cmap)\n",
    "    ax.set(xticks=np.arange(cm.shape[1]),\n",
    "           yticks=np.arange(cm.shape[0]),\n",
    "           xticklabels=labels, yticklabels=labels,\n",
    "           title=f\"Threshold = {threshold[k]:.2f}\",\n",
    "#            ylabel='True label',\n",
    "           xlabel='Predicted label')\n",
    "    ax.set_yticklabels(labels, rotation='vertical', va='center', ha='center')\n",
    "    for i in range(cm.shape[0]):\n",
    "        for j in range(cm.shape[1]):\n",
    "            color = \"w\" if cm_normalized[i, j] > 0.5 else \"k\"\n",
    "            ax.text(j, i, int(cm[i, j].round()), ha=\"center\", va=\"bottom\", color=color)\n",
    "            ax.text(j, i, f'{cm_normalized[i, j]*100:.01f}%', ha=\"center\", va=\"top\", color=color)\n",
    "#             ax.text(j, i, f'{cm_perc[i, j]*100:.01f}%', ha=\"center\", va=\"top\", color=color)\n",
    "\n",
    "cbar = fig.colorbar(im, ax=axs[-1], fraction=0.046, pad=0.04, ticks=[0.02, 0.2, 0.4, 0.6, 0.8, 0.98])\n",
    "cbar.ax.set_yticklabels(np.linspace(0, 1, 6, dtype=np.float16))  # horizontal colorbar\n",
    "axs[0].set(ylabel='True label')\n",
    "axs[0].set(title='External threshold')\n",
    "axs[-1].set(title='In-domain threshold')\n",
    "# plt.tight_layout()\n",
    "fig.savefig(output_path / f'confusion_matrices_{log_name}_{target_label}_{eval_name}_mean.svg',  format='svg', bbox_inches = 'tight', pad_inches = 0)\n",
    "plt.show()"
   ]
  },
  {
   "cell_type": "code",
   "execution_count": null,
   "id": "7a0453d7",
   "metadata": {},
   "outputs": [],
   "source": [
    "cm.astype(\"float\") / cm.sum(axis=(0, 1))[np.newaxis, np.newaxis]\n"
   ]
  },
  {
   "cell_type": "code",
   "execution_count": null,
   "id": "8c70fdc5",
   "metadata": {},
   "outputs": [],
   "source": [
    "np.array(thresholds_test).mean().repeat(5)"
   ]
  },
  {
   "cell_type": "code",
   "execution_count": null,
   "id": "ee1d5fa4",
   "metadata": {},
   "outputs": [],
   "source": [
    "# Define the class labels\n",
    "labels = [\"non MSIH\", \"MSIH\"]\n",
    "\n",
    "# Calculate the confusion matrix for different classification thresholds\n",
    "# threshsolds = [np.array(thresholds_test).mean()]\n",
    "thresholds = [thresholds_test, [0.25] * 5, [0.5] * 5, [0.75] * 5, thresholds_train]\n",
    "\n",
    "# Plot the confusion matrices\n",
    "fig, axs = plt.subplots(5, len(thresholds), figsize=(12,15), gridspec_kw={'width_ratios': [4, 4, 4, 4, 4.4]})\n",
    "for k in range(5):\n",
    "    for t in range(5):\n",
    "        cm = confusion_matrix(y_trues[k], y_preds[k] > thresholds[t][k])\n",
    "        print(t, k, thresholds[t][k], cm.sum(axis=1))\n",
    "\n",
    "        # Normalize the confusion matrices by the row\n",
    "        cm_normalized = cm.astype(\"float\") / cm.sum(axis=1)[:, np.newaxis]\n",
    "\n",
    "        im = axs[k, t].imshow(cm_normalized, interpolation='nearest', cmap=cmap)\n",
    "        axs[k, t].set(xticks=np.arange(cm.shape[1]),\n",
    "               yticks=np.arange(cm.shape[0]),\n",
    "               xticklabels=labels, yticklabels=labels,\n",
    "               title=f\"Threshold = {thresholds[t][k]:.2f}\",\n",
    "    #            ylabel='True label',\n",
    "               xlabel='Predicted label')\n",
    "        axs[k, t].set_yticklabels(labels, rotation='vertical', va='center', ha='center')\n",
    "        for i in range(cm.shape[0]):\n",
    "            for j in range(cm.shape[1]):\n",
    "                color = \"w\" if cm_normalized[i, j] > 0.5 else \"k\"\n",
    "                axs[k, t].text(j, i, int(cm[i, j].round()), ha=\"center\", va=\"bottom\", color=color)\n",
    "                axs[k, t].text(j, i, f'{cm_normalized[i, j]*100:.01f}%', ha=\"center\", va=\"top\", color=color)\n",
    "\n",
    "    cbar = fig.colorbar(im, ax=axs[k, 4], fraction=0.046, pad=0.04, ticks=[0.02, 0.2, 0.4, 0.6, 0.8, 0.98])\n",
    "    cbar.ax.set_yticklabels(np.linspace(0, 1, 6, dtype=np.float16))  # horizontal colorbar\n",
    "    axs[k, 0].set(ylabel='True label')\n",
    "    axs[k, 0].set(title=f'Ext. thresh. ({thresholds[0][k]:.03f})')\n",
    "    axs[k, 4].set(title=f'In-dom. thresh. ({thresholds[4][k]:.03f})')\n",
    "# plt.tight_layout()\n",
    "fig.savefig(output_path / f'confusion_matrices_{log_name}_{target_label}_{eval_name}_all_folds.svg',  format='svg', bbox_inches = 'tight', pad_inches = 0)\n",
    "plt.show()"
   ]
  },
  {
   "cell_type": "code",
   "execution_count": null,
   "id": "2e312e1d",
   "metadata": {},
   "outputs": [],
   "source": [
    "thresholds_test"
   ]
  },
  {
   "cell_type": "code",
   "execution_count": null,
   "id": "4dfeba7c",
   "metadata": {},
   "outputs": [],
   "source": [
    "fig = plt.figure(figsize=(10, 5))\n",
    "# Split the predictions and labels by label\n",
    "preds_0 = y_preds[best_fold][y_trues[best_fold] == 0]\n",
    "preds_1 = y_preds[best_fold][y_trues[best_fold] == 1]\n",
    "\n",
    "# Plot the histograms\n",
    "plt.hist([preds_0, preds_1], bins=50, density=True, label=[\"nonMSIH\", \"MSIH\"])\n",
    "# plt.hist([preds_0, preds_1], bins=50, density=False, label=[\"nonMSIH\", \"MSIH\"], alpha=0.2)\n",
    "plt.xlabel(\"Prediction\")\n",
    "plt.ylabel(\"Density\")\n",
    "plt.legend()\n",
    "plt.tight_layout()\n",
    "plt.show()"
   ]
  },
  {
   "cell_type": "code",
   "execution_count": null,
   "id": "c0f15ab5",
   "metadata": {},
   "outputs": [],
   "source": [
    "num_folds = 5\n",
    "\n",
    "# Set up the subplots\n",
    "fig, axs = plt.subplots(1, num_folds, figsize=(num_folds * 5, 5))\n",
    "\n",
    "# Plot the histograms for each model\n",
    "for k, ax, in enumerate(axs):\n",
    "    preds_0 = y_preds[k][y_trues[k] == 0]\n",
    "    preds_1 = y_preds[k][y_trues[k] == 1]\n",
    "    \n",
    "    ax.hist([preds_0, preds_1], bins=50, density=True, label=[\"nonMSIH\", \"MSIH\"])\n",
    "    ax.set_xlabel(\"Prediction\")\n",
    "    ax.set_ylabel(\"Density\")\n",
    "    ax.legend()"
   ]
  },
  {
   "cell_type": "code",
   "execution_count": null,
   "id": "00e33fde",
   "metadata": {},
   "outputs": [],
   "source": [
    "y_trues"
   ]
  },
  {
<<<<<<< HEAD
=======
   "attachments": {},
   "cell_type": "markdown",
   "id": "45713b35",
   "metadata": {},
   "source": [
    "### compute missing statistics"
   ]
  },
  {
   "cell_type": "code",
   "execution_count": null,
   "id": "18442165",
   "metadata": {},
   "outputs": [],
   "source": [
    "pred_dfs = [pd.read_csv(p, dtype=str) for p in pred_csvs]\n",
    "\n",
    "y_trues = [df['ground_truth'] == f'{true_label:.1f}' for df in pred_dfs]\n",
    "y_preds = [pd.to_numeric(df[f'logits']) for df in pred_dfs]"
   ]
  },
  {
   "cell_type": "code",
   "execution_count": null,
   "id": "a0a454da",
   "metadata": {},
   "outputs": [],
   "source": [
    "pr_auc = []\n",
    "# Compute AUPRC mean and std\n",
    "for i in range(len(y_trues)):\n",
    "    prec, rec, _ = precision_recall_curve(y_trues[i], y_preds[i])\n",
    "    prec, rec = prec[::-1], rec[::-1]  # reverse order for interp\n",
    "    pr_auc.append(average_precision_score(y_trues[i], y_preds[i]))\n",
    "    \n",
    "np.mean(pr_auc), np.std(pr_auc)\n"
   ]
  },
  {
   "attachments": {},
>>>>>>> bb405d15eaa03ce2e1ed24c9fbcb9146a0988912
   "cell_type": "markdown",
   "id": "cd1c9873",
   "metadata": {},
   "source": [
<<<<<<< HEAD
    "# plot num samples curves"
=======
    "## plot num samples curves"
>>>>>>> bb405d15eaa03ce2e1ed24c9fbcb9146a0988912
   ]
  },
  {
   "cell_type": "code",
   "execution_count": null,
   "id": "402fc146",
   "metadata": {},
   "outputs": [],
   "source": [
    "# dir_path = Path('/lustre/groups/peng/workspace/sophia.wagner/logs/genalt/results')\n",
    "dir_path = Path('/home/haicu/sophia.wagner/projects/genetic_alteration_prediction')\n",
    "ext_cohort = 'Yorkshire_resections'\n",
    "# ext_cohort = 'Yorkshire_biopsies'\n",
    "model = 'transformer'\n",
    "feats = 'ctranspath'\n",
    "# ext_cohort = 'Yorkshire_resections'\n",
    "filename = dir_path / f'MSI_prediction_num_samples_{ext_cohort}_{model}_{feats}.csv'\n",
    "num_df = pd.read_csv(filename)"
   ]
  },
  {
   "cell_type": "code",
   "execution_count": null,
   "id": "ec4d78fc",
   "metadata": {},
   "outputs": [],
   "source": [
    "#             # save results in data frame \n",
    "#             for ext_cohort in ext_cohorts:\n",
    "#                 results_csv = result_path / f'results_num_samples_{ext_cohort}_{args.model}_{args.feats}{args.name}.csv'\n",
    "#                 columns = [\"num samples\"] + [f'fold {i}' for i in range(5)]\n",
    "#                 new_results = pd.DataFrame(data=np.array([[n, *ext_auc_dict[ext_cohort][n]]]), columns=columns)\n",
    "\n",
    "#                 # append results to existing results data frame\n",
    "#                 if results_csv.is_file():\n",
    "#                     results_df = pd.read_csv(results_csv, dtype=str)\n",
    "#                     if n in results_df[\"num samples\"]:\n",
    "#                         continue\n",
    "#                     else:\n",
    "#                         results_df = results_df.append(new_results)\n",
    "#                 else:\n",
    "#                     results_df = new_results\n",
    "\n",
    "#                 results_df.to_csv(results_csv, sep=',', index=False)"
   ]
  },
  {
   "cell_type": "code",
   "execution_count": null,
   "id": "560cbf0c",
   "metadata": {},
   "outputs": [],
   "source": [
    "# cohort for evaluation\n",
    "# ext_cohort = 'Yorkshire-resections'\n",
    "ext_cohort = 'Yorkshire-biopsies'"
   ]
  },
  {
   "cell_type": "code",
   "execution_count": null,
   "id": "da3bca1b",
   "metadata": {},
   "outputs": [],
   "source": [
    "model = 'vit-cls'\n",
    "feats = 'ctranspath'\n",
    "name = ''\n",
    "\n",
    "label = 'Macenko'\n",
    "\n",
    "result_path = Path('/lustre/groups/peng/workspace/sophia.wagner/logs/genalt/results')\n",
    "filename = result_path / f'results_num_samples_{ext_cohort}_{model}_{feats}{name}.csv'\n",
    "\n",
    "num_df = pd.read_csv(filename)\n",
    "num_df = num_df.rename({'fold 4 ': 'fold 4'}, axis=1)\n",
    "num_df = num_df.rename({'training samples': 'num samples'}, axis=1)\n",
    "num_df = num_df.sort_values(by='num samples')\n",
    "num_df = num_df.drop_duplicates(subset='num samples')\n",
    "num_samples_array = [num_df[f'fold {i}'].values for i in range(5)]\n",
    "num_samples_x = num_df['num samples'].values"
   ]
  },
  {
   "cell_type": "code",
   "execution_count": null,
   "id": "cb0c9f54",
   "metadata": {},
   "outputs": [],
   "source": [
    "# model = 'attmil'\n",
    "model = 'vit-cls'\n",
    "feats = 'ctranspath'\n",
    "name = '_histaugan'\n",
    "\n",
    "label2 = 'HistAuGAN'\n",
    "\n",
    "filename = result_path / f'results_num_samples_{ext_cohort}_{model}_{feats}{name}.csv'\n",
    "\n",
    "num_df2 = pd.read_csv(filename)\n",
    "num_df2 = num_df2.rename({'fold 4 ': 'fold 4'}, axis=1)\n",
    "num_df2 = num_df2.rename({'training samples': 'num samples'}, axis=1)\n",
    "num_df2 = num_df2.sort_values(by='num samples')\n",
    "num_df2 = num_df2.drop_duplicates(subset='num samples')\n",
    "num_samples_array2 = [num_df2[f'fold {i}'].values for i in range(5)]\n",
    "num_samples_x2 = num_df2['num samples'].values"
   ]
  },
  {
   "cell_type": "code",
   "execution_count": null,
   "id": "0ac317f2",
   "metadata": {},
   "outputs": [],
   "source": []
  },
  {
   "cell_type": "code",
   "execution_count": null,
   "id": "e2bc0992",
   "metadata": {},
   "outputs": [],
   "source": [
    "num_df2"
   ]
  },
  {
   "cell_type": "code",
   "execution_count": null,
   "id": "a2013c02",
   "metadata": {},
   "outputs": [],
   "source": [
    "plt.figure(figsize=(5, 5))\n",
    "# plt.boxplot(np.stack(num_samples_array), labels=np.array(num_df['num_samples'], dtype=float), widths=0.2, showmeans=True, meanline=True)\n",
    "# for i in range(5):\n",
    "#     plt.scatter(np.array(num_df['num_samples'], dtype=float), np.stack(num_samples_array)[i])\n",
    "# plt.plot(range(1, 16), np.mean(np.stack(num_samples_array), axis=0))\n",
    "\n",
    "plt.plot((0, 10000), (0.9, 0.9), linewidth=0.5, color='gray')\n",
    "plt.plot((0, 10000), (0.95, 0.95), linewidth=0.5, color='gray')\n",
    "# plt.plot((0, 10000), (0.95, 0.95), linestyle='--', linewidth=1, color='gray')\n",
    "\n",
    "\n",
    "num_samples = np.stack(num_samples_array)\n",
    "mean = num_samples.mean(axis=0)\n",
    "std = num_samples.std(axis=0)\n",
    "plt.plot(num_samples_x, mean, color='tab:blue', label=label)\n",
    "plt.plot((0, 10000), (0.9686, 0.9686), linestyle='--', linewidth=1, color='tab:blue', label='Best model')\n",
    "# plt.plot((0, 10000), (0.9072, 0.9072), linestyle='--', linewidth=1, color='tab:blue', label='Best model')\n",
    "plt.plot(num_samples_x, num_samples[0], alpha=0.3, color='tab:blue')\n",
    "plt.plot(num_samples_x, num_samples[1], alpha=0.3, color='tab:blue')\n",
    "plt.plot(num_samples_x, num_samples[2], alpha=0.3, color='tab:blue')\n",
    "plt.plot(num_samples_x, num_samples[3], alpha=0.3, color='tab:blue')\n",
    "plt.plot(num_samples_x, num_samples[4], alpha=0.3, color='tab:blue')\n",
    "plt.fill_between(num_samples_x, mean - std, mean + std, alpha=0.5, color='tab:blue')\n",
    "\n",
    "\n",
    "num_samples = np.stack(num_samples_array2)\n",
    "mean = num_samples.mean(axis=0)\n",
    "std = num_samples.std(axis=0)\n",
    "plt.plot(num_samples_x2, mean, color='tab:orange', label=label2)\n",
    "# plt.plot((0, 8000), (0.9633, 0.9633), linestyle='--', linewidth=1, color='tab:orange', label='Best model')\n",
    "plt.plot(num_samples_x2, num_samples[0], alpha=0.3, color='tab:orange')\n",
    "plt.plot(num_samples_x2, num_samples[1], alpha=0.3, color='tab:orange')\n",
    "plt.plot(num_samples_x2, num_samples[2], alpha=0.3, color='tab:orange')\n",
    "plt.plot(num_samples_x2, num_samples[3], alpha=0.3, color='tab:orange')\n",
    "plt.plot(num_samples_x2, num_samples[4], alpha=0.3, color='tab:orange')\n",
    "plt.fill_between(num_samples_x2, mean - std, mean + std, alpha=0.6, color='tab:orange')\n",
    "\n",
    "plt.legend(loc=\"lower right\")\n",
    "plt.ylim(0.5, 1)\n",
    "plt.yticks(ticks=np.linspace(0.5, 1, 11))\n",
    "plt.ylabel('AUROC')\n",
    "\n",
    "plt.xlim(min(num_samples_x)-2, max(num_samples_x)+2000)\n",
    "plt.xticks(ticks=num_samples_x, labels=[x for x in num_samples_x])\n",
    "plt.xscale('log')\n",
    "plt.xlabel('Number of samples in the training set (log scale)')\n",
    "\n",
    "# plt.savefig(output_path / f'num_samples_{ext_cohort}.svg', format='svg', bbox_inches = 'tight', pad_inches = 0)\n",
    "\n",
    "plt.show()"
   ]
  },
  {
   "cell_type": "code",
   "execution_count": null,
   "id": "11869c06",
   "metadata": {},
   "outputs": [],
   "source": [
    "num_samples = np.stack(num_samples_array)\n",
    "mean = num_samples.mean(axis=0)\n",
    "std = num_samples.std(axis=0)"
   ]
  },
  {
   "cell_type": "code",
   "execution_count": null,
   "id": "8627278e",
   "metadata": {},
   "outputs": [],
   "source": [
    "mean"
   ]
  },
  {
   "cell_type": "code",
   "execution_count": null,
   "id": "6e4de35d",
   "metadata": {},
   "outputs": [],
   "source": [
    "std"
   ]
  },
  {
   "cell_type": "code",
   "execution_count": null,
   "id": "bf80aaad",
   "metadata": {},
   "outputs": [],
   "source": [
    "num_samples = np.stack(num_samples_array)\n",
    "mean = num_samples.mean(axis=0)"
   ]
  },
  {
   "cell_type": "code",
   "execution_count": null,
   "id": "536ee00c",
   "metadata": {},
   "outputs": [],
   "source": [
    "mean, num_samples_x"
   ]
  },
  {
   "cell_type": "code",
   "execution_count": null,
   "id": "fd749df6",
   "metadata": {},
   "outputs": [],
   "source": [
    "num_samples = np.stack(num_samples_array2)\n",
    "mean = num_samples.mean(axis=0)"
   ]
  },
  {
   "cell_type": "code",
   "execution_count": null,
   "id": "25af967e",
   "metadata": {},
   "outputs": [],
   "source": [
    "mean, num_samples_x"
   ]
  },
  {
   "cell_type": "code",
   "execution_count": null,
   "id": "9c59f6b3",
   "metadata": {},
   "outputs": [],
   "source": [
    "t_ctp_n = np.array([50, 100, 250, 500, 1000, 1500, 2000, 2500, 3000, 3500, 4000, 4500, 5000, 5500, 6000, 6500, 7000, 7500, 8000])\n",
    "t_ctp = np.array([\n",
    "    [0.7652, 0.8778, 0.7515, 0.7836, 0.8378,],\n",
    "    [0.8041, 0.8283, 0.9115, 0.7765, 0.7524,],\n",
    "    [0.9340, 0.9329, 0.8734, 0.9070, 0.9298,],\n",
    "    [0.9313, 0.9485, 0.9064, 0.8828, 0.9169,],\n",
    "    [0.9601, 0.9477, 0.9599, 0.9544, 0.9588,],\n",
    "    [0.9452, 0.9513, 0.9575, 0.9680, 0.9475,],\n",
    "    [0.9634, 0.9727, 0.9631, 0.9518, 0.9489,],\n",
    "    [0.9676, 0.9677, 0.9551, 0.9600, 0.9635,],\n",
    "    [0.9583, 0.9637, 0.9565, 0.9655, 0.9591,],\n",
    "    [0.9619, 0.9637, 0.9707, 0.9633, 0.9654,],\n",
    "    [0.9657, 0.9573, 0.9683, 0.9726, 0.9583,],\n",
    "    [0.9647, 0.9672, 0.9729, 0.9700, 0.9651,],\n",
    "    [0.9668, 0.9768, 0.9703, 0.9613, 0.9647,],\n",
    "    [0.9669, 0.9682, 0.9604, 0.9667, 0.9594,],\n",
    "    [0.9728, 0.9702, 0.9682, 0.9746, 0.9663,],\n",
    "    [0.9636, 0.9646, 0.9696, 0.9785, 0.9730,],\n",
    "    [0.9709, 0.9702, 0.9705, 0.9781, 0.9679,],\n",
    "    [0.9724, 0.9662, 0.9677, 0.9711, 0.9741,],\n",
    "    [0.9692, 0.9684, 0.9706, 0.9590, 0.9686,],\n",
    "])"
   ]
  },
  {
   "cell_type": "code",
   "execution_count": null,
   "id": "89a8af9c",
   "metadata": {},
   "outputs": [],
   "source": [
    "num_samples = t_ctp\n",
    "mean = num_samples.mean(axis=1)\n",
    "std = num_samples.std(axis=1)\n",
    "plt.plot(t_ctp_n, mean)\n",
    "plt.plot(t_ctp_n, num_samples[:, 0], alpha=0.2)\n",
    "plt.plot(t_ctp_n, num_samples[:, 1], alpha=0.2)\n",
    "plt.plot(t_ctp_n, num_samples[:, 2], alpha=0.2)\n",
    "plt.plot(t_ctp_n, num_samples[:, 3], alpha=0.2)\n",
    "plt.plot(t_ctp_n, num_samples[:, 4], alpha=0.2)\n",
    "plt.fill_between(t_ctp_n, mean - std, mean + std, alpha=0.5)\n",
    "\n",
    "# plt.xlim(1, num_samples.shape[1]+1)\n",
    "plt.xticks(ticks=t_ctp_n) # labels=[x for x in range(500, num_samples.shape[1]*500+1, 500)])\n",
    "plt.xscale('log')\n",
    "plt.show()"
   ]
  },
  {
   "cell_type": "code",
   "execution_count": null,
   "id": "01896018",
   "metadata": {},
   "outputs": [],
   "source": [
    "num_samples = t_ctp\n",
    "mean = num_samples.mean(axis=1)\n",
    "std = num_samples.std(axis=1)\n",
    "plt.plot(t_ctp_n, mean)\n",
    "plt.plot(t_ctp_n, num_samples[:, 0], alpha=0.2)\n",
    "plt.plot(t_ctp_n, num_samples[:, 1], alpha=0.2)\n",
    "plt.plot(t_ctp_n, num_samples[:, 2], alpha=0.2)\n",
    "plt.plot(t_ctp_n, num_samples[:, 3], alpha=0.2)\n",
    "plt.plot(t_ctp_n, num_samples[:, 4], alpha=0.2)\n",
    "plt.fill_between(t_ctp_n, mean - std, mean + std, alpha=0.5)\n",
    "\n",
    "# plt.xlim(1, num_samples.shape[1]+1)\n",
    "plt.xticks(ticks=t_ctp_n) # labels=[x for x in range(500, num_samples.shape[1]*500+1, 500)])\n",
    "plt.xscale('log')\n",
    "plt.show()"
   ]
  },
  {
   "cell_type": "code",
   "execution_count": null,
   "id": "e440129b",
   "metadata": {},
   "outputs": [],
   "source": []
  },
  {
   "cell_type": "code",
   "execution_count": null,
   "id": "380ccae9",
   "metadata": {},
   "outputs": [],
   "source": [
    "# Import module for data manipulation\n",
    "import pandas as pd\n",
    "# Import module for linear algebra\n",
    "import numpy as np\n",
    "# Import module for data simulation\n",
    "from sklearn.datasets import make_classification     # Create a synthetic dataframe\n",
    "from sklearn.linear_model import LogisticRegression  # Classification model\n",
    "from sklearn.model_selection import train_test_split # Split the dataframe\n",
    "from sklearn.metrics import roc_curve                # Calculate the ROC curve\n",
    "from sklearn.metrics import precision_recall_curve   # Calculate the Precision-Recall curve\n",
    "from sklearn.metrics import f1_score                 # Calculate the F-score\n",
    "# Import module for data visualization\n",
    "from plotnine import *\n",
    "import plotnine\n",
    "\n",
    "# Generate the dataset\n",
    "X, y = make_classification(n_samples = 10000, n_features = 2, n_redundant = 0,\n",
    "                           n_clusters_per_class = 1, weights = [0.99], flip_y = 0, random_state = 0)\n",
    "\n",
    "# Data partitioning\n",
    "X_train, X_test, y_train, y_test = train_test_split(X, y, test_size=0.5, random_state=0, stratify=y)\n",
    "\n",
    "# Fit the model\n",
    "reglogModel = LogisticRegression(random_state = 0)\n",
    "reglogModel.fit(X_train, y_train)\n",
    "\n",
    "# Predict the probabilities\n",
    "y_pred = reglogModel.predict_proba(X_test)\n",
    "\n",
    "# Get the probabilities for positive class\n",
    "y_pred = y_pred[:, 1]"
   ]
  },
  {
   "cell_type": "code",
   "execution_count": null,
   "id": "94a47114",
   "metadata": {},
   "outputs": [],
   "source": [
    "# Create the ROC curve\n",
    "fpr, tpr, thresholds = roc_curve(y_test, y_pred)\n",
    "\n",
    "# Plot the ROC curve\n",
    "df_fpr_tpr = pd.DataFrame({'FPR':fpr, 'TPR':tpr, 'Threshold':thresholds})\n",
    "df_fpr_tpr.head()\n",
    "\n",
    "# Create the data viz\n",
    "plotnine.options.figure_size = (8, 4.8)\n",
    "(\n",
    "    ggplot(data = df_fpr_tpr)+\n",
    "    geom_point(aes(x = 'FPR',\n",
    "                   y = 'TPR'),\n",
    "               size = 0.4)+\n",
    "    geom_line(aes(x = 'FPR',\n",
    "                  y = 'TPR'))+\n",
    "    labs(title = 'ROC Curve')+\n",
    "    xlab('False Positive Rate')+\n",
    "    ylab('True Positive Rate')+\n",
    "    theme_minimal()\n",
    ")"
   ]
  },
  {
   "cell_type": "code",
   "execution_count": null,
   "id": "61b06521",
   "metadata": {},
   "outputs": [],
   "source": [
    "# Calculate the G-mean\n",
    "gmean = np.sqrt(tpr * (1 - fpr))\n",
    "\n",
    "# Find the optimal threshold\n",
    "index = np.argmax(gmean)\n",
    "thresholdOpt = round(thresholds[index], ndigits = 4)\n",
    "gmeanOpt = round(gmean[index], ndigits = 4)\n",
    "fprOpt = round(fpr[index], ndigits = 4)\n",
    "tprOpt = round(tpr[index], ndigits = 4)\n",
    "print('Best Threshold: {} with G-Mean: {}'.format(thresholdOpt, gmeanOpt))\n",
    "print('FPR: {}, TPR: {}'.format(fprOpt, tprOpt))\n",
    "\n",
    "# Create data viz\n",
    "plotnine.options.figure_size = (8, 4.8)\n",
    "(\n",
    "    ggplot(data = df_fpr_tpr)+\n",
    "    geom_point(aes(x = 'FPR',\n",
    "                   y = 'TPR'),\n",
    "               size = 0.4)+\n",
    "    # Best threshold\n",
    "    geom_point(aes(x = fprOpt,\n",
    "                   y = tprOpt),\n",
    "               color = '#981220',\n",
    "               size = 4)+\n",
    "    geom_line(aes(x = 'FPR',\n",
    "                  y = 'TPR'))+\n",
    "    geom_text(aes(x = fprOpt,\n",
    "                  y = tprOpt),\n",
    "              label = 'Optimal threshold \\n for class: {}'.format(thresholdOpt),\n",
    "              nudge_x = 0.14,\n",
    "              nudge_y = -0.10,\n",
    "              size = 10,\n",
    "              fontstyle = 'italic')+\n",
    "    labs(title = 'ROC Curve')+\n",
    "    xlab('False Positive Rate (FPR)')+\n",
    "    ylab('True Positive Rate (TPR)')+\n",
    "    theme_minimal()\n",
    ")"
   ]
  },
  {
   "cell_type": "code",
   "execution_count": null,
   "id": "f7fa7db0",
   "metadata": {},
   "outputs": [],
   "source": [
    "# Calculate the sensitivity threshold\n",
    "sensitivity_thresh = 0.90\n",
    "\n",
    "# Find the optimal threshold\n",
    "index = np.argwhere(tpr >= sensitivity_thresh)[0].item()\n",
    "thresholdOpt = round(thresholds[index], ndigits = 4)\n",
    "gmeanOpt = round(gmean[index], ndigits = 4)\n",
    "fprOpt = round(fpr[index], ndigits = 4)\n",
    "tprOpt = round(tpr[index], ndigits = 4)\n",
    "print('Best Threshold: {} with G-Mean: {}'.format(thresholdOpt, gmeanOpt))\n",
    "print('FPR: {}, TPR: {}'.format(fprOpt, tprOpt))\n",
    "\n",
    "# Create data viz\n",
    "plotnine.options.figure_size = (8, 4.8)\n",
    "(\n",
    "    ggplot(data = df_fpr_tpr)+\n",
    "    geom_point(aes(x = 'FPR',\n",
    "                   y = 'TPR'),\n",
    "               size = 0.4)+\n",
    "    # Best threshold\n",
    "    geom_point(aes(x = fprOpt,\n",
    "                   y = tprOpt),\n",
    "               color = '#981220',\n",
    "               size = 4)+\n",
    "    geom_line(aes(x = 'FPR',\n",
    "                  y = 'TPR'))+\n",
    "    geom_text(aes(x = fprOpt,\n",
    "                  y = tprOpt),\n",
    "              label = 'Optimal threshold \\n for class: {}'.format(thresholdOpt),\n",
    "              nudge_x = 0.14,\n",
    "              nudge_y = -0.10,\n",
    "              size = 10,\n",
    "              fontstyle = 'italic')+\n",
    "    labs(title = 'ROC Curve')+\n",
    "    xlab('False Positive Rate (FPR)')+\n",
    "    ylab('True Positive Rate (TPR)')+\n",
    "    theme_minimal()\n",
    ")"
   ]
  },
  {
   "cell_type": "code",
   "execution_count": null,
   "id": "f49d5715",
   "metadata": {},
   "outputs": [],
   "source": [
    "thresholds"
   ]
  },
  {
   "cell_type": "code",
   "execution_count": null,
   "id": "8e3d6827",
   "metadata": {},
   "outputs": [],
   "source": [
    "index"
   ]
  },
  {
   "cell_type": "code",
   "execution_count": null,
   "id": "ad01af8f",
   "metadata": {},
   "outputs": [],
   "source": [
    "tpr[tpr >= 0.9]"
   ]
  },
  {
   "cell_type": "code",
   "execution_count": null,
   "id": "61383b25",
   "metadata": {},
   "outputs": [],
   "source": [
    "tpr[tpr >= 0.9][0]"
   ]
  },
  {
   "cell_type": "code",
   "execution_count": null,
   "id": "7558752b",
   "metadata": {},
   "outputs": [],
   "source": [
    "np.argwhere(tpr >= 0.9)"
   ]
  },
  {
   "cell_type": "code",
   "execution_count": null,
   "id": "449ae99a",
   "metadata": {},
   "outputs": [],
   "source": [
    "np.argwhere(tpr >= 0.9)[0].item()"
   ]
  },
  {
   "cell_type": "code",
   "execution_count": null,
   "id": "e6553976",
   "metadata": {},
   "outputs": [],
   "source": [
    "thresholds[np.where(tpr == tpr[tpr >= 0.9][0])[0][0]]"
   ]
  },
  {
   "cell_type": "code",
   "execution_count": null,
   "id": "8ad2e624",
   "metadata": {},
   "outputs": [],
   "source": []
  },
  {
   "cell_type": "code",
   "execution_count": null,
   "id": "63febbde",
   "metadata": {},
   "outputs": [],
   "source": []
  },
  {
   "cell_type": "code",
   "execution_count": null,
   "id": "77697acb",
   "metadata": {},
   "outputs": [],
   "source": []
  },
  {
   "cell_type": "code",
   "execution_count": null,
   "id": "6dd560b7",
   "metadata": {},
   "outputs": [],
   "source": [
    "d = {'key':3}, {'te': 45\n",
    "               }"
   ]
  },
  {
   "cell_type": "code",
   "execution_count": null,
   "id": "03c21a32",
   "metadata": {},
   "outputs": [],
   "source": [
    "d"
   ]
  },
  {
<<<<<<< HEAD
=======
   "attachments": {},
>>>>>>> bb405d15eaa03ce2e1ed24c9fbcb9146a0988912
   "cell_type": "markdown",
   "id": "f2d8f60b",
   "metadata": {},
   "source": [
    "# Data stats"
   ]
  },
  {
   "cell_type": "code",
   "execution_count": null,
   "id": "4821cf96",
   "metadata": {},
   "outputs": [],
   "source": [
    "from tqdm import tqdm\n",
    "import h5py\n",
    "import torch\n",
    "\n",
    "from data_utils import MSI_cohorts_munich"
   ]
  },
  {
<<<<<<< HEAD
=======
   "attachments": {},
>>>>>>> bb405d15eaa03ce2e1ed24c9fbcb9146a0988912
   "cell_type": "markdown",
   "id": "3aa4455d",
   "metadata": {},
   "source": [
    "## Class distribution"
   ]
  },
  {
   "cell_type": "code",
   "execution_count": null,
   "id": "e86c4daf",
   "metadata": {},
   "outputs": [],
   "source": [
    "cohorts = [\"Belfast\", \"CPTAC\", \"Dachs\", \"Duessel\", \"MECC\", \"Munich\", \"Quasar\", \"Rainbow\", \"TCGA\", \"Yorkshire-biopsies\", \"Yorkshire-resections\"]\n",
    "targets = ['', 'isMSIH', 'braf', 'kras']\n",
    "categories = ['Not mut.', 'Mutat.', 'nonMSIH', 'MSIH', 'WT', 'MUT', 'wt', 'MT']\n",
    "norm = \"macenko\"\n",
    "feats = \"ctranspath\""
   ]
  },
  {
   "cell_type": "code",
   "execution_count": null,
   "id": "2a214877",
   "metadata": {},
   "outputs": [],
   "source": [
    "for cohort in cohorts:\n",
    "    cohort_dict = {}\n",
    "    for target in targets:\n",
    "        clini_table = MSI_cohorts_munich[cohort]['clini_table']\n",
    "        slide_csv = MSI_cohorts_munich[cohort]['slide_csv']\n",
    "        feature_dir = MSI_cohorts_munich[cohort]['feature_dir'][norm][feats]\n",
    "        \n",
    "        clini_df = pd.read_csv(clini_table, dtype=str) if Path(clini_table).suffix == '.csv' else pd.read_excel(\n",
    "            clini_table, dtype=str)\n",
    "        slide_df = pd.read_csv(slide_csv, dtype=str)\n",
    "        df = clini_df.merge(slide_df, on='PATIENT')\n",
    "        # adapt dataframe to case sensitive clini tables\n",
    "        df = df.rename({\n",
    "            'MSI': 'isMSIH',\n",
    "            'BRAF': 'braf', 'BRAF_mutation': 'braf', 'braf_status': 'braf', \n",
    "            'KRAS': 'kras', 'kras_status': 'kras', 'KRAS_mutation': 'kras',\n",
    "            'NRAS': 'nras', 'NRAS_mutation': 'nras',  \n",
    "        }, axis=1)\n",
    "\n",
    "        # remove columns not in target_labels\n",
    "        for key in df.columns:\n",
    "            keys = [target] + ['PATIENT', 'SLIDE', 'FILENAME'] if target != '' else ['PATIENT', 'SLIDE', 'FILENAME']\n",
    "            if key not in keys:\n",
    "                df.drop(key, axis=1, inplace=True)\n",
    "        # remove rows/slides with non-valid labels\n",
    "        if target == '' or target in df.keys():\n",
    "            if target != '':\n",
    "                for target in [target]:\n",
    "                    df = df[df[target].isin(categories)]\n",
    "    #         if self.clini_info:\n",
    "    #             df = df[df['GENDER'].isin(['female', 'male'])]\n",
    "    #             df = df[df['AGE'].str.isdigit()]\n",
    "    #             df = df[df['LEFT_RIGHT'].isin(['left', 'right'])]\n",
    "            # remove slides we don't have\n",
    "            h5s = set(feature_dir.glob('*.h5'))\n",
    "            assert h5s, f'no features found in {feature_dir}!'\n",
    "            h5_df = pd.DataFrame(h5s, columns=['slide_path'])\n",
    "            # h5_df['FILENAME'] = h5_df.slide_path.map(lambda p: p.stem.split('.')[0])\n",
    "            h5_df['FILENAME'] = h5_df.slide_path.map(lambda p: p.stem.split('.')[0]) if cohort=='TCGA' else h5_df.slide_path.map(lambda p: p.stem)\n",
    "            df = df.merge(h5_df, on='FILENAME')\n",
    "\n",
    "            # reduce to one row per patient with list of slides in `df['slide_path']`\n",
    "            patient_df = df.groupby('PATIENT').first().drop(columns='slide_path')\n",
    "            patient_slides = df.groupby('PATIENT').slide_path.apply(list)\n",
    "            df = patient_df.merge(patient_slides, left_on='PATIENT', right_index=True).reset_index()\n",
    "\n",
    "            if target != '':\n",
    "                assert len(df[target].unique()) == 2\n",
    "                pos_key = df[target].unique()[0] if df[target].unique()[0] in ['Mutat.', 'MSIH', 'MUT', 'MT'] else df[target].unique()[1]\n",
    "                pos = df[target].value_counts()[pos_key]\n",
    "            cohort_dict[target] = {\n",
    "                \"num\": len(df),\n",
    "                \"pos\": pos if target != '' else len(df)\n",
    "            }\n",
    "        else: \n",
    "            cohort_dict[target] = {\n",
    "                \"num\": 0,\n",
    "                \"pos\": 0\n",
    "            }\n",
    "            \n",
    "    print(f\"{cohort: <20}: total: {cohort_dict['']['num']}, \\\n",
    "          isMSIH: {cohort_dict['isMSIH']['pos']} / {cohort_dict['isMSIH']['num']}, \\\n",
    "          braf: {cohort_dict['braf']['pos']} / {cohort_dict['braf']['num']}, \\\n",
    "          kras: {cohort_dict['kras']['pos']} / {cohort_dict['kras']['num']}\")"
   ]
  },
  {
<<<<<<< HEAD
=======
   "attachments": {},
>>>>>>> bb405d15eaa03ce2e1ed24c9fbcb9146a0988912
   "cell_type": "markdown",
   "id": "1665f2cf",
   "metadata": {},
   "source": [
    "## Tile distribution"
   ]
  },
  {
   "cell_type": "code",
   "execution_count": null,
   "id": "0b473ca7",
   "metadata": {},
   "outputs": [],
   "source": [
    "cohorts = [\"Belfast\", \"CPTAC\", \"Dachs\", \"Duessel\", \"MECC\", \"Munich\", \"Quasar\", \"Rainbow\", \"TCGA\", \"Yorkshire-biopsies\", \"Yorkshire-resections\"]\n",
    "target = 'isMSIH'\n",
    "categories = ['Not mut.', 'Mutat.', 'nonMSIH', 'MSIH', 'WT', 'MUT', 'wt', 'MT']\n",
    "norm = \"macenko\"\n",
    "feats = \"ctranspath\""
   ]
  },
  {
   "cell_type": "code",
   "execution_count": null,
   "id": "17008dde",
   "metadata": {},
   "outputs": [],
   "source": [
    "cohort_dict = {}\n",
    "for cohort in cohorts:\n",
    "    num_tiles = []\n",
    "\n",
    "    clini_table = MSI_cohorts_munich[cohort]['clini_table']\n",
    "    slide_csv = MSI_cohorts_munich[cohort]['slide_csv']\n",
    "    feature_dir = MSI_cohorts_munich[cohort]['feature_dir'][norm][feats]\n",
    "\n",
    "    clini_df = pd.read_csv(clini_table, dtype=str) if Path(clini_table).suffix == '.csv' else pd.read_excel(\n",
    "        clini_table, dtype=str)\n",
    "    slide_df = pd.read_csv(slide_csv, dtype=str)\n",
    "    df = clini_df.merge(slide_df, on='PATIENT')\n",
    "    # adapt dataframe to case sensitive clini tables\n",
    "    df = df.rename({\n",
    "        'MSI': 'isMSIH',\n",
    "        'BRAF': 'braf', 'BRAF_mutation': 'braf', 'braf_status': 'braf', \n",
    "        'KRAS': 'kras', 'kras_status': 'kras', 'KRAS_mutation': 'kras',\n",
    "        'NRAS': 'nras', 'NRAS_mutation': 'nras',  \n",
    "    }, axis=1)\n",
    "\n",
    "    # remove columns not in target_labels\n",
    "    for key in df.columns:\n",
    "        keys = [target] + ['PATIENT', 'SLIDE', 'FILENAME'] if target != '' else ['PATIENT', 'SLIDE', 'FILENAME']\n",
    "        if key not in keys:\n",
    "            df.drop(key, axis=1, inplace=True)\n",
    "    # remove rows/slides with non-valid labels\n",
    "    df = df[df[target].isin(categories)]\n",
    "    # remove slides we don't have\n",
    "    h5s = set(feature_dir.glob('*.h5'))\n",
    "    assert h5s, f'no features found in {feature_dir}!'\n",
    "    h5_df = pd.DataFrame(h5s, columns=['slide_path'])\n",
    "    # h5_df['FILENAME'] = h5_df.slide_path.map(lambda p: p.stem.split('.')[0])\n",
    "    h5_df['FILENAME'] = h5_df.slide_path.map(lambda p: p.stem.split('.')[0]) if cohort=='TCGA' else h5_df.slide_path.map(lambda p: p.stem)\n",
    "    df = df.merge(h5_df, on='FILENAME')\n",
    "\n",
    "    # reduce to one row per patient with list of slides in `df['slide_path']`\n",
    "    patient_df = df.groupby('PATIENT').first().drop(columns='slide_path')\n",
    "    patient_slides = df.groupby('PATIENT').slide_path.apply(list)\n",
    "    df = patient_df.merge(patient_slides, left_on='PATIENT', right_index=True).reset_index()\n",
    "\n",
    "    assert len(df[target].unique()) == 2\n",
    "\n",
    "    # count tiles \n",
    "    for p in tqdm(range(len(df))):\n",
    "        fpath = df.slide_path[p][0]\n",
    "        h5_file = h5py.File(fpath)\n",
    "        features = torch.Tensor(np.array(h5_file['feats'])).unsqueeze(0)\n",
    "        num_tiles.append(features.shape[1])\n",
    "    \n",
    "    cohort_dict[cohort] = num_tiles"
   ]
  },
  {
   "cell_type": "code",
   "execution_count": null,
   "id": "814b74eb",
   "metadata": {},
   "outputs": [],
   "source": [
    "for cohort in cohorts:\n",
    "    num_tiles = np.array(cohort_dict[cohort])\n",
    "    print(cohort, num_tiles.mean().round(), num_tiles.std().round(), num_tiles.min(), num_tiles.max())"
   ]
  },
  {
   "cell_type": "code",
   "execution_count": null,
   "id": "99a9495b",
   "metadata": {},
   "outputs": [],
   "source": [
    "res = {\n",
    "    \"CPTAC\": \"CPTAC\", \n",
    "    \"Dachs\" : \"DACHS\", \n",
    "    \"Duessel\": \"DUSSEL\", \n",
    "    \"Belfast\": \"Epi700\", \n",
    "    \"MECC\": \"MECC\", \n",
    "    \"Munich\": \"MUNICH\", \n",
    "    \"Rainbow\": \"NLCS\", \n",
    "    \"Quasar\": \"QUASAR\", \n",
    "    \"TCGA\": \"TCGA\", \n",
    "    \"Yorkshire-resections\": \"YCR-BCIP\"\n",
    "}\n",
    "res_revers = dict((v, k) for k, v in res.items())\n",
    "bio = {\"Yorkshire-biopsies\": \"YCR-BCIP-biopsies\"}"
   ]
  },
  {
   "cell_type": "code",
   "execution_count": null,
   "id": "772dda8d",
   "metadata": {},
   "outputs": [],
   "source": [
    "rows, columns, img_size = 2, 5, 3\n",
    "plt.figure(figsize=(columns * img_size, rows * img_size))\n",
    "for i, cohort in enumerate(res_revers.keys()):\n",
    "    num_tiles = np.array(cohort_dict[res_revers[cohort]])\n",
    "\n",
    "    plt.subplot(rows, columns, i + 1)\n",
    "    if cohort == \"MUNICH\":\n",
    "        plt.yticks(range(0, 21, 5))\n",
    "    plt.hist(num_tiles, bins=50)\n",
    "    plt.axvline(x=num_tiles.mean(), color='tab:orange', label=int(num_tiles.mean().round()))\n",
    "    plt.xlim([-300, 12500])\n",
    "    plt.xlabel('Number of tiles')\n",
    "    plt.ylabel('Number of slides')\n",
    "    plt.title(cohort)\n",
    "    plt.legend()\n",
    "plt.tight_layout()\n",
    "plt.savefig(output_path / f'num_tiles_resections.svg',  format='svg', bbox_inches = 'tight', pad_inches = 0)"
   ]
  },
  {
   "cell_type": "code",
   "execution_count": null,
   "id": "935cc562",
   "metadata": {},
   "outputs": [],
   "source": [
    "rows, columns, img_size = 1, 1, 3\n",
    "plt.figure(figsize=(columns * img_size, rows * img_size))\n",
    "for i, cohort in enumerate(bio.keys()):\n",
    "    num_tiles = np.array(cohort_dict[cohort])\n",
    "\n",
    "    plt.subplot(rows, columns, i + 1)\n",
    "    plt.hist(num_tiles, bins=50)\n",
    "    plt.axvline(x=num_tiles.mean(), color='tab:orange', label=int(num_tiles.mean().round()))\n",
    "\n",
    "#     plt.xlim([-300, 12500])\n",
    "    plt.xlabel('Number of tiles')\n",
    "    plt.ylabel('Number of slides')\n",
    "    plt.title(bio[cohort])\n",
    "    plt.legend()\n",
    "plt.tight_layout()\n",
    "plt.savefig(output_path / f'num_tiles_biopsies.svg',  format='svg', bbox_inches = 'tight', pad_inches = 0)"
   ]
  },
  {
<<<<<<< HEAD
=======
   "attachments": {},
>>>>>>> bb405d15eaa03ce2e1ed24c9fbcb9146a0988912
   "cell_type": "markdown",
   "id": "574601ad",
   "metadata": {},
   "source": [
    "## Age distribution"
   ]
  },
  {
   "cell_type": "code",
   "execution_count": null,
   "id": "b1a9f8b7",
   "metadata": {},
   "outputs": [],
   "source": [
    "cohorts = [\"Belfast\", \"CPTAC\", \"Dachs\", \"Duessel\", \"MECC\", \"Munich\", \"Quasar\", \"Rainbow\", \"TCGA\", \"Yorkshire-biopsies\", \"Yorkshire-resections\"]\n",
    "target = 'isMSIH'\n",
    "categories = ['Not mut.', 'Mutat.', 'nonMSIH', 'MSIH', 'WT', 'MUT', 'wt', 'MT']\n",
    "norm = \"macenko\"\n",
    "feats = \"ctranspath\""
   ]
  },
  {
   "cell_type": "code",
   "execution_count": null,
   "id": "916cf823",
   "metadata": {},
   "outputs": [],
   "source": [
    "cohort_dict = {}\n",
    "for cohort in cohorts:\n",
    "    num_tiles = []\n",
    "\n",
    "    clini_table = MSI_cohorts_munich[cohort]['clini_table']\n",
    "    slide_csv = MSI_cohorts_munich[cohort]['slide_csv']\n",
    "    feature_dir = MSI_cohorts_munich[cohort]['feature_dir'][norm][feats]\n",
    "\n",
    "    clini_df = pd.read_csv(clini_table, dtype=str) if Path(clini_table).suffix == '.csv' else pd.read_excel(\n",
    "        clini_table, dtype=str)\n",
    "    print(cohort, clini_df.keys())\n",
    "    \n",
    "    slide_df = pd.read_csv(slide_csv, dtype=str)\n",
    "    df = clini_df.merge(slide_df, on='PATIENT')\n",
    "    # adapt dataframe to case sensitive clini tables\n",
    "    df = df.rename({\n",
    "        'MSI': 'isMSIH',\n",
    "        'BRAF': 'braf', 'BRAF_mutation': 'braf', 'braf_status': 'braf', \n",
    "        'KRAS': 'kras', 'kras_status': 'kras', 'KRAS_mutation': 'kras',\n",
    "        'NRAS': 'nras', 'NRAS_mutation': 'nras',  \n",
    "        'Age': 'AGE',\n",
    "    }, axis=1)\n",
    "    if 'AGE' not in df.keys():\n",
    "        continue\n",
    "        \n",
    "    # remove columns not in target_labels\n",
    "    for key in df.columns:\n",
    "        keys = [target] + ['PATIENT', 'SLIDE', 'FILENAME', 'AGE']\n",
    "        if key not in keys:\n",
    "            df.drop(key, axis=1, inplace=True)\n",
    "    # remove rows/slides with non-valid labels\n",
    "    df = df[df[target].isin(categories)]\n",
    "    # remove slides we don't have\n",
    "    h5s = set(feature_dir.glob('*.h5'))\n",
    "    assert h5s, f'no features found in {feature_dir}!'\n",
    "    h5_df = pd.DataFrame(h5s, columns=['slide_path'])\n",
    "    # h5_df['FILENAME'] = h5_df.slide_path.map(lambda p: p.stem.split('.')[0])\n",
    "    h5_df['FILENAME'] = h5_df.slide_path.map(lambda p: p.stem.split('.')[0]) if cohort=='TCGA' else h5_df.slide_path.map(lambda p: p.stem)\n",
    "    df = df.merge(h5_df, on='FILENAME')\n",
    "\n",
    "    # reduce to one row per patient with list of slides in `df['slide_path']`\n",
    "    patient_df = df.groupby('PATIENT').first().drop(columns='slide_path')\n",
    "    patient_slides = df.groupby('PATIENT').slide_path.apply(list)\n",
    "    df = patient_df.merge(patient_slides, left_on='PATIENT', right_index=True).reset_index()\n",
    "\n",
    "    assert len(df[target].unique()) == 2\n",
    "\n",
    "    df = df.dropna(axis=0, subset='AGE')\n",
    "    df['AGE'] = df['AGE'].astype(int)\n",
    "    \n",
    "    cohort_dict[cohort] = np.array(df['AGE'])"
   ]
  },
  {
   "cell_type": "code",
   "execution_count": null,
   "id": "fb19c13f",
   "metadata": {},
   "outputs": [],
   "source": [
    "for cohort in cohorts:\n",
    "    if cohort not in cohort_dict.keys():\n",
    "        continue\n",
    "    num_tiles = np.array(cohort_dict[cohort])\n",
    "    print(cohort, num_tiles.mean().round(), num_tiles.min(), num_tiles.max())"
   ]
  },
  {
   "cell_type": "code",
   "execution_count": null,
   "id": "1b0cde8e",
   "metadata": {},
   "outputs": [],
   "source": [
    "res = {\n",
    "    \"CPTAC\": \"CPTAC\", \n",
    "    \"Dachs\" : \"DACHS\", \n",
    "#     \"Duessel\": \"DUSSEL\", \n",
    "#     \"Belfast\": \"Epi700\", \n",
    "#     \"MECC\": \"MECC\", \n",
    "#     \"Munich\": \"MUNICH\", \n",
    "    \"Rainbow\": \"NLCS\", \n",
    "    \"Quasar\": \"QUASAR\", \n",
    "    \"TCGA\": \"TCGA\", \n",
    "    \"Yorkshire-resections\": \"YCR-BCIP\"\n",
    "}\n",
    "res_revers = dict((v, k) for k, v in res.items())\n",
    "bio = {\"Yorkshire-biopsies\": \"YCR-BCIP-biopsies\"}"
   ]
  },
  {
   "cell_type": "code",
   "execution_count": null,
   "id": "0518cf5c",
   "metadata": {},
   "outputs": [],
   "source": [
    "rows, columns, img_size = 2, 5, 3\n",
    "plt.figure(figsize=(columns * img_size, rows * img_size))\n",
    "for i, cohort in enumerate(res_revers.keys()):\n",
    "    print(cohort, res_revers[cohort], res.keys())\n",
    "    if cohort not in res_revers.keys():\n",
    "        continue    \n",
    "    num_tiles = np.array(cohort_dict[res_revers[cohort]])\n",
    "    plt.subplot(rows, columns, i + 1)\n",
    "#     if cohort == \"MUNICH\":\n",
    "#         plt.yticks(range(0, 21, 5))\n",
    "    plt.hist(num_tiles, bins=num_tiles.max()-num_tiles.min())\n",
    "    plt.axvline(x=num_tiles.mean(), color='tab:orange', label=int(num_tiles.mean().round()))\n",
    "    plt.xlim([0, 100])\n",
    "    plt.xlabel('Number of tiles')\n",
    "    plt.ylabel('Number of slides')\n",
    "    plt.title(cohort)\n",
    "    plt.legend()\n",
    "plt.tight_layout()\n",
    "plt.savefig(output_path / f'num_tiles_resections.svg',  format='svg', bbox_inches = 'tight', pad_inches = 0)"
   ]
  },
  {
   "cell_type": "code",
   "execution_count": null,
   "id": "4cb6a055",
   "metadata": {},
   "outputs": [],
   "source": [
    "rows, columns, img_size = 1, 1, 3\n",
    "plt.figure(figsize=(columns * img_size, rows * img_size))\n",
    "for i, cohort in enumerate(bio.keys()):\n",
    "    num_tiles = np.array(cohort_dict[cohort])\n",
    "\n",
    "    plt.subplot(rows, columns, i + 1)\n",
    "    plt.hist(num_tiles, bins=num_tiles.max()-num_tiles.min())\n",
    "    plt.axvline(x=num_tiles.mean(), color='tab:orange', label=int(num_tiles.mean().round()))\n",
    "\n",
    "    plt.xlim([0, 100])\n",
    "    plt.xlabel('Age')\n",
    "    plt.ylabel('Number of patients')\n",
    "    plt.title(bio[cohort])\n",
    "    plt.legend()\n",
    "plt.tight_layout()\n",
    "plt.savefig(output_path / f'num_tiles_biopsies.svg',  format='svg', bbox_inches = 'tight', pad_inches = 0)"
   ]
  },
  {
   "cell_type": "code",
   "execution_count": null,
   "id": "b35f23bd",
   "metadata": {},
   "outputs": [],
   "source": [
    "cohort_dict.keys()"
   ]
  },
  {
   "cell_type": "code",
   "execution_count": null,
   "id": "12a681d5",
   "metadata": {},
   "outputs": [],
   "source": [
    "res_revers"
   ]
  },
  {
<<<<<<< HEAD
=======
   "attachments": {},
>>>>>>> bb405d15eaa03ce2e1ed24c9fbcb9146a0988912
   "cell_type": "markdown",
   "id": "31b69a7a",
   "metadata": {},
   "source": [
<<<<<<< HEAD
    "# find out missing stats about cohorts"
=======
    "### find out missing stats about cohorts"
>>>>>>> bb405d15eaa03ce2e1ed24c9fbcb9146a0988912
   ]
  },
  {
   "cell_type": "code",
<<<<<<< HEAD
   "execution_count": 77,
   "id": "c61e626d",
   "metadata": {},
   "outputs": [],
   "source": [
    "output_path = Path('/home/haicu/sophia.wagner/projects/idkidc/figures') \n",
    "\n",
    "cohort = 'MCO'\n",
    "cfg.norm = norm = 'macenko'\n",
    "cfg.feats = feats =  'ctranspath'\n",
    "cfg.target = target = 'KRAS'\n",
    "\n",
    "categories = ['Not mut.', 'Mutat.', 'nonMSIH', 'MSIH', 'WT', 'MUT', 'wt', 'MT']\n",
    "target_labels = [cfg.target]\n",
    "true_label = 1.\n",
    "clini_info = {'AGE': None, 'GENDER': None, 'LEFT_RIGHT': None, 'STAGE': None}\n",
    "\n",
    "label_dict = {\n",
    "    'Not mut.': 0,\n",
    "    'Mutat.': 1,\n",
    "    'nonMSIH': 0,\n",
    "    'MSIH': 1,\n",
    "    'WT': 0,\n",
    "    'MUT': 1,\n",
    "    'wt': 0,\n",
    "    'MT': 1,\n",
    "    'left': 1,\n",
    "    'right': 0,\n",
    "    'female': 1,\n",
    "    'male': 0,\n",
    "}"
=======
   "execution_count": null,
   "id": "f3f2ceb1",
   "metadata": {},
   "outputs": [],
   "source": [
    "cohort = \"CPTAC\"\n",
    "target = 'isMSIH'\n",
    "categories = ['Not mut.', 'Mutat.', 'nonMSIH', 'MSIH', 'WT', 'MUT', 'wt', 'MT']\n",
    "norm = \"macenko\"\n",
    "feats = \"ctranspath\""
>>>>>>> bb405d15eaa03ce2e1ed24c9fbcb9146a0988912
   ]
  },
  {
   "cell_type": "code",
<<<<<<< HEAD
   "execution_count": 78,
   "id": "98d90814",
   "metadata": {},
   "outputs": [],
   "source": [
    "data_config = Path('data_config.yaml')\n",
    "with open(data_config, 'r') as f:\n",
    "    data_config = yaml.safe_load(f)\n",
    "\n",
    "    clini_table = Path(data_config[cohort]['clini_table'])\n",
    "    slide_csv = Path(data_config[cohort]['slide_csv'])\n",
    "    feature_dir = Path(data_config[cohort]['feature_dir'][norm][feats])"
   ]
  },
  {
   "cell_type": "code",
   "execution_count": 79,
   "id": "60c108c3",
   "metadata": {},
   "outputs": [
    {
     "name": "stdout",
     "output_type": "stream",
     "text": [
      "1679\n",
      "1608\n",
      "1608\n"
     ]
    }
   ],
   "source": [
=======
   "execution_count": null,
   "id": "60c108c3",
   "metadata": {},
   "outputs": [],
   "source": [
    "clini_table = MSI_cohorts_munich[cohort]['clini_table']\n",
    "slide_csv = MSI_cohorts_munich[cohort]['slide_csv']\n",
    "feature_dir = MSI_cohorts_munich[cohort]['feature_dir'][norm][feats]\n",
    "\n",
>>>>>>> bb405d15eaa03ce2e1ed24c9fbcb9146a0988912
    "clini_df = pd.read_csv(clini_table, dtype=str) if Path(clini_table).suffix == '.csv' else pd.read_excel(\n",
    "    clini_table, dtype=str)\n",
    "slide_df = pd.read_csv(slide_csv, dtype=str)\n",
    "df = clini_df.merge(slide_df, on='PATIENT')\n",
    "# adapt dataframe to case sensitive clini tables\n",
    "df = df.rename({\n",
    "    'MSI': 'isMSIH',\n",
<<<<<<< HEAD
    "    # 'BRAF': 'braf', 'BRAF_mutation': 'braf', 'braf_status': 'braf', \n",
    "    # 'KRAS': 'kras', 'kras_status': 'kras', 'KRAS_mutation': 'kras',\n",
    "    # 'NRAS': 'nras', 'NRAS_mutation': 'nras',  \n",
=======
    "    'BRAF': 'braf', 'BRAF_mutation': 'braf', 'braf_status': 'braf', \n",
    "    'KRAS': 'kras', 'kras_status': 'kras', 'KRAS_mutation': 'kras',\n",
    "    'NRAS': 'nras', 'NRAS_mutation': 'nras',  \n",
>>>>>>> bb405d15eaa03ce2e1ed24c9fbcb9146a0988912
    "    'Age': 'AGE',\n",
    "}, axis=1)\n",
    "\n",
    "# remove columns not in target_labels\n",
    "for key in df.columns:\n",
    "    keys = [target] + ['PATIENT', 'SLIDE', 'FILENAME', 'AGE', 'Cancer Type'] if target != '' else ['PATIENT', 'SLIDE', 'FILENAME']\n",
<<<<<<< HEAD
    "    # if key not in keys:\n",
    "    #     df.drop(key, axis=1, inplace=True)\n",
    "print(len(df))\n",
    "# remove rows/slides with non-valid labels\n",
    "df = df[df[target].isin(categories)]\n",
    "# remove slides we don't have\n",
    "h5s = set(feature_dir.glob('**/*.h5'))\n",
=======
    "    if key not in keys:\n",
    "        df.drop(key, axis=1, inplace=True)\n",
    "# remove rows/slides with non-valid labels\n",
    "df = df[df[target].isin(categories)]\n",
    "# remove slides we don't have\n",
    "h5s = set(feature_dir.glob('*.h5'))\n",
>>>>>>> bb405d15eaa03ce2e1ed24c9fbcb9146a0988912
    "assert h5s, f'no features found in {feature_dir}!'\n",
    "h5_df = pd.DataFrame(h5s, columns=['slide_path'])\n",
    "# h5_df['FILENAME'] = h5_df.slide_path.map(lambda p: p.stem.split('.')[0])\n",
    "h5_df['FILENAME'] = h5_df.slide_path.map(lambda p: p.stem.split('.')[0]) if cohort=='TCGA' else h5_df.slide_path.map(lambda p: p.stem)\n",
    "df = df.merge(h5_df, on='FILENAME')\n",
<<<<<<< HEAD
    "print(len(df))\n",
    "\n",
    "# df = df[df[target].isin(categories)]\n",
    "print(len(df))\n",
    "\n",
=======
>>>>>>> bb405d15eaa03ce2e1ed24c9fbcb9146a0988912
    "\n",
    "# reduce to one row per patient with list of slides in `df['slide_path']`\n",
    "patient_df = df.groupby('PATIENT').first().drop(columns='slide_path')\n",
    "patient_slides = df.groupby('PATIENT').slide_path.apply(list)\n",
    "df = patient_df.merge(patient_slides, left_on='PATIENT', right_index=True).reset_index()"
   ]
  },
  {
   "cell_type": "code",
<<<<<<< HEAD
   "execution_count": 80,
   "id": "e84bfe14",
   "metadata": {},
   "outputs": [
    {
     "data": {
      "text/plain": [
       "1390"
      ]
     },
     "execution_count": 80,
     "metadata": {},
     "output_type": "execute_result"
    }
   ],
   "source": [
    "len(df)"
   ]
  },
  {
   "cell_type": "code",
   "execution_count": 108,
   "id": "8a663e30",
   "metadata": {},
   "outputs": [],
   "source": [
    "# statistics over multiple cohorts\n",
    "from data_utils import get_cohort_df\n",
    "\n",
    "# target_labels = ['isMSIH']\n",
    "# cohorts = ['CPTAC', 'DACHS', 'DUSSEL', 'ERLANGEN', 'Epi700', 'FOXTROT', 'CHINA', 'MAINZ', 'MCO', 'MECC', 'MUNICH', 'RAINBOW', 'QUASAR', 'TCGA', 'TRANSCOT', 'YCR-BCIP-resections']\n",
    "target = 'KRAS'\n",
    "cohorts = ['DACHS',  'Epi700', 'MCO',  'QUASAR', 'RAINBOW', 'TCGA', ]\n",
    "target_labels = [target]\n",
    "data_config = Path('data_config.yaml')\n",
    "\n",
    "df_list = []\n",
    "np_list = []\n",
    "\n",
    "with open(data_config, 'r') as f:\n",
    "    data_config = yaml.safe_load(f)\n",
    "    \n",
    "    for cohort in cohorts:\n",
    "        clini_table = Path(data_config[cohort]['clini_table'])\n",
    "        slide_csv = Path(data_config[cohort]['slide_csv'])\n",
    "        feature_dir = Path(data_config[cohort]['feature_dir'][norm][feats])\n",
    "\n",
    "        current_df = get_cohort_df(clini_table, slide_csv, feature_dir, target_labels, categories, cohort, clini_info) \n",
    "        df_list.append(current_df)\n",
    "        np_list.append(len(current_df.PATIENT))\n",
    "\n",
    "data = pd.concat(df_list, ignore_index=True)"
   ]
  },
  {
   "cell_type": "code",
   "execution_count": 109,
   "id": "824c2821",
   "metadata": {},
   "outputs": [
    {
     "data": {
      "text/plain": [
       "WT     5262\n",
       "MUT    2810\n",
       "Name: KRAS, dtype: int64"
      ]
     },
     "execution_count": 109,
     "metadata": {},
     "output_type": "execute_result"
    }
   ],
   "source": [
    "data[target].value_counts()"
   ]
  },
  {
   "cell_type": "code",
   "execution_count": 110,
   "id": "ad179f43",
   "metadata": {},
   "outputs": [
    {
     "data": {
      "text/plain": [
       "0.3481169474727453"
      ]
     },
     "execution_count": 110,
     "metadata": {},
     "output_type": "execute_result"
    }
   ],
   "source": [
    "data[target].value_counts()['MUT'] / data[target].value_counts().sum()"
   ]
  },
  {
   "cell_type": "code",
   "execution_count": 72,
=======
   "execution_count": null,
>>>>>>> bb405d15eaa03ce2e1ed24c9fbcb9146a0988912
   "id": "e60247c1",
   "metadata": {},
   "outputs": [],
   "source": [
    "# age\n",
    "# df = df.dropna(axis=0, subset='AGE')\n",
    "# df['AGE'] = df['AGE'].astype(int)\n",
    "# print(df['AGE'].mean(), df['AGE'].std())"
   ]
  },
  {
   "cell_type": "code",
<<<<<<< HEAD
   "execution_count": 11,
   "id": "4ec64144",
   "metadata": {},
   "outputs": [
    {
     "data": {
      "text/plain": [
       "Index(['Case', 'MLH_1', 'MMRStatus', 'MSH_2', 'MSH_6', 'PATIENT', 'PMS_2',\n",
       "       'isMSIH', 'x_TCD_tumour1_', 'x_TCD_tumour2_'],\n",
       "      dtype='object')"
      ]
     },
     "execution_count": 11,
     "metadata": {},
     "output_type": "execute_result"
    }
   ],
=======
   "execution_count": null,
   "id": "4ec64144",
   "metadata": {},
   "outputs": [],
>>>>>>> bb405d15eaa03ce2e1ed24c9fbcb9146a0988912
   "source": [
    "clini_df.keys().sort_values()"
   ]
  },
  {
   "cell_type": "code",
<<<<<<< HEAD
   "execution_count": 12,
   "id": "386c73e4",
   "metadata": {},
   "outputs": [
    {
     "ename": "KeyError",
     "evalue": "'Tumor Site'",
     "output_type": "error",
     "traceback": [
      "\u001b[0;31m---------------------------------------------------------------------------\u001b[0m",
      "\u001b[0;31mKeyError\u001b[0m                                  Traceback (most recent call last)",
      "File \u001b[0;32m~/miniconda3/envs/genalt/lib/python3.9/site-packages/pandas/core/indexes/base.py:3621\u001b[0m, in \u001b[0;36mIndex.get_loc\u001b[0;34m(self, key, method, tolerance)\u001b[0m\n\u001b[1;32m   3620\u001b[0m \u001b[38;5;28;01mtry\u001b[39;00m:\n\u001b[0;32m-> 3621\u001b[0m     \u001b[38;5;28;01mreturn\u001b[39;00m \u001b[38;5;28;43mself\u001b[39;49m\u001b[38;5;241;43m.\u001b[39;49m\u001b[43m_engine\u001b[49m\u001b[38;5;241;43m.\u001b[39;49m\u001b[43mget_loc\u001b[49m\u001b[43m(\u001b[49m\u001b[43mcasted_key\u001b[49m\u001b[43m)\u001b[49m\n\u001b[1;32m   3622\u001b[0m \u001b[38;5;28;01mexcept\u001b[39;00m \u001b[38;5;167;01mKeyError\u001b[39;00m \u001b[38;5;28;01mas\u001b[39;00m err:\n",
      "File \u001b[0;32m~/miniconda3/envs/genalt/lib/python3.9/site-packages/pandas/_libs/index.pyx:136\u001b[0m, in \u001b[0;36mpandas._libs.index.IndexEngine.get_loc\u001b[0;34m()\u001b[0m\n",
      "File \u001b[0;32m~/miniconda3/envs/genalt/lib/python3.9/site-packages/pandas/_libs/index.pyx:163\u001b[0m, in \u001b[0;36mpandas._libs.index.IndexEngine.get_loc\u001b[0;34m()\u001b[0m\n",
      "File \u001b[0;32mpandas/_libs/hashtable_class_helper.pxi:5198\u001b[0m, in \u001b[0;36mpandas._libs.hashtable.PyObjectHashTable.get_item\u001b[0;34m()\u001b[0m\n",
      "File \u001b[0;32mpandas/_libs/hashtable_class_helper.pxi:5206\u001b[0m, in \u001b[0;36mpandas._libs.hashtable.PyObjectHashTable.get_item\u001b[0;34m()\u001b[0m\n",
      "\u001b[0;31mKeyError\u001b[0m: 'Tumor Site'",
      "\nThe above exception was the direct cause of the following exception:\n",
      "\u001b[0;31mKeyError\u001b[0m                                  Traceback (most recent call last)",
      "Input \u001b[0;32mIn [12]\u001b[0m, in \u001b[0;36m<cell line: 4>\u001b[0;34m()\u001b[0m\n\u001b[1;32m      1\u001b[0m \u001b[38;5;66;03m# clini_df[clini_df[\"Cancer Type\"] == \"Colorectal Cancer\"]\u001b[39;00m\n\u001b[1;32m      2\u001b[0m \u001b[38;5;66;03m# clini_df[clini_df[\"Sex\"] == \"Male\"]\u001b[39;00m\n\u001b[1;32m      3\u001b[0m \u001b[38;5;66;03m# clini_df[clini_df[\"Cancer Stage\"] == 'Stage IV']\u001b[39;00m\n\u001b[0;32m----> 4\u001b[0m clini_df[\u001b[43mclini_df\u001b[49m\u001b[43m[\u001b[49m\u001b[38;5;124;43m\"\u001b[39;49m\u001b[38;5;124;43mTumor Site\u001b[39;49m\u001b[38;5;124;43m\"\u001b[39;49m\u001b[43m]\u001b[49m \u001b[38;5;241m==\u001b[39m \u001b[38;5;124m'\u001b[39m\u001b[38;5;124mnan\u001b[39m\u001b[38;5;124m'\u001b[39m]\n",
      "File \u001b[0;32m~/miniconda3/envs/genalt/lib/python3.9/site-packages/pandas/core/frame.py:3505\u001b[0m, in \u001b[0;36mDataFrame.__getitem__\u001b[0;34m(self, key)\u001b[0m\n\u001b[1;32m   3503\u001b[0m \u001b[38;5;28;01mif\u001b[39;00m \u001b[38;5;28mself\u001b[39m\u001b[38;5;241m.\u001b[39mcolumns\u001b[38;5;241m.\u001b[39mnlevels \u001b[38;5;241m>\u001b[39m \u001b[38;5;241m1\u001b[39m:\n\u001b[1;32m   3504\u001b[0m     \u001b[38;5;28;01mreturn\u001b[39;00m \u001b[38;5;28mself\u001b[39m\u001b[38;5;241m.\u001b[39m_getitem_multilevel(key)\n\u001b[0;32m-> 3505\u001b[0m indexer \u001b[38;5;241m=\u001b[39m \u001b[38;5;28;43mself\u001b[39;49m\u001b[38;5;241;43m.\u001b[39;49m\u001b[43mcolumns\u001b[49m\u001b[38;5;241;43m.\u001b[39;49m\u001b[43mget_loc\u001b[49m\u001b[43m(\u001b[49m\u001b[43mkey\u001b[49m\u001b[43m)\u001b[49m\n\u001b[1;32m   3506\u001b[0m \u001b[38;5;28;01mif\u001b[39;00m is_integer(indexer):\n\u001b[1;32m   3507\u001b[0m     indexer \u001b[38;5;241m=\u001b[39m [indexer]\n",
      "File \u001b[0;32m~/miniconda3/envs/genalt/lib/python3.9/site-packages/pandas/core/indexes/base.py:3623\u001b[0m, in \u001b[0;36mIndex.get_loc\u001b[0;34m(self, key, method, tolerance)\u001b[0m\n\u001b[1;32m   3621\u001b[0m     \u001b[38;5;28;01mreturn\u001b[39;00m \u001b[38;5;28mself\u001b[39m\u001b[38;5;241m.\u001b[39m_engine\u001b[38;5;241m.\u001b[39mget_loc(casted_key)\n\u001b[1;32m   3622\u001b[0m \u001b[38;5;28;01mexcept\u001b[39;00m \u001b[38;5;167;01mKeyError\u001b[39;00m \u001b[38;5;28;01mas\u001b[39;00m err:\n\u001b[0;32m-> 3623\u001b[0m     \u001b[38;5;28;01mraise\u001b[39;00m \u001b[38;5;167;01mKeyError\u001b[39;00m(key) \u001b[38;5;28;01mfrom\u001b[39;00m \u001b[38;5;21;01merr\u001b[39;00m\n\u001b[1;32m   3624\u001b[0m \u001b[38;5;28;01mexcept\u001b[39;00m \u001b[38;5;167;01mTypeError\u001b[39;00m:\n\u001b[1;32m   3625\u001b[0m     \u001b[38;5;66;03m# If we have a listlike key, _check_indexing_error will raise\u001b[39;00m\n\u001b[1;32m   3626\u001b[0m     \u001b[38;5;66;03m#  InvalidIndexError. Otherwise we fall through and re-raise\u001b[39;00m\n\u001b[1;32m   3627\u001b[0m     \u001b[38;5;66;03m#  the TypeError.\u001b[39;00m\n\u001b[1;32m   3628\u001b[0m     \u001b[38;5;28mself\u001b[39m\u001b[38;5;241m.\u001b[39m_check_indexing_error(key)\n",
      "\u001b[0;31mKeyError\u001b[0m: 'Tumor Site'"
     ]
    }
   ],
=======
   "execution_count": null,
   "id": "386c73e4",
   "metadata": {},
   "outputs": [],
>>>>>>> bb405d15eaa03ce2e1ed24c9fbcb9146a0988912
   "source": [
    "# clini_df[clini_df[\"Cancer Type\"] == \"Colorectal Cancer\"]\n",
    "# clini_df[clini_df[\"Sex\"] == \"Male\"]\n",
    "# clini_df[clini_df[\"Cancer Stage\"] == 'Stage IV']\n",
    "clini_df[clini_df[\"Tumor Site\"] == 'nan']"
   ]
  },
  {
   "cell_type": "code",
   "execution_count": null,
   "id": "78a0126d",
   "metadata": {},
   "outputs": [],
   "source": [
    "clini_df[\"Tumor Site\"].unique()"
   ]
  },
  {
<<<<<<< HEAD
   "cell_type": "markdown",
   "id": "34445d0f",
   "metadata": {},
   "source": [
    "### plot color bars for figures"
=======
   "cell_type": "code",
   "execution_count": null,
   "id": "a5327d1a",
   "metadata": {},
   "outputs": [],
   "source": [
    "%matplotlib inline\n",
    "import matplotlib.pyplot as plt\n",
    "import numpy as np\n",
    "\n",
    "# Generate some fake data to plot\n",
    "data = np.random.rand(10, 10)\n",
    "\n",
    "# Create the plot\n",
    "fig, ax = plt.subplots()\n",
    "im = ax.imshow(data, cmap='RdBu_r')\n",
    "\n",
    "# Add the colorbar\n",
    "cbar = plt.colorbar(im, ticks=[0.0, 0.5, 1.])\n",
    "cbar.ax.set_yticklabels(['low', 'medium', 'high'])\n",
    "\n",
    "plt.show()"
   ]
  },
  {
   "cell_type": "code",
   "execution_count": null,
   "id": "8bb11287",
   "metadata": {},
   "outputs": [],
   "source": [
    "import matplotlib.pyplot as plt\n",
    "from mpl_toolkits.axes_grid1 import make_axes_locatable\n",
    "import numpy as np\n",
    "\n",
    "ax = plt.subplot()\n",
    "im = ax.imshow(np.arange(100).reshape((10, 10)))\n",
    "\n",
    "# create an Axes on the right side of ax. The width of cax will be 5%\n",
    "# of ax and the padding between cax and ax will be fixed at 0.05 inch.\n",
    "divider = make_axes_locatable(ax)\n",
    "cax = divider.append_axes(\"right\", size=\"5%\", pad=0.05)\n",
    "\n",
    "plt.colorbar(im, cax=cax)\n",
    "\n",
    "plt.show()"
>>>>>>> bb405d15eaa03ce2e1ed24c9fbcb9146a0988912
   ]
  },
  {
   "cell_type": "code",
   "execution_count": null,
   "id": "a432bb04",
   "metadata": {},
   "outputs": [],
   "source": [
    "import matplotlib.pyplot as plt\n",
    "import matplotlib as mpl\n",
    "\n",
    "fig, ax = plt.subplots(figsize=(5, 0.4))\n",
    "fig.subplots_adjust(bottom=0.5)\n",
    "\n",
    "cmap = mpl.cm.RdBu_r\n",
    "norm = mpl.colors.Normalize(vmin=0, vmax=1)\n",
    "\n",
    "cb1 = mpl.colorbar.ColorbarBase(ax, cmap=cmap,\n",
    "                                norm=norm,\n",
    "                                orientation='horizontal', ticks=[0, 1.])\n",
    "cb1.ax.set_xticklabels(['low', 'high'])\n",
    "\n",
    "plt.savefig(output_path / f'colorbar_attention.svg',  format='svg', bbox_inches = 'tight', pad_inches = 0)\n",
    "# cb1.set_label('Attention')\n",
    "fig.show()"
   ]
  },
  {
   "cell_type": "code",
   "execution_count": null,
   "id": "19638ad4",
   "metadata": {},
   "outputs": [],
   "source": [
    "import matplotlib.pyplot as plt\n",
    "import matplotlib as mpl\n",
    "\n",
    "fig, ax = plt.subplots(figsize=(5, 0.4))\n",
    "fig.subplots_adjust(bottom=0.5)\n",
    "\n",
    "cmap = mpl.cm.viridis\n",
    "norm = mpl.colors.Normalize(vmin=0, vmax=1)\n",
    "\n",
    "cb1 = mpl.colorbar.ColorbarBase(ax, cmap=cmap,\n",
    "                                norm=norm,\n",
    "                                orientation='horizontal', ticks=[0, 1.])\n",
    "# cb1.ax.set_yticklabels(['low', 'high'])\n",
    "\n",
    "plt.savefig(output_path / f'colorbar_classification.svg',  format='svg', bbox_inches = 'tight', pad_inches = 0)\n",
    "# cb1.set_label('Some Units')\n",
    "fig.show()"
   ]
  },
  {
<<<<<<< HEAD
=======
   "attachments": {},
>>>>>>> bb405d15eaa03ce2e1ed24c9fbcb9146a0988912
   "cell_type": "markdown",
   "id": "578d306d",
   "metadata": {},
   "source": [
<<<<<<< HEAD
    "# Analysis of clinicopathologicla features"
   ]
  },
  {
=======
    "# Analysis of clinicopathological features"
   ]
  },
  {
   "attachments": {},
>>>>>>> bb405d15eaa03ce2e1ed24c9fbcb9146a0988912
   "cell_type": "markdown",
   "id": "ff40c2bc",
   "metadata": {},
   "source": [
    "## Plot AUROCs for subgroups"
   ]
  },
  {
   "cell_type": "code",
   "execution_count": null,
   "id": "b617690f",
   "metadata": {},
   "outputs": [],
   "source": [
<<<<<<< HEAD
    "output_path = Path('/home/haicu/sophia.wagner/projects/idkidc/figures') \n",
    "\n",
    "test_cohorts = 'YCR-BCIP-resections'\n",
    "cohort = 'YCR-BCIP-resections'\n",
    "cohort_label = 'YCR-BCIP'\n",
=======
    "# output_path = Path('/home/haicu/sophia.wagner/projects/idkidc/figures') \n",
    "output_path = Path('/Users/sophia.wagner/Documents/PhD/projects/2022_MSI_transformer/figures/curves') \n",
    "\n",
    "# test_cohorts = 'YCR-BCIP-resections'\n",
    "# cohort = 'YCR-BCIP-resections'\n",
    "# cohort_label = 'YCR-BCIP'\n",
>>>>>>> bb405d15eaa03ce2e1ed24c9fbcb9146a0988912
    "\n",
    "cfg.norm = norm = 'histaugan'\n",
    "cfg.feats = feats =  'ctranspath'\n",
    "cfg.target = 'isMSIH'\n",
    "categories = ['Not mut.', 'Mutat.', 'nonMSIH', 'MSIH', 'WT', 'MUT', 'wt', 'MT']\n",
    "target_labels = [cfg.target]\n",
    "true_label = 1.\n",
    "clini_info = {'AGE': None, 'GENDER': None, 'LEFT_RIGHT': None, 'STAGE': None}\n",
    "\n",
    "label_dict = {\n",
    "    'Not mut.': 0,\n",
    "    'Mutat.': 1,\n",
    "    'nonMSIH': 0,\n",
    "    'MSIH': 1,\n",
    "    'WT': 0,\n",
    "    'MUT': 1,\n",
    "    'wt': 0,\n",
    "    'MT': 1,\n",
    "    'left': 1,\n",
    "    'right': 0,\n",
    "    'female': 1,\n",
    "    'male': 0,\n",
    "}"
   ]
  },
  {
   "cell_type": "code",
   "execution_count": null,
   "id": "790b953e",
   "metadata": {},
   "outputs": [],
   "source": [
    "csv_paths = result_path.glob(f'fold*/outputs_{test_cohorts}.csv')\n",
    "pred_csvs = list(csv_paths)"
   ]
  },
  {
   "cell_type": "code",
   "execution_count": null,
   "id": "899d1060",
   "metadata": {},
   "outputs": [],
   "source": [
    "data_config = Path('data_config.yaml')\n",
    "with open(data_config, 'r') as f:\n",
    "    data_config = yaml.safe_load(f)\n",
    "\n",
    "    clini_table = Path(data_config[cohort]['clini_table'])\n",
    "    slide_csv = Path(data_config[cohort]['slide_csv'])\n",
    "    feature_dir = Path(data_config[cohort]['feature_dir'][norm][feats])"
   ]
  },
  {
   "cell_type": "code",
   "execution_count": null,
<<<<<<< HEAD
=======
   "id": "40bf4fb0",
   "metadata": {},
   "outputs": [],
   "source": [
    "df = pd.read_excel('/Users/sophia.wagner/Downloads/clini_tables/FOXTROT-CRC-DX_CLINI_12062023.xlsx')"
   ]
  },
  {
   "cell_type": "code",
   "execution_count": null,
>>>>>>> bb405d15eaa03ce2e1ed24c9fbcb9146a0988912
   "id": "391de8c0",
   "metadata": {},
   "outputs": [],
   "source": [
<<<<<<< HEAD
    "from data_utils import get_cohort_df\n",
    "\n",
    "df = get_cohort_df(clini_table, slide_csv, feature_dir, [cfg.target], categories, cohort, clini_info) "
=======
    "# from data_utils import get_cohort_df\n",
    "\n",
    "# df = get_cohort_df(clini_table, slide_csv, feature_dir, [cfg.target], categories, cohort, clini_info) "
>>>>>>> bb405d15eaa03ce2e1ed24c9fbcb9146a0988912
   ]
  },
  {
   "cell_type": "code",
   "execution_count": null,
   "id": "19e9becc",
   "metadata": {},
   "outputs": [],
   "source": [
    "df['LEFT_RIGHT'].value_counts(dropna=False)"
   ]
  },
  {
   "cell_type": "code",
   "execution_count": null,
   "id": "6e758610",
   "metadata": {},
   "outputs": [],
   "source": [
    "df['GENDER'].value_counts(dropna=False)"
   ]
  },
  {
   "cell_type": "code",
   "execution_count": null,
   "id": "61e82e9a",
   "metadata": {},
   "outputs": [],
   "source": [
    "plt.hist(df['AGE'].astype(int))"
   ]
  },
  {
   "cell_type": "code",
   "execution_count": null,
   "id": "b45def5d",
   "metadata": {},
   "outputs": [],
   "source": [
    "df['STAGE'].value_counts(dropna=False)"
   ]
  },
  {
   "cell_type": "code",
   "execution_count": null,
   "id": "29a10165",
   "metadata": {},
   "outputs": [],
   "source": [
    "df['AGE'] = df['AGE'].astype(int)\n",
    "df['STAGE'] = pd.to_numeric(df['STAGE'], errors='coerce', downcast='integer')"
   ]
  },
  {
   "cell_type": "code",
   "execution_count": null,
<<<<<<< HEAD
=======
   "id": "45173657",
   "metadata": {},
   "outputs": [],
   "source": [
    "df['prepost'].value_counts(dropna=False)"
   ]
  },
  {
   "cell_type": "code",
   "execution_count": null,
>>>>>>> bb405d15eaa03ce2e1ed24c9fbcb9146a0988912
   "id": "363d62b7",
   "metadata": {},
   "outputs": [],
   "source": [
    "# --------------------------\n",
    "# state the condition\n",
    "# --------------------------\n",
    "\n",
    "# age\n",
    "# lower = 0\n",
    "# upper = 60\n",
    "# df = df[df['AGE'] < upper]\n",
    "# df = df[df['AGE'] >= lower]\n",
    "\n",
<<<<<<< HEAD
    "# gender\n",
    "gender = 'female'\n",
    "df = df[df['GENDER'] == gender]\n",
=======
    "# # gender\n",
    "# gender = 'female'\n",
    "# df = df[df['GENDER'] == gender]\n",
>>>>>>> bb405d15eaa03ce2e1ed24c9fbcb9146a0988912
    "\n",
    "# # tumor site\n",
    "# site = 'left'\n",
    "# df = df[df['LEFT_RIGHT'] == site]\n",
    "\n",
<<<<<<< HEAD
    "# stage\n",
    "stage = 3\n",
    "df = df[df['STAGE'] == stage]"
=======
    "# # stage\n",
    "# stage = 3\n",
    "# df = df[df['STAGE'] == stage]\n",
    "\n",
    "# pre/post treatment (FOXTROT)\n",
    "prepost = 'Control'\n",
    "df = df[df['prepost'] == prepost]"
>>>>>>> bb405d15eaa03ce2e1ed24c9fbcb9146a0988912
   ]
  },
  {
   "cell_type": "code",
   "execution_count": null,
   "id": "58437580",
   "metadata": {},
   "outputs": [],
   "source": [
    "# test_df = pd.read_csv(pred_csvs[0], dtype=str).rename({'patient': 'PATIENT'}, axis=1)\n",
    "# logits = test_df['logits'].astype(float)\n",
    "# test_df['predictions'] = torch.tensor(logits.values).sigmoid().round()"
   ]
  },
  {
   "cell_type": "code",
   "execution_count": null,
<<<<<<< HEAD
=======
   "id": "681032b2",
   "metadata": {},
   "outputs": [],
   "source": [
    "df['PATIENT'] = df['PATIENT'].astype(str)"
   ]
  },
  {
   "cell_type": "code",
   "execution_count": null,
>>>>>>> bb405d15eaa03ce2e1ed24c9fbcb9146a0988912
   "id": "8c676454",
   "metadata": {},
   "outputs": [],
   "source": [
    "pred_dfs = [pd.read_csv(p, dtype=str).rename({'patient': 'PATIENT'}, axis=1) for p in pred_csvs]\n",
    "pred_dfs = [pd.merge(pred_dfs[i], df, on=\"PATIENT\", how='inner', ) for i in range(len(pred_dfs))]\n",
    "\n",
    "y_trues = [df[\"ground_truth\"] == f'{true_label:.1f}' for df in pred_dfs]\n",
    "# y_trues = [label_dict[df[cfg.target]] == 'ground_truth' for df in pred_dfs]\n",
    "y_preds = [pd.to_numeric(df[f'logits']) for df in pred_dfs]"
   ]
  },
  {
   "cell_type": "code",
   "execution_count": null,
   "id": "72a9bd75",
   "metadata": {},
   "outputs": [],
   "source": [
    "tprs = []\n",
    "aucs = []\n",
    "mean_fpr = np.linspace(0, 1, 100)\n",
    "\n",
    "\n",
    "fig, ax = plt.subplots(figsize=(5, 5))\n",
    "\n",
    "for i in range(len(y_trues)):\n",
    "    fpr, tpr, _ = roc_curve(y_trues[i], y_preds[i])\n",
    "    roc_auc = roc_auc_score(y_trues[i], y_preds[i])\n",
    "    \n",
    "#     ax.plot(fpr, tpr, label=f'AUC = {roc_auc:0.2f}', alpha=0.3, color='black')\n",
    "\n",
    "\n",
    "    interp_tpr = np.interp(mean_fpr, fpr, tpr)\n",
    "    interp_tpr[0] = 0.0\n",
    "    tprs.append(interp_tpr)\n",
    "    aucs.append(roc_auc)\n",
    "ax.plot([0, 1], [0, 1], linestyle=\"--\", lw=1, color=\"gray\", label=\"Chance\", alpha=0.8)\n",
    "\n",
    "mean_tpr = np.mean(tprs, axis=0)\n",
    "mean_tpr[-1] = 1.0\n",
    "mean_auc = auc(mean_fpr, mean_tpr)\n",
    "std_auc = np.std(aucs)\n",
    "# plot mean curve\n",
    "ax.plot(\n",
    "    mean_fpr,\n",
    "    mean_tpr,\n",
    "    color=\"black\",\n",
    "    label=r\"Mean ROC (AUC = %0.2f $\\pm$ %0.3f)\" % (mean_auc, std_auc),\n",
    "    lw=2,\n",
    "    alpha=0.8,\n",
    ")\n",
    "\n",
    "std_tpr = np.std(tprs, axis=0)\n",
    "tprs_upper = np.minimum(mean_tpr + std_tpr, 1)\n",
    "tprs_lower = np.maximum(mean_tpr - std_tpr, 0)\n",
    "ax.fill_between(\n",
    "    mean_fpr,\n",
    "    tprs_lower,\n",
    "    tprs_upper,\n",
    "    color=\"grey\",\n",
    "    alpha=0.5,\n",
    "    label=r\"$\\pm$ 1 std. dev.\",\n",
    ")\n",
    "\n",
    "ax.set(\n",
    "    xlim=[-0.05, 1.05],\n",
    "    ylim=[-0.05, 1.05],\n",
    "    # title=f\"ROC for patients with: {lower} ≤ age < {upper} (n={len(df)})\",\n",
    "    # title=f\"ROC for patients with: gender = {gender} (n={len(df)})\",\n",
    "    # title=f\"ROC for patients with: tumor position = {site} (n={len(df)})\",\n",
<<<<<<< HEAD
    "    title=f\"ROC for patients with: stage = III (n={len(df)})\",\n",
=======
    "    title=f\"ROC for patients in control group (n={len(df)})\",\n",
>>>>>>> bb405d15eaa03ce2e1ed24c9fbcb9146a0988912
    ")\n",
    "\n",
    "ax.set_xlabel('1 - Specificity')\n",
    "ax.set_ylabel('Sensitivity')\n",
    "\n",
    "ax.legend(loc=\"lower right\")\n",
    "# fig.savefig(output_path / f'auroc_{test_cohorts}_{cfg.target}_age_{lower}_{upper}.svg', format='svg', bbox_inches = 'tight', pad_inches = 0)\n",
    "# fig.savefig(output_path / f'auroc_{test_cohorts}_{cfg.target}_gender_{gender}.svg', format='svg', bbox_inches = 'tight', pad_inches = 0)\n",
    "# fig.savefig(output_path / f'auroc_{test_cohorts}_{cfg.target}_site_{site}.svg', format='svg', bbox_inches = 'tight', pad_inches = 0)\n",
    "# fig.savefig(output_path / f'auroc_{test_cohorts}_{cfg.target}_stage_{stage}.svg', format='svg', bbox_inches = 'tight', pad_inches = 0)\n",
<<<<<<< HEAD
=======
    "fig.savefig(output_path / f'auroc_{test_cohorts}_{cfg.target}_prepost_{prepost}.svg', format='svg', bbox_inches = 'tight', pad_inches = 0)\n",
>>>>>>> bb405d15eaa03ce2e1ed24c9fbcb9146a0988912
    "plt.show()"
   ]
  },
  {
   "cell_type": "code",
   "execution_count": null,
   "id": "0282813d",
   "metadata": {},
   "outputs": [],
<<<<<<< HEAD
   "source": []
=======
   "source": [
    "df"
   ]
>>>>>>> bb405d15eaa03ce2e1ed24c9fbcb9146a0988912
  },
  {
   "cell_type": "code",
   "execution_count": null,
   "id": "88f1af58",
   "metadata": {},
   "outputs": [],
   "source": []
  }
 ],
 "metadata": {
  "kernelspec": {
   "display_name": "Python 3 (ipykernel)",
   "language": "python",
   "name": "python3"
  },
  "language_info": {
   "codemirror_mode": {
    "name": "ipython",
    "version": 3
   },
   "file_extension": ".py",
   "mimetype": "text/x-python",
   "name": "python",
   "nbconvert_exporter": "python",
   "pygments_lexer": "ipython3",
<<<<<<< HEAD
   "version": "3.9.13"
=======
   "version": "3.10.10"
>>>>>>> bb405d15eaa03ce2e1ed24c9fbcb9146a0988912
  },
  "vscode": {
   "interpreter": {
    "hash": "fe9aff0ab47136056049936c4658da4ba2cd99c7d1ecd6f48215068e2b5bffd9"
   }
  }
 },
 "nbformat": 4,
 "nbformat_minor": 5
}
