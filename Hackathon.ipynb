{
  "cells": [
    {
      "cell_type": "markdown",
      "metadata": {
        "colab_type": "text",
        "id": "view-in-github"
      },
      "source": [
        "<a href=\"https://colab.research.google.com/github/peng-lab/idkidc/blob/manuel_sophia/Hackathon.ipynb\" target=\"_parent\"><img src=\"https://colab.research.google.com/assets/colab-badge.svg\" alt=\"Open In Colab\"/></a>"
      ]
    },
    {
      "cell_type": "markdown",
      "metadata": {
        "id": "TxtnFnjFhj8g"
      },
      "source": [
        "# Set up ssh connection to github"
      ]
    },
    {
      "cell_type": "code",
      "execution_count": null,
      "metadata": {
        "colab": {
          "base_uri": "https://localhost:8080/"
        },
        "id": "6sfoOsSHqtXk",
        "outputId": "1cfbb7c4-f06a-4bba-d862-40a6b352c62a"
      },
      "outputs": [],
      "source": [
        "!ssh-keygen -t rsa -b 4096"
      ]
    },
    {
      "cell_type": "code",
      "execution_count": null,
      "metadata": {
        "colab": {
          "base_uri": "https://localhost:8080/"
        },
        "id": "LjP4WE5aM4xL",
        "outputId": "4a8168f1-2e9f-49e8-a8d0-2273b1c76cc1"
      },
      "outputs": [],
      "source": [
        "!ssh-keyscan -t rsa github.com >> ~/.ssh/known_hosts"
      ]
    },
    {
      "cell_type": "code",
      "execution_count": null,
      "metadata": {
        "colab": {
          "base_uri": "https://localhost:8080/"
        },
        "id": "cvYvtKEDN8y-",
        "outputId": "c7e5763b-21e1-4fb2-9ce0-9683dda4de1e"
      },
      "outputs": [],
      "source": [
        "!cat /root/.ssh/id_rsa.pub"
      ]
    },
    {
      "cell_type": "code",
      "execution_count": null,
      "metadata": {
        "colab": {
          "base_uri": "https://localhost:8080/"
        },
        "id": "XRCUIqueOfZW",
        "outputId": "f9de8e4e-9cec-45fa-942d-bf75d749cc1b"
      },
      "outputs": [],
      "source": [
        "!ssh -T git@github.com"
      ]
    },
    {
      "cell_type": "code",
      "execution_count": null,
      "metadata": {
        "id": "TYrxAXnFPU28"
      },
      "outputs": [],
      "source": [
        "!git config --global user.email \"sophia.wagner@t-online.de\"\n",
        "!git config --global user.name \"sophiajw\""
      ]
    },
    {
      "cell_type": "code",
      "execution_count": null,
      "metadata": {
        "colab": {
          "base_uri": "https://localhost:8080/"
        },
        "id": "mGF_1Z6Oqt8i",
        "outputId": "2f0f2066-331e-4b64-b189-ea0412cda5cd"
      },
      "outputs": [],
      "source": [
        "!git clone git@github.com:peng-lab/idkidc.git"
      ]
    },
    {
      "cell_type": "markdown",
      "metadata": {
        "id": "TDt9gZODT4o-"
      },
      "source": [
        "# Install packages"
      ]
    },
    {
      "cell_type": "code",
      "execution_count": null,
      "metadata": {
        "colab": {
          "base_uri": "https://localhost:8080/"
        },
        "id": "MnQtVd0RqyvP",
        "outputId": "f690b666-9259-460b-de16-f63d1558b4e7"
      },
      "outputs": [],
      "source": [
        "%cd /content/idkidc"
      ]
    },
    {
      "cell_type": "code",
      "execution_count": null,
      "metadata": {
        "colab": {
          "base_uri": "https://localhost:8080/"
        },
        "id": "ESzEmH6VPpWi",
        "outputId": "137d499b-8d49-40dd-aa5e-29448ff37d18"
      },
      "outputs": [],
      "source": [
        "!git checkout manuel_sophia"
      ]
    },
    {
      "cell_type": "code",
      "execution_count": null,
      "metadata": {
        "colab": {
          "base_uri": "https://localhost:8080/"
        },
        "id": "rHna-8BuT1GU",
        "outputId": "1110334a-4f0e-4194-9436-36bc0a967d86"
      },
      "outputs": [],
      "source": [
        "!pip install pytorch-lightning\n",
        "!pip install wandb\n",
        "!pip install dgl\n",
        "!pip install einops"
      ]
    },
    {
      "cell_type": "markdown",
      "metadata": {
        "id": "tSwYqB38fhaf"
      },
      "source": [
        "* add `default='/content/idkidc/config.yaml'` to `options.py`"
      ]
    },
    {
      "attachments": {},
      "cell_type": "markdown",
      "metadata": {
        "id": "IwcAUOyNTPuE"
      },
      "source": [
        "# Start training your histo classifier"
      ]
    },
    {
      "cell_type": "code",
      "execution_count": null,
      "metadata": {
        "id": "9fwP1V-NcTV4"
      },
      "outputs": [],
      "source": [
        "%load_ext autoreload\n",
        "%autoreload 2"
      ]
    },
    {
      "cell_type": "code",
      "execution_count": null,
      "metadata": {
        "colab": {
          "base_uri": "https://localhost:8080/"
        },
        "id": "mM42QZqiTTjq",
        "outputId": "7498d318-6e86-4cf6-e611-7a1bdc2ae26a"
      },
      "outputs": [],
      "source": [
        "from pathlib import Path\n",
        "import numpy as np\n",
        "import argparse\n",
        "import pandas as pd\n",
        "import yaml\n",
        "\n",
        "import pytorch_lightning as pl\n",
        "from sklearn.model_selection import StratifiedKFold, train_test_split\n",
        "import torch\n",
        "from pytorch_lightning.callbacks import ModelCheckpoint\n",
        "from pytorch_lightning.loggers import WandbLogger, CSVLogger\n",
        "from torch.utils.data import DataLoader\n",
        "import wandb\n",
        "\n",
        "from options import Options\n",
        "from data import MILDataset, MILDatasetIndices, get_multi_cohort_df\n",
        "from classifier import ClassifierLightning\n",
        "from utils import save_results"
      ]
    },
    {
      "cell_type": "code",
      "execution_count": null,
      "metadata": {
        "colab": {
          "base_uri": "https://localhost:8080/"
        },
        "id": "ufnWFEnvRnYC",
        "outputId": "284531ca-45b4-4ff0-bfc6-1f79cb1bfa7c"
      },
      "outputs": [],
      "source": [
        "parser = Options()\n",
        "args = parser.parser.parse_args('')  \n",
        "\n",
        "# Load the configuration from the YAML file\n",
        "with open(args.config_file, 'r') as f:\n",
        "    config = yaml.load(f, Loader=yaml.FullLoader)\n",
        "\n",
        "# Update the configuration with the values from the argument parser\n",
        "for arg_name, arg_value in vars(args).items():\n",
        "    if arg_value is not None and arg_name != 'config_file':\n",
        "        config[arg_name]['value'] = getattr(args, arg_name)\n",
        "\n",
        "# Create a flat config file without descriptions\n",
        "config = {k: v['value'] for k, v in config.items()}\n",
        "\n",
        "print('\\n--- load options ---')\n",
        "for name, value in sorted(config.items()):\n",
        "    print(f'{name}: {str(value)}')\n",
        "\n",
        "cfg = argparse.Namespace(**config)"
      ]
    },
    {
      "cell_type": "code",
      "execution_count": null,
      "metadata": {
        "colab": {
          "base_uri": "https://localhost:8080/"
        },
        "id": "8ZSSsAsGk6nl",
        "outputId": "603beeb1-4b89-40ab-be23-278b1a166fe1"
      },
      "outputs": [],
      "source": [
        "# setup\n",
        "cfg.seed = torch.randint(0, 1000, (1, )).item() if cfg.seed is None else cfg.seed\n",
        "pl.seed_everything(cfg.seed, workers=True)\n",
        "\n",
        "# saving locations\n",
        "base_path = Path(cfg.save_dir)  # adapt to own target path\n",
        "logging_name = f'{cfg.name}_{cfg.model}_{\"-\".join(cfg.cohorts)}_{cfg.norm}_{cfg.target}' if not cfg.debug else 'debug'\n",
        "base_path = base_path / logging_name\n",
        "base_path.mkdir(parents=True, exist_ok=True)\n",
        "model_path = base_path / 'models'\n",
        "fold_path = base_path / 'folds'\n",
        "fold_path.mkdir(parents=True, exist_ok=True)\n",
        "result_path = base_path / 'results'\n",
        "result_path.mkdir(parents=True, exist_ok=True)\n",
        "\n",
        "norm_val = 'raw' if cfg.norm in ['histaugan', 'efficient_histaugan'] else cfg.norm\n",
        "norm_test = 'raw' if cfg.norm in ['histaugan', 'efficient_histaugan'] else cfg.norm\n"
      ]
    },
    {
      "cell_type": "code",
      "execution_count": null,
      "metadata": {
        "colab": {
          "base_uri": "https://localhost:8080/"
        },
        "id": "KJtbhC0olA9W",
        "outputId": "4fd6edb6-12e3-4ca7-c611-14fdf1e69b26"
      },
      "outputs": [],
      "source": [
        "# --------------------------------------------------------\n",
        "# load data\n",
        "# --------------------------------------------------------\n",
        "print('\\n--- load dataset ---')\n",
        "categories = ['Not mut.', 'Mutat.', 'nonMSIH', 'MSIH', 'WT', 'MUT', 'wt', 'MT', 'female', 'male', 'left', 'right']\n",
        "data = get_multi_cohort_df(\n",
        "    cfg.cohorts, [cfg.target], categories, norm=cfg.norm, feats=cfg.feats\n",
        ")\n",
        "\n",
        "test_ext_dataloader = []\n",
        "for ext in cfg.ext_cohorts:\n",
        "    dataset_ext = MILDataset(\n",
        "        [ext], [cfg.target],\n",
        "        categories,\n",
        "        norm=norm_test,\n",
        "        feats=cfg.feats,\n",
        "        clini_info=cfg.clini_info\n",
        "    )\n",
        "    test_ext_dataloader.append(DataLoader(dataset=dataset_ext, batch_size=1, shuffle=False, num_workers=14, pin_memory=True))\n",
        "    \n",
        "train_cohorts = f'{\", \".join(cfg.cohorts)}'\n",
        "test_cohorts = [train_cohorts, *cfg.ext_cohorts]\n",
        "results = {t: [] for t in test_cohorts}"
      ]
    },
    {
      "cell_type": "code",
      "execution_count": null,
      "metadata": {
        "colab": {
          "base_uri": "https://localhost:8080/",
          "height": 782
        },
        "id": "EHaAJLmRle0x",
        "outputId": "9d9fe414-0317-4038-d94d-1aab30441944"
      },
      "outputs": [],
      "source": [
        "# --------------------------------------------------------\n",
        "# k-fold cross validation\n",
        "# --------------------------------------------------------\n",
        "skf = StratifiedKFold(n_splits=cfg.folds, shuffle=True, random_state=cfg.seed)\n",
        "patient_df = data.groupby('PATIENT').first().reset_index()\n",
        "target_stratisfy = cfg.target if type(cfg.target) is str else cfg.target[0]\n",
        "splits = skf.split(patient_df, patient_df[target_stratisfy])\n",
        "\n",
        "lrs = []\n",
        "\n",
        "for l, (train_val_idxs, test_idxs) in enumerate(splits):\n",
        "    train_idxs, val_idxs = train_test_split( train_val_idxs, stratify=patient_df.iloc[train_val_idxs][target_stratisfy], random_state=cfg.seed)\n",
        "    \n",
        "    # training dataset\n",
        "    train_dataset = MILDatasetIndices(\n",
        "        data,\n",
        "        train_idxs, [cfg.target],\n",
        "        num_tiles=cfg.num_tiles,\n",
        "        pad_tiles=cfg.pad_tiles,\n",
        "        norm=cfg.norm\n",
        "    )\n",
        "    train_dataloader = DataLoader(\n",
        "        dataset=train_dataset, batch_size=cfg.bs, shuffle=True, num_workers=14, pin_memory=True\n",
        "    )\n",
        "    \n",
        "    # validation dataset\n",
        "    val_dataset = MILDatasetIndices(data, val_idxs, [cfg.target], norm=norm_val)\n",
        "    val_dataloader = DataLoader(\n",
        "        dataset=val_dataset, batch_size=1, shuffle=False, num_workers=14, pin_memory=True\n",
        "    )\n",
        "\n",
        "    # idx=2 since the ouput is feats, coords, labels\n",
        "    num_pos = sum([train_dataset[i][2] for i in range(len(train_dataset))])\n",
        "    cfg.pos_weight = torch.Tensor((len(train_dataset) - num_pos) / num_pos)\n",
        "    cfg.criterion = \"BCEWithLogitsLoss\"\n",
        "\n",
        "    # --------------------------------------------------------\n",
        "    # model\n",
        "    # --------------------------------------------------------\n",
        "    model = ClassifierLightning(cfg)\n",
        "\n",
        "    # --------------------------------------------------------\n",
        "    # training setup\n",
        "    # --------------------------------------------------------\n",
        "    \n",
        "    trainer = pl.Trainer(\n",
        "        accelerator='auto',\n",
        "        precision='16-mixed',\n",
        "        accumulate_grad_batches=4,\n",
        "        gradient_clip_val=1,\n",
        "        max_epochs=cfg.num_epochs,\n",
        "        # track_grad_norm=2,      # debug\n",
        "        num_sanity_val_steps=0,  # debug\n",
        "        # val_check_interval=0.1,  # debug\n",
        "        # limit_val_batches=0.1,  # debug\n",
        "        # limit_train_batches=6,  # debug\n",
        "        # limit_val_batches=6,    # debug\n",
        "        log_every_n_steps=1,  # debug\n",
        "        # fast_dev_run=True,    # debug\n",
        "        # max_steps=6,          # debug\n",
        "        enable_model_summary=False,  # debug\n",
        "    )\n",
        "    \n",
        "    tuner = Tuner(trainer)\n",
        "    \n",
        "    # --------------------------------------------------------\n",
        "    # find learning rate\n",
        "    # --------------------------------------------------------\n",
        "    \n",
        "    lr_finder = tuner.lr_find(model, train_dataloader, val_dataloader, max_lr=0.1)\n",
        "    \n",
        "    # Plot with\n",
        "    fig = lr_finder.plot(suggest=True)\n",
        "    fig.show()\n",
        "\n",
        "    # Pick point based on plot, or get suggestion\n",
        "    new_lr = lr_finder.suggestion()\n",
        "    lrs.append(new_lr)\n",
        "    \n",
        "print(lrs)"
      ]
    },
    {
      "cell_type": "code",
      "execution_count": null,
      "metadata": {
        "colab": {
          "base_uri": "https://localhost:8080/"
        },
        "id": "UPncfyJE-ZA1",
        "outputId": "2b510ce7-593e-468a-b661-bdb21f17a253"
      },
      "outputs": [],
      "source": [
        "np.array(lrs).mean()\n"
      ]
    },
    {
      "cell_type": "code",
      "execution_count": null,
      "metadata": {},
      "outputs": [],
      "source": [
        "np.array([lrs[1], lrs[3], lrs[4]]).mean()"
      ]
    },
    {
      "cell_type": "code",
      "execution_count": null,
      "metadata": {},
      "outputs": [],
      "source": [
        "np.array([lrs[0], lrs[1], lrs[2], lrs[4]]).mean()"
      ]
    },
    {
      "attachments": {},
      "cell_type": "markdown",
      "metadata": {},
      "source": [
        "## Tune hyperparameters with optuna"
      ]
    },
    {
      "cell_type": "code",
      "execution_count": null,
      "metadata": {},
      "outputs": [],
      "source": [
        "import optuna\n",
        "from optuna.integration import PyTorchLightningPruningCallback"
      ]
    },
    {
      "cell_type": "code",
      "execution_count": null,
      "metadata": {},
      "outputs": [],
      "source": [
        "EPOCHS = 8\n",
        "CLIP = 1"
      ]
    },
    {
      "cell_type": "code",
      "execution_count": null,
      "metadata": {},
      "outputs": [],
      "source": [
        "patient_df = data.groupby('PATIENT').first().reset_index()\n",
        "target_stratisfy = cfg.target if type(cfg.target) is str else cfg.target[0]\n",
        "train_idxs, val_idxs = train_test_split(range(len(patient_df)), stratify=patient_df[target_stratisfy], random_state=cfg.seed)\n",
        "\n",
        "# training dataset\n",
        "train_dataset = MILDatasetIndices(\n",
        "    data,\n",
        "    train_idxs, [cfg.target],\n",
        "    num_tiles=cfg.num_tiles,\n",
        "    pad_tiles=cfg.pad_tiles,\n",
        "    norm=cfg.norm\n",
        ")\n",
        "train_dataloader = DataLoader(\n",
        "    dataset=train_dataset, batch_size=cfg.bs, shuffle=True, num_workers=14, pin_memory=True\n",
        ")\n",
        "\n",
        "# validation dataset\n",
        "val_dataset = MILDatasetIndices(data, val_idxs, [cfg.target], norm=norm_val)\n",
        "val_dataloader = DataLoader(\n",
        "    dataset=val_dataset, batch_size=1, shuffle=False, num_workers=14, pin_memory=True\n",
        ")\n",
        "\n",
        "# idx=2 since the ouput is feats, coords, labels\n",
        "num_pos = sum([train_dataset[i][2] for i in range(len(train_dataset))])\n",
        "cfg.pos_weight = torch.Tensor((len(train_dataset) - num_pos) / num_pos)\n",
        "cfg.criterion = \"BCEWithLogitsLoss\"\n"
      ]
    },
    {
      "cell_type": "code",
      "execution_count": null,
      "metadata": {},
      "outputs": [],
      "source": [
        "def objective(trial: optuna.trial.Trial) -> float:\n",
        "    \n",
        "    lr = trial.suggest_loguniform(\"learning_rate\", 1e-6, 1e-1)\n",
        "    wd = trial.suggest_loguniform(\"weight_decay\", 1e-6, 1e-1)\n",
        "\n",
        "    model = ClassifierLightning(cfg)\n",
        "    trainer = pl.Trainer(\n",
        "        precision='16-mixed',\n",
        "        accelerator='auto', \n",
        "        max_epochs=EPOCHS,\n",
        "        gradient_clip_val=CLIP,\n",
        "        callbacks=[PyTorchLightningPruningCallback(trial, monitor=\"auroc/val\")],\n",
        "    )\n",
        "    hyperparameters = dict(lr=lr, wd=wd)\n",
        "    trainer.logger.log_hyperparams(hyperparameters)\n",
        "    trainer.fit(model, train_dataloader, val_dataloader)\n",
        "    return trainer.callback_metrics[\"auroc/val\"].item()"
      ]
    },
    {
      "cell_type": "code",
      "execution_count": null,
      "metadata": {},
      "outputs": [],
      "source": [
        "# --------------------------------------------------------\n",
        "# tune hyperparameters\n",
        "# --------------------------------------------------------\n",
        "\n",
        "sampler = optuna.samplers.TPESampler(multivariate=True)\n",
        "pruner = optuna.pruners.HyperbandPruner()\n",
        "study = optuna.create_study(direction=\"maximize\", sampler=sampler, pruner=pruner)\n",
        "study.optimize(objective, n_trials=50, timeout=None)\n",
        "print(\"Number of finished trials: {}\".format(len(study.trials)))\n",
        "print(\"Best trial:\")\n",
        "trial = study.best_trial\n",
        "print(\"  Value: {}\".format(trial.value))\n",
        "print(\"  Params: \")\n",
        "for key, value in trial.params.items():\n",
        "    print(\"    {}: {}\".format(key, value))"
      ]
    },
    {
      "cell_type": "code",
      "execution_count": null,
      "metadata": {},
      "outputs": [],
      "source": [
        "trainer.training_type_plugin"
      ]
    },
    {
      "cell_type": "markdown",
      "metadata": {
        "id": "MCxpDSwhhgbi"
      },
      "source": [
        "# Push changes to github"
      ]
    },
    {
      "cell_type": "code",
      "execution_count": null,
      "metadata": {
        "id": "btruttzfle3p"
      },
      "outputs": [],
      "source": [
        "!git status"
      ]
    },
    {
      "cell_type": "code",
      "execution_count": null,
      "metadata": {
        "colab": {
          "base_uri": "https://localhost:8080/"
        },
        "id": "EW__qVkCle6r",
        "outputId": "b53de3a1-fd1b-4fcd-e2a6-904dd0f41572"
      },
      "outputs": [],
      "source": [
        "!git commit -a -m \"changes in colab\""
      ]
    },
    {
      "cell_type": "code",
      "execution_count": null,
      "metadata": {
        "colab": {
          "base_uri": "https://localhost:8080/"
        },
        "id": "q7A8qkStle9S",
        "outputId": "1697c784-a386-47b3-f294-c48aceaef697"
      },
      "outputs": [],
      "source": [
        "!git push"
      ]
    },
    {
      "cell_type": "code",
      "execution_count": null,
      "metadata": {
        "id": "fHdFoHP6le__"
      },
      "outputs": [],
      "source": []
    },
    {
      "cell_type": "code",
      "execution_count": null,
      "metadata": {
        "id": "UNTYOK_llfDT"
      },
      "outputs": [],
      "source": []
    },
    {
      "cell_type": "code",
      "execution_count": null,
      "metadata": {
        "colab": {
          "base_uri": "https://localhost:8080/",
          "height": 169
        },
        "id": "epOGVYzuZfZZ",
        "outputId": "d5d62676-fd65-4e3a-98e3-036dfc5151ed"
      },
      "outputs": [],
      "source": [
        "main(cfg)"
      ]
    },
    {
      "cell_type": "code",
      "execution_count": null,
      "metadata": {
        "id": "M-YFQ_T2Z8f_"
      },
      "outputs": [],
      "source": [
        "args = parser.parser.parse_args('')"
      ]
    },
    {
      "cell_type": "code",
      "execution_count": null,
      "metadata": {
        "colab": {
          "base_uri": "https://localhost:8080/"
        },
        "id": "UzdjRCynZhAf",
        "outputId": "0a8f87bf-1e04-4dd5-f253-ff85d96a54c0"
      },
      "outputs": [],
      "source": [
        "args"
      ]
    },
    {
      "cell_type": "code",
      "execution_count": null,
      "metadata": {
        "colab": {
          "base_uri": "https://localhost:8080/"
        },
        "id": "Zd4Tus4caNHB",
        "outputId": "b176d6d2-0b6d-4897-8665-82f3b7f2580f"
      },
      "outputs": [],
      "source": [
        "vars(args)"
      ]
    },
    {
      "cell_type": "code",
      "execution_count": null,
      "metadata": {
        "id": "kAGjfH4OaOeQ"
      },
      "outputs": [],
      "source": []
    }
  ],
  "metadata": {
    "accelerator": "GPU",
    "colab": {
      "authorship_tag": "ABX9TyNfeOUCW195N8eXq3cXc/vN",
      "include_colab_link": true,
      "mount_file_id": "1UAniQhk07tB8Lr7MhD2wsPeFHmoCKvVt",
      "provenance": []
    },
    "gpuClass": "standard",
    "kernelspec": {
      "display_name": "denbi",
      "language": "python",
      "name": "python3"
    },
    "language_info": {
      "codemirror_mode": {
        "name": "ipython",
        "version": 3
      },
      "file_extension": ".py",
      "mimetype": "text/x-python",
      "name": "python",
      "nbconvert_exporter": "python",
      "pygments_lexer": "ipython3",
      "version": "3.10.9"
    },
    "vscode": {
      "interpreter": {
        "hash": "9916ec425a7720c619af692dc5f31aa161584170cf4d82285a7e9a1de6e51f8c"
      }
    }
  },
  "nbformat": 4,
  "nbformat_minor": 0
}
