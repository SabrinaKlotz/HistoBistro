{
 "cells": [
  {
   "cell_type": "code",
   "execution_count": 1,
   "metadata": {},
   "outputs": [],
   "source": [
    "import pandas as pd\n",
    "from pathlib import Path\n",
    "import numpy as np\n",
    "import matplotlib.pyplot as plt"
   ]
  },
  {
   "attachments": {},
   "cell_type": "markdown",
   "metadata": {},
   "source": [
    "# User Study for multi-cohort MSI in CRC transformer paper\n",
    "\n",
    "The notebook evaluates the results of the pathologist evaluation of high attention patches of the multi-cohort model in the paper.\n",
    "\n",
    "Data properties:\n",
    "* 40 patients from the YCR-BCIP cohort\n",
    "* 20 patients with MSI-H ground truth, 20 patients with MSS ground truth\n",
    "* for each group 10 patients with the lowest classification scores and 10 patients with the highest classification scores were selected\n",
    "* 4 patches of the top100 highest scored attention patches per patient\n",
    "* 2 with the highest classification scores, 2 with the lowest classification scores"
   ]
  },
  {
   "cell_type": "code",
   "execution_count": 2,
   "metadata": {},
   "outputs": [],
   "source": [
    "# path to excel file with expert evaluations\n",
    "path = Path('/Users/sophia.wagner/Documents/PhD/projects/idkidc/MSI_user_study.xlsx')\n",
    "df = pd.read_excel(path, sheet_name='evaluation_sebastian')\n",
    "df2 = pd.read_excel(path, sheet_name='evaluation_tingying')"
   ]
  },
  {
   "cell_type": "code",
   "execution_count": 3,
   "metadata": {},
   "outputs": [],
   "source": [
    "# merge every 5 rows per patient to one row per patient\n",
    "categories = []\n",
    "for i in range(4):\n",
    "    categories.extend(list(df[f'tile {i}'].dropna().unique()))\n",
    "    categories.extend(list(df2[f'tile {i}'].dropna().unique()))\n",
    "categories = list(set(categories))\n",
    "categories.sort()"
   ]
  },
  {
   "cell_type": "code",
   "execution_count": 4,
   "metadata": {},
   "outputs": [
    {
     "data": {
      "text/plain": [
       "'signet ring cells'"
      ]
     },
     "execution_count": 4,
     "metadata": {},
     "output_type": "execute_result"
    }
   ],
   "source": [
    "# ignore rare categories\n",
    "categories.pop(categories.index('goblet cells'))\n",
    "categories.pop(categories.index('signet ring cells'))"
   ]
  },
  {
   "cell_type": "code",
   "execution_count": 5,
   "metadata": {},
   "outputs": [],
   "source": [
    "# merge with classification scores of the model's predictions\n",
    "scores = pd.read_excel(path, sheet_name='selected patients_10_low_high')\n",
    "df = pd.merge(df, scores, on='FILENAME')\n",
    "df2 = pd.merge(df2, scores, on='FILENAME')"
   ]
  },
  {
   "attachments": {},
   "cell_type": "markdown",
   "metadata": {},
   "source": [
    "### Check the frequency of patterns for the different cases"
   ]
  },
  {
   "cell_type": "code",
   "execution_count": 6,
   "metadata": {},
   "outputs": [],
   "source": [
    "%%capture\n",
    "# tile 0 and 1 with high classification scores\n",
    "eval_df, eval_df2 = {}, {}\n",
    "for c in categories:\n",
    "    eval_df[c] = [0] * 4\n",
    "    eval_df2[c] = [0] * 4\n",
    "for gt in range(2):\n",
    "    for hl in range(2):\n",
    "        for tile in range(2):\n",
    "            counts = df[df['ground_truth'] == gt][df['high_low'] == hl][f'tile {tile}'].value_counts()\n",
    "            counts2 = df2[df2['ground_truth'] == gt][df2['high_low'] == hl][f'tile {tile}'].value_counts()\n",
    "\n",
    "            for c in counts.keys():\n",
    "                try:\n",
    "                    eval_df[c][2 * gt + hl] += counts[c]\n",
    "                except KeyError:\n",
    "                    continue            \n",
    "            for c in counts2.keys():\n",
    "                try:\n",
    "                    eval_df2[c][2 * gt + hl] += counts2[c]\n",
    "                except KeyError:\n",
    "                    continue\n",
    "eval_df = pd.DataFrame(eval_df, index=['TN', 'FP', 'FN', 'TP']).T\n",
    "eval_df2 = pd.DataFrame(eval_df2, index=['TN', 'FP', 'FN', 'TP']).T"
   ]
  },
  {
   "cell_type": "code",
   "execution_count": 7,
   "metadata": {},
   "outputs": [
    {
     "data": {
      "text/plain": [
       "(                          TN  FP  FN  TP\n",
       " Granulocytes               0   0   0   0\n",
       " Plasma cell                0   0   0   0\n",
       " artifact                   0   0   0   0\n",
       " blood cells / vessels      2   7   3   0\n",
       " debris / necrotic tissue   0   0   0   0\n",
       " fat / adipose tissue       0   0   0   0\n",
       " lymphocytes                3   6   5   4\n",
       " mucin                      2   9  12   8\n",
       " mucosal epithelium         0   0   0   0\n",
       " smooth muscle              1   0   0   0\n",
       " stroma                     5   2   2   0\n",
       " tumor cells               20  20  20  20,\n",
       "                           TN  FP  FN  TP\n",
       " Granulocytes               1   3   0   0\n",
       " Plasma cell                1   1   2   0\n",
       " artifact                   0   0   0   0\n",
       " blood cells / vessels      1   6   3   0\n",
       " debris / necrotic tissue   1   0   0   0\n",
       " fat / adipose tissue       0   0   0   0\n",
       " lymphocytes                7   9   4   7\n",
       " mucin                      5  11  11   6\n",
       " mucosal epithelium         0   0   0   0\n",
       " smooth muscle              4   0   0   1\n",
       " stroma                     9  13  17  13\n",
       " tumor cells               19  19  20  20)"
      ]
     },
     "execution_count": 7,
     "metadata": {},
     "output_type": "execute_result"
    }
   ],
   "source": [
    "eval_df, eval_df2"
   ]
  },
  {
   "cell_type": "code",
   "execution_count": 8,
   "metadata": {},
   "outputs": [],
   "source": [
    "%%capture\n",
    "# tile 0 and 1 with high classification scores\n",
    "eval_df, eval_df2 = {}, {}\n",
    "for c in categories:\n",
    "    eval_df[c] = [0] * 4\n",
    "    eval_df2[c] = [0] * 4\n",
    "for gt in range(2):\n",
    "    for hl in range(2):\n",
    "        for tile in range(2):\n",
    "            try:\n",
    "                counts = df[df['ground_truth'] == gt][df['high_low'] == hl][f'tile {tile + 2}'].value_counts()\n",
    "            except KeyError:\n",
    "                continue\n",
    "            try:\n",
    "                counts2 = df2[df2['ground_truth'] == gt][df2['high_low'] == hl][f'tile {tile + 2}'].value_counts()\n",
    "            except KeyError:\n",
    "                continue\n",
    "            for c in counts.keys():\n",
    "                try:\n",
    "                    eval_df[c][2 * gt + hl] += counts[c]\n",
    "                except KeyError:\n",
    "                    continue            \n",
    "            for c in counts2.keys():\n",
    "                try:\n",
    "                    eval_df2[c][2 * gt + hl] += counts2[c]\n",
    "                except KeyError:\n",
    "                    continue\n",
    "eval_df = pd.DataFrame(eval_df, index=['TN', 'FP', 'FN', 'TP']).T\n",
    "eval_df2 = pd.DataFrame(eval_df2, index=['TN', 'FP', 'FN', 'TP']).T"
   ]
  },
  {
   "cell_type": "code",
   "execution_count": 9,
   "metadata": {},
   "outputs": [
    {
     "data": {
      "text/plain": [
       "(                          TN  FP  FN  TP\n",
       " Granulocytes               0   0   0   0\n",
       " Plasma cell                0   0   0   0\n",
       " artifact                   0   0   2   2\n",
       " blood cells / vessels      0   6   4   1\n",
       " debris / necrotic tissue   1   1   4   3\n",
       " fat / adipose tissue       0   0   0   0\n",
       " lymphocytes                1   5   6   2\n",
       " mucin                      0   2   4   0\n",
       " mucosal epithelium         0   0   0   0\n",
       " smooth muscle              2   0   0   1\n",
       " stroma                    14   6   1   6\n",
       " tumor cells               20  13  12  20,\n",
       "                           TN  FP  FN  TP\n",
       " Granulocytes               1   1   0   0\n",
       " Plasma cell                0   0   0   0\n",
       " artifact                   0   0   0   0\n",
       " blood cells / vessels      1   4   3   3\n",
       " debris / necrotic tissue   1   1   3   2\n",
       " fat / adipose tissue       0   0   3   0\n",
       " lymphocytes                4   5   4   5\n",
       " mucin                      0   5   5   0\n",
       " mucosal epithelium         0   5   6   0\n",
       " smooth muscle             14   4   3  11\n",
       " stroma                     4   8   4   3\n",
       " tumor cells               20  13  12  20)"
      ]
     },
     "execution_count": 9,
     "metadata": {},
     "output_type": "execute_result"
    }
   ],
   "source": [
    "eval_df, eval_df2"
   ]
  },
  {
   "cell_type": "code",
   "execution_count": 18,
   "metadata": {},
   "outputs": [],
   "source": [
    "%%capture\n",
    "# tile 0 and 1 with high classification scores\n",
    "eval_df, eval_df2 = {}, {}\n",
    "for c in categories:\n",
    "    eval_df[c] = [0] * 4\n",
    "    eval_df2[c] = [0] * 4\n",
    "for gt in range(2):\n",
    "    for hl in range(2):\n",
    "        for tile in range(4):\n",
    "            try:\n",
    "                counts = df[df['ground_truth'] == gt][df['high_low'] == hl][f'tile {tile}'].value_counts()\n",
    "            except KeyError:\n",
    "                continue\n",
    "            try:\n",
    "                counts2 = df2[df2['ground_truth'] == gt][df2['high_low'] == hl][f'tile {tile}'].value_counts()\n",
    "            except KeyError:\n",
    "                continue\n",
    "            for c in counts.keys():\n",
    "                try:\n",
    "                    eval_df[c][2 * gt + hl] += counts[c]\n",
    "                except KeyError:\n",
    "                    continue            \n",
    "            for c in counts2.keys():\n",
    "                try:\n",
    "                    eval_df2[c][2 * gt + hl] += counts2[c]\n",
    "                except KeyError:\n",
    "                    continue\n",
    "eval_df = pd.DataFrame(eval_df, index=['TN', 'FP', 'FN', 'TP']).T\n",
    "eval_df2 = pd.DataFrame(eval_df2, index=['TN', 'FP', 'FN', 'TP']).T"
   ]
  },
  {
   "cell_type": "code",
   "execution_count": 19,
   "metadata": {},
   "outputs": [
    {
     "data": {
      "text/plain": [
       "(                          TN  FP  FN  TP\n",
       " Granulocytes               0   0   0   0\n",
       " Plasma cell                0   0   0   0\n",
       " artifact                   0   0   2   2\n",
       " blood cells / vessels      2  13   7   1\n",
       " debris / necrotic tissue   1   1   4   3\n",
       " fat / adipose tissue       0   0   0   0\n",
       " lymphocytes                4  11  11   6\n",
       " mucin                      2  11  16   8\n",
       " mucosal epithelium         0   0   0   0\n",
       " smooth muscle              3   0   0   1\n",
       " stroma                    19   8   3   6\n",
       " tumor cells               40  33  32  40,\n",
       "                           TN  FP  FN  TP\n",
       " Granulocytes               2   4   0   0\n",
       " Plasma cell                1   1   2   0\n",
       " artifact                   0   0   0   0\n",
       " blood cells / vessels      2  10   6   3\n",
       " debris / necrotic tissue   2   1   3   2\n",
       " fat / adipose tissue       0   0   3   0\n",
       " lymphocytes               11  14   8  12\n",
       " mucin                      5  16  16   6\n",
       " mucosal epithelium         0   5   6   0\n",
       " smooth muscle             18   4   3  12\n",
       " stroma                    13  21  21  16\n",
       " tumor cells               39  32  32  40)"
      ]
     },
     "execution_count": 19,
     "metadata": {},
     "output_type": "execute_result"
    }
   ],
   "source": [
    "eval_df, eval_df2"
   ]
  },
  {
   "cell_type": "code",
   "execution_count": 24,
   "metadata": {},
   "outputs": [],
   "source": [
    "%%capture\n",
    "# all tiles with high attention scores\n",
    "eval_df, eval_df2 = {}, {}\n",
    "for c in categories:\n",
    "    eval_df[c] = [0] * 2\n",
    "    eval_df2[c] = [0] * 2\n",
    "for tile in range(4):\n",
    "    counts = df[f'tile {tile}'].value_counts()\n",
    "    counts2 = df2[f'tile {tile}'].value_counts()\n",
    "    for c in counts.keys():\n",
    "        try:\n",
    "            eval_df[c][tile // 2] += counts[c]\n",
    "        except KeyError:\n",
    "            pass    \n",
    "    for c in counts2.keys():\n",
    "        try:\n",
    "            eval_df2[c][tile // 2] += counts2[c]\n",
    "        except KeyError:\n",
    "            pass\n",
    "eval_df = pd.DataFrame(eval_df, index=['high', 'low']).T\n",
    "eval_df2 = pd.DataFrame(eval_df2, index=['high', 'low']).T"
   ]
  },
  {
   "cell_type": "code",
   "execution_count": 25,
   "metadata": {},
   "outputs": [
    {
     "data": {
      "text/plain": [
       "(                          high  low\n",
       " Granulocytes                 0    0\n",
       " Plasma cell                  0    0\n",
       " artifact                     0    4\n",
       " blood cells / vessels       12   11\n",
       " debris / necrotic tissue     0    9\n",
       " fat / adipose tissue         0    0\n",
       " lymphocytes                 18   14\n",
       " mucin                       31    6\n",
       " mucosal epithelium           0    0\n",
       " smooth muscle                1    3\n",
       " stroma                       9   27\n",
       " tumor cells                 80   65,\n",
       "                           high  low\n",
       " Granulocytes                 4    2\n",
       " Plasma cell                  4    0\n",
       " artifact                     0    0\n",
       " blood cells / vessels       10   11\n",
       " debris / necrotic tissue     1    7\n",
       " fat / adipose tissue         0    3\n",
       " lymphocytes                 27   18\n",
       " mucin                       33   10\n",
       " mucosal epithelium           0   11\n",
       " smooth muscle                5   32\n",
       " stroma                      52   19\n",
       " tumor cells                 78   65)"
      ]
     },
     "execution_count": 25,
     "metadata": {},
     "output_type": "execute_result"
    }
   ],
   "source": [
    "eval_df, eval_df2"
   ]
  },
  {
   "cell_type": "code",
   "execution_count": 26,
   "metadata": {},
   "outputs": [],
   "source": [
    "results = {}\n",
    "for hl in ['high', 'low']:\n",
    "    results[hl] = {\n",
    "        'mean': np.mean([eval_df[hl].values, eval_df2[hl].values], axis=0),\n",
    "        'std': np.std([eval_df[hl].values, eval_df2[hl].values], axis=0)\n",
    "    }"
   ]
  },
  {
   "cell_type": "code",
   "execution_count": 27,
   "metadata": {},
   "outputs": [
    {
     "data": {
      "text/plain": [
       "{'high': {'mean': array([ 2. ,  2. ,  0. , 11. ,  0.5,  0. , 22.5, 32. ,  0. ,  3. , 30.5,\n",
       "         79. ]),\n",
       "  'std': array([ 2. ,  2. ,  0. ,  1. ,  0.5,  0. ,  4.5,  1. ,  0. ,  2. , 21.5,\n",
       "          1. ])},\n",
       " 'low': {'mean': array([ 1. ,  0. ,  2. , 11. ,  8. ,  1.5, 16. ,  8. ,  5.5, 17.5, 23. ,\n",
       "         65. ]),\n",
       "  'std': array([ 1. ,  0. ,  2. ,  0. ,  1. ,  1.5,  2. ,  2. ,  5.5, 14.5,  4. ,\n",
       "          0. ])}}"
      ]
     },
     "execution_count": 27,
     "metadata": {},
     "output_type": "execute_result"
    }
   ],
   "source": [
    "results"
   ]
  },
  {
   "attachments": {},
   "cell_type": "markdown",
   "metadata": {},
   "source": [
    "### Calculate statistisc whether patches with high and low classification scores follow the same distribution"
   ]
  },
  {
   "cell_type": "code",
   "execution_count": 28,
   "metadata": {},
   "outputs": [
    {
     "name": "stdout",
     "output_type": "stream",
     "text": [
      "Chi-squared statistic: 44.64901365330403\n",
      "P-value: 5.59249882941685e-06\n"
     ]
    }
   ],
   "source": [
    "from scipy.stats import chi2_contingency\n",
    "\n",
    "# Create a contingency table from the two columns\n",
    "observed = np.array([results['high']['mean'], results['low']['mean']])\n",
    "\n",
    "# Calculate chi-square test and obtain the p-value\n",
    "chi2, p_value, _, _ = chi2_contingency(observed)\n",
    "\n",
    "print(\"Chi-squared statistic:\", chi2)\n",
    "print(\"P-value:\", p_value)\n"
   ]
  },
  {
   "attachments": {},
   "cell_type": "markdown",
   "metadata": {},
   "source": [
    "### Plotting the results"
   ]
  },
  {
   "cell_type": "code",
   "execution_count": 20,
   "metadata": {},
   "outputs": [
    {
     "name": "stderr",
     "output_type": "stream",
     "text": [
      "/var/folders/l4/hfjz7m7n4cq64bcml5ktlvn8ck1t7w/T/ipykernel_8041/1193745167.py:10: MatplotlibDeprecationWarning: The get_cmap function was deprecated in Matplotlib 3.7 and will be removed two minor releases later. Use ``matplotlib.colormaps[name]`` or ``matplotlib.colormaps.get_cmap(obj)`` instead.\n",
      "  cmap = plt.cm.get_cmap('twilight')\n"
     ]
    },
    {
     "ename": "ValueError",
     "evalue": "s must be a scalar, or float array-like with the same size as x and y",
     "output_type": "error",
     "traceback": [
      "\u001b[0;31m---------------------------------------------------------------------------\u001b[0m",
      "\u001b[0;31mValueError\u001b[0m                                Traceback (most recent call last)",
      "Cell \u001b[0;32mIn[20], line 14\u001b[0m\n\u001b[1;32m     11\u001b[0m colors \u001b[39m=\u001b[39m cmap(np\u001b[39m.\u001b[39marange(\u001b[39m9\u001b[39m) \u001b[39m/\u001b[39m \u001b[39m9\u001b[39m)\n\u001b[1;32m     13\u001b[0m \u001b[39m# Plot the bubble chart\u001b[39;00m\n\u001b[0;32m---> 14\u001b[0m plt\u001b[39m.\u001b[39;49mscatter(X, Y, s\u001b[39m=\u001b[39;49msize, c\u001b[39m=\u001b[39;49mcolors, label\u001b[39m=\u001b[39;49mvalues)\n\u001b[1;32m     15\u001b[0m \u001b[39m# plt.plot(X.flatten(), Y.flatten(), label=values)\u001b[39;00m\n\u001b[1;32m     16\u001b[0m plt\u001b[39m.\u001b[39maxis(\u001b[39m'\u001b[39m\u001b[39moff\u001b[39m\u001b[39m'\u001b[39m)\n",
      "File \u001b[0;32m~/miniconda3/envs/idkidc/lib/python3.10/site-packages/matplotlib/pyplot.py:2862\u001b[0m, in \u001b[0;36mscatter\u001b[0;34m(x, y, s, c, marker, cmap, norm, vmin, vmax, alpha, linewidths, edgecolors, plotnonfinite, data, **kwargs)\u001b[0m\n\u001b[1;32m   2857\u001b[0m \u001b[39m@_copy_docstring_and_deprecators\u001b[39m(Axes\u001b[39m.\u001b[39mscatter)\n\u001b[1;32m   2858\u001b[0m \u001b[39mdef\u001b[39;00m \u001b[39mscatter\u001b[39m(\n\u001b[1;32m   2859\u001b[0m         x, y, s\u001b[39m=\u001b[39m\u001b[39mNone\u001b[39;00m, c\u001b[39m=\u001b[39m\u001b[39mNone\u001b[39;00m, marker\u001b[39m=\u001b[39m\u001b[39mNone\u001b[39;00m, cmap\u001b[39m=\u001b[39m\u001b[39mNone\u001b[39;00m, norm\u001b[39m=\u001b[39m\u001b[39mNone\u001b[39;00m,\n\u001b[1;32m   2860\u001b[0m         vmin\u001b[39m=\u001b[39m\u001b[39mNone\u001b[39;00m, vmax\u001b[39m=\u001b[39m\u001b[39mNone\u001b[39;00m, alpha\u001b[39m=\u001b[39m\u001b[39mNone\u001b[39;00m, linewidths\u001b[39m=\u001b[39m\u001b[39mNone\u001b[39;00m, \u001b[39m*\u001b[39m,\n\u001b[1;32m   2861\u001b[0m         edgecolors\u001b[39m=\u001b[39m\u001b[39mNone\u001b[39;00m, plotnonfinite\u001b[39m=\u001b[39m\u001b[39mFalse\u001b[39;00m, data\u001b[39m=\u001b[39m\u001b[39mNone\u001b[39;00m, \u001b[39m*\u001b[39m\u001b[39m*\u001b[39mkwargs):\n\u001b[0;32m-> 2862\u001b[0m     __ret \u001b[39m=\u001b[39m gca()\u001b[39m.\u001b[39;49mscatter(\n\u001b[1;32m   2863\u001b[0m         x, y, s\u001b[39m=\u001b[39;49ms, c\u001b[39m=\u001b[39;49mc, marker\u001b[39m=\u001b[39;49mmarker, cmap\u001b[39m=\u001b[39;49mcmap, norm\u001b[39m=\u001b[39;49mnorm,\n\u001b[1;32m   2864\u001b[0m         vmin\u001b[39m=\u001b[39;49mvmin, vmax\u001b[39m=\u001b[39;49mvmax, alpha\u001b[39m=\u001b[39;49malpha, linewidths\u001b[39m=\u001b[39;49mlinewidths,\n\u001b[1;32m   2865\u001b[0m         edgecolors\u001b[39m=\u001b[39;49medgecolors, plotnonfinite\u001b[39m=\u001b[39;49mplotnonfinite,\n\u001b[1;32m   2866\u001b[0m         \u001b[39m*\u001b[39;49m\u001b[39m*\u001b[39;49m({\u001b[39m\"\u001b[39;49m\u001b[39mdata\u001b[39;49m\u001b[39m\"\u001b[39;49m: data} \u001b[39mif\u001b[39;49;00m data \u001b[39mis\u001b[39;49;00m \u001b[39mnot\u001b[39;49;00m \u001b[39mNone\u001b[39;49;00m \u001b[39melse\u001b[39;49;00m {}), \u001b[39m*\u001b[39;49m\u001b[39m*\u001b[39;49mkwargs)\n\u001b[1;32m   2867\u001b[0m     sci(__ret)\n\u001b[1;32m   2868\u001b[0m     \u001b[39mreturn\u001b[39;00m __ret\n",
      "File \u001b[0;32m~/miniconda3/envs/idkidc/lib/python3.10/site-packages/matplotlib/__init__.py:1442\u001b[0m, in \u001b[0;36m_preprocess_data.<locals>.inner\u001b[0;34m(ax, data, *args, **kwargs)\u001b[0m\n\u001b[1;32m   1439\u001b[0m \u001b[39m@functools\u001b[39m\u001b[39m.\u001b[39mwraps(func)\n\u001b[1;32m   1440\u001b[0m \u001b[39mdef\u001b[39;00m \u001b[39minner\u001b[39m(ax, \u001b[39m*\u001b[39margs, data\u001b[39m=\u001b[39m\u001b[39mNone\u001b[39;00m, \u001b[39m*\u001b[39m\u001b[39m*\u001b[39mkwargs):\n\u001b[1;32m   1441\u001b[0m     \u001b[39mif\u001b[39;00m data \u001b[39mis\u001b[39;00m \u001b[39mNone\u001b[39;00m:\n\u001b[0;32m-> 1442\u001b[0m         \u001b[39mreturn\u001b[39;00m func(ax, \u001b[39m*\u001b[39;49m\u001b[39mmap\u001b[39;49m(sanitize_sequence, args), \u001b[39m*\u001b[39;49m\u001b[39m*\u001b[39;49mkwargs)\n\u001b[1;32m   1444\u001b[0m     bound \u001b[39m=\u001b[39m new_sig\u001b[39m.\u001b[39mbind(ax, \u001b[39m*\u001b[39margs, \u001b[39m*\u001b[39m\u001b[39m*\u001b[39mkwargs)\n\u001b[1;32m   1445\u001b[0m     auto_label \u001b[39m=\u001b[39m (bound\u001b[39m.\u001b[39marguments\u001b[39m.\u001b[39mget(label_namer)\n\u001b[1;32m   1446\u001b[0m                   \u001b[39mor\u001b[39;00m bound\u001b[39m.\u001b[39mkwargs\u001b[39m.\u001b[39mget(label_namer))\n",
      "File \u001b[0;32m~/miniconda3/envs/idkidc/lib/python3.10/site-packages/matplotlib/axes/_axes.py:4593\u001b[0m, in \u001b[0;36mAxes.scatter\u001b[0;34m(self, x, y, s, c, marker, cmap, norm, vmin, vmax, alpha, linewidths, edgecolors, plotnonfinite, **kwargs)\u001b[0m\n\u001b[1;32m   4589\u001b[0m s \u001b[39m=\u001b[39m np\u001b[39m.\u001b[39mma\u001b[39m.\u001b[39mravel(s)\n\u001b[1;32m   4590\u001b[0m \u001b[39mif\u001b[39;00m (\u001b[39mlen\u001b[39m(s) \u001b[39mnot\u001b[39;00m \u001b[39min\u001b[39;00m (\u001b[39m1\u001b[39m, x\u001b[39m.\u001b[39msize) \u001b[39mor\u001b[39;00m\n\u001b[1;32m   4591\u001b[0m         (\u001b[39mnot\u001b[39;00m np\u001b[39m.\u001b[39missubdtype(s\u001b[39m.\u001b[39mdtype, np\u001b[39m.\u001b[39mfloating) \u001b[39mand\u001b[39;00m\n\u001b[1;32m   4592\u001b[0m          \u001b[39mnot\u001b[39;00m np\u001b[39m.\u001b[39missubdtype(s\u001b[39m.\u001b[39mdtype, np\u001b[39m.\u001b[39minteger))):\n\u001b[0;32m-> 4593\u001b[0m     \u001b[39mraise\u001b[39;00m \u001b[39mValueError\u001b[39;00m(\n\u001b[1;32m   4594\u001b[0m         \u001b[39m\"\u001b[39m\u001b[39ms must be a scalar, \u001b[39m\u001b[39m\"\u001b[39m\n\u001b[1;32m   4595\u001b[0m         \u001b[39m\"\u001b[39m\u001b[39mor float array-like with the same size as x and y\u001b[39m\u001b[39m\"\u001b[39m)\n\u001b[1;32m   4597\u001b[0m \u001b[39m# get the original edgecolor the user passed before we normalize\u001b[39;00m\n\u001b[1;32m   4598\u001b[0m orig_edgecolor \u001b[39m=\u001b[39m edgecolors\n",
      "\u001b[0;31mValueError\u001b[0m: s must be a scalar, or float array-like with the same size as x and y"
     ]
    },
    {
     "data": {
      "image/png": "[encoded data removed]",
      "text/plain": [
       "<Figure size 640x480 with 1 Axes>"
      ]
     },
     "metadata": {},
     "output_type": "display_data"
    }
   ],
   "source": [
    "# Values for the bubbles\n",
    "values = eval_df['FN'].values / 40\n",
    "size = np.sqrt(values) * 8000\n",
    "\n",
    "# Create x and y coordinates for the bubbles\n",
    "X, Y = np.meshgrid(np.arange(3), np.arange(3))\n",
    "\n",
    "cmap = plt.cm.get_cmap('twilight')\n",
    "colors = cmap(np.arange(9) / 9)\n",
    "\n",
    "# Plot the bubble chart\n",
    "plt.scatter(X, Y, s=size, c=colors, label=values)\n",
    "# plt.plot(X.flatten(), Y.flatten(), label=values)\n",
    "plt.axis('off')\n",
    "plt.xlim(-1, 3)\n",
    "plt.ylim(-1, 3)\n",
    "plt.show()"
   ]
  },
  {
   "cell_type": "code",
   "execution_count": 21,
   "metadata": {},
   "outputs": [
    {
     "name": "stderr",
     "output_type": "stream",
     "text": [
      "/var/folders/l4/hfjz7m7n4cq64bcml5ktlvn8ck1t7w/T/ipykernel_8041/994094747.py:1: MatplotlibDeprecationWarning: The get_cmap function was deprecated in Matplotlib 3.7 and will be removed two minor releases later. Use ``matplotlib.colormaps[name]`` or ``matplotlib.colormaps.get_cmap(obj)`` instead.\n",
      "  cmap = plt.cm.get_cmap('twilight')\n"
     ]
    }
   ],
   "source": [
    "cmap = plt.cm.get_cmap('twilight')\n",
    "colors = cmap(np.arange(9) / 9 + 0.2 % 1)"
   ]
  },
  {
   "attachments": {},
   "cell_type": "markdown",
   "metadata": {},
   "source": [
    "Plot bar plot per tissue category"
   ]
  },
  {
   "cell_type": "code",
   "execution_count": 29,
   "metadata": {},
   "outputs": [],
   "source": [
    "eval_df = eval_df.sort_values(by=['high'], ascending=False)"
   ]
  },
  {
   "cell_type": "code",
   "execution_count": 30,
   "metadata": {},
   "outputs": [
    {
     "data": {
      "text/plain": [
       "(-0.8799999999999999, 11.879999999999999, -0.853125, 0.0)"
      ]
     },
     "execution_count": 30,
     "metadata": {},
     "output_type": "execute_result"
    },
    {
     "data": {
      "image/png": "[encoded data removed]",
      "text/plain": [
       "<Figure size 1400x200 with 1 Axes>"
      ]
     },
     "metadata": {},
     "output_type": "display_data"
    }
   ],
   "source": [
    "case = 'low'\n",
    "fig, ax = plt.subplots(figsize=(14, 2))\n",
    "ax.bar(np.arange(len(eval_df)), -eval_df[case] / 80, width=0.6, color=colors)\n",
    "labels = [f'{(eval_df[case][i] / 80):.2f}' for i in range(len(eval_df))]\n",
    "ax.bar_label(ax.containers[0], labels=labels, label_type='edge')\n",
    "plt.axis('off')\n",
    "# plt.savefig(figure_path / f'bar_{case}.svg',  format='svg', bbox_inches='tight', pad_inches=0)"
   ]
  },
  {
   "cell_type": "code",
   "execution_count": 31,
   "metadata": {},
   "outputs": [
    {
     "data": {
      "text/html": [
       "<div>\n",
       "<style scoped>\n",
       "    .dataframe tbody tr th:only-of-type {\n",
       "        vertical-align: middle;\n",
       "    }\n",
       "\n",
       "    .dataframe tbody tr th {\n",
       "        vertical-align: top;\n",
       "    }\n",
       "\n",
       "    .dataframe thead th {\n",
       "        text-align: right;\n",
       "    }\n",
       "</style>\n",
       "<table border=\"1\" class=\"dataframe\">\n",
       "  <thead>\n",
       "    <tr style=\"text-align: right;\">\n",
       "      <th></th>\n",
       "      <th>high</th>\n",
       "      <th>low</th>\n",
       "    </tr>\n",
       "  </thead>\n",
       "  <tbody>\n",
       "    <tr>\n",
       "      <th>tumor cells</th>\n",
       "      <td>80</td>\n",
       "      <td>65</td>\n",
       "    </tr>\n",
       "    <tr>\n",
       "      <th>mucin</th>\n",
       "      <td>31</td>\n",
       "      <td>6</td>\n",
       "    </tr>\n",
       "    <tr>\n",
       "      <th>lymphocytes</th>\n",
       "      <td>18</td>\n",
       "      <td>14</td>\n",
       "    </tr>\n",
       "    <tr>\n",
       "      <th>blood cells / vessels</th>\n",
       "      <td>12</td>\n",
       "      <td>11</td>\n",
       "    </tr>\n",
       "    <tr>\n",
       "      <th>stroma</th>\n",
       "      <td>9</td>\n",
       "      <td>27</td>\n",
       "    </tr>\n",
       "    <tr>\n",
       "      <th>smooth muscle</th>\n",
       "      <td>1</td>\n",
       "      <td>3</td>\n",
       "    </tr>\n",
       "    <tr>\n",
       "      <th>Granulocytes</th>\n",
       "      <td>0</td>\n",
       "      <td>0</td>\n",
       "    </tr>\n",
       "    <tr>\n",
       "      <th>Plasma cell</th>\n",
       "      <td>0</td>\n",
       "      <td>0</td>\n",
       "    </tr>\n",
       "    <tr>\n",
       "      <th>artifact</th>\n",
       "      <td>0</td>\n",
       "      <td>4</td>\n",
       "    </tr>\n",
       "    <tr>\n",
       "      <th>debris / necrotic tissue</th>\n",
       "      <td>0</td>\n",
       "      <td>9</td>\n",
       "    </tr>\n",
       "    <tr>\n",
       "      <th>fat / adipose tissue</th>\n",
       "      <td>0</td>\n",
       "      <td>0</td>\n",
       "    </tr>\n",
       "    <tr>\n",
       "      <th>mucosal epithelium</th>\n",
       "      <td>0</td>\n",
       "      <td>0</td>\n",
       "    </tr>\n",
       "  </tbody>\n",
       "</table>\n",
       "</div>"
      ],
      "text/plain": [
       "                          high  low\n",
       "tumor cells                 80   65\n",
       "mucin                       31    6\n",
       "lymphocytes                 18   14\n",
       "blood cells / vessels       12   11\n",
       "stroma                       9   27\n",
       "smooth muscle                1    3\n",
       "Granulocytes                 0    0\n",
       "Plasma cell                  0    0\n",
       "artifact                     0    4\n",
       "debris / necrotic tissue     0    9\n",
       "fat / adipose tissue         0    0\n",
       "mucosal epithelium           0    0"
      ]
     },
     "execution_count": 31,
     "metadata": {},
     "output_type": "execute_result"
    }
   ],
   "source": [
    "eval_df"
   ]
  },
  {
   "cell_type": "code",
   "execution_count": 32,
   "metadata": {},
   "outputs": [],
   "source": [
    "ind = results['high']['mean'].argsort()[::-1]"
   ]
  },
  {
   "cell_type": "code",
   "execution_count": 33,
   "metadata": {},
   "outputs": [
    {
     "data": {
      "text/plain": [
       "(-0.8799999999999999, 11.879999999999999, 0.0, 1.05)"
      ]
     },
     "execution_count": 33,
     "metadata": {},
     "output_type": "execute_result"
    },
    {
     "data": {
      "image/png": "[encoded data removed]",
      "text/plain": [
       "<Figure size 1600x200 with 1 Axes>"
      ]
     },
     "metadata": {},
     "output_type": "display_data"
    }
   ],
   "source": [
    "case = 'high'\n",
    "n = len(results[case]['mean'])\n",
    "fig, ax = plt.subplots(figsize=(16, 2))\n",
    "bars = ax.bar(np.arange(n), results[case]['mean'][ind] / 80, yerr=results[case]['std'][ind] / 80, width=0.6, color=colors)\n",
    "labels = [f\"{(results[case]['mean'][ind][i] / 80):.2f}\" for i in range(n)]\n",
    "ax.bar_label(bars, labels=labels, label_type='edge')\n",
    "plt.axis('off')\n",
    "# plt.savefig(figure_path / f'bar_{case}_error_bars.svg',  format='svg', bbox_inches='tight', pad_inches=0)"
   ]
  },
  {
   "cell_type": "code",
   "execution_count": 34,
   "metadata": {},
   "outputs": [
    {
     "data": {
      "text/plain": [
       "(-0.8799999999999999, 11.879999999999999, -0.853125, 0.0)"
      ]
     },
     "execution_count": 34,
     "metadata": {},
     "output_type": "execute_result"
    },
    {
     "data": {
      "image/png": "[encoded data removed]",
      "text/plain": [
       "<Figure size 1600x200 with 1 Axes>"
      ]
     },
     "metadata": {},
     "output_type": "display_data"
    }
   ],
   "source": [
    "case = 'low'\n",
    "n = len(results[case]['mean'])\n",
    "fig, ax = plt.subplots(figsize=(16, 2))\n",
    "bars = ax.bar(np.arange(n), -results[case]['mean'][ind] / 80, yerr=results[case]['std'][ind] / 80, width=0.6, color=colors)\n",
    "labels = [f\"{(results[case]['mean'][ind][i] / 80):.2f}\" for i in range(n)]\n",
    "ax.bar_label(bars, labels=labels, label_type='edge')\n",
    "plt.axis('off')\n",
    "# plt.savefig(figure_path / f'bar_{case}_error_bars.svg',  format='svg', bbox_inches='tight', pad_inches=0)"
   ]
  },
  {
   "cell_type": "code",
   "execution_count": 35,
   "metadata": {},
   "outputs": [
    {
     "name": "stdout",
     "output_type": "stream",
     "text": [
      "0, tumor cells\n",
      "1, mucin\n",
      "2, stroma\n",
      "3, lymphocytes\n",
      "4, blood cells / vessels\n",
      "5, smooth muscle\n",
      "6, Plasma cell\n",
      "7, Granulocytes\n",
      "8, debris / necrotic tissue\n",
      "9, mucosal epithelium\n",
      "10, fat / adipose tissue\n",
      "11, artifact \n"
     ]
    }
   ],
   "source": [
    "for i in range(n):\n",
    "    print(f'{i}, {categories[ind[i]]}')"
   ]
  },
  {
   "cell_type": "code",
   "execution_count": null,
   "metadata": {},
   "outputs": [],
   "source": []
  }
 ],
 "metadata": {
  "kernelspec": {
   "display_name": "idkidc",
   "language": "python",
   "name": "python3"
  },
  "language_info": {
   "codemirror_mode": {
    "name": "ipython",
    "version": 3
   },
   "file_extension": ".py",
   "mimetype": "text/x-python",
   "name": "python",
   "nbconvert_exporter": "python",
   "pygments_lexer": "ipython3",
   "version": "3.10.10"
  },
  "orig_nbformat": 4
 },
 "nbformat": 4,
 "nbformat_minor": 2
}
